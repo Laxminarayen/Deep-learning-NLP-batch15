{
  "nbformat": 4,
  "nbformat_minor": 0,
  "metadata": {
    "colab": {
      "name": "Word_Embeddings.ipynb",
      "provenance": []
    },
    "kernelspec": {
      "name": "python3",
      "display_name": "Python 3"
    },
    "language_info": {
      "name": "python"
    }
  },
  "cells": [
    {
      "cell_type": "markdown",
      "metadata": {
        "id": "a1PaY1CU4Ykx"
      },
      "source": [
        "# Text Representation with Feature Engineering\n",
        "\n",
        "###Exploring Word Embeddings with New Deep Learning Models\n",
        "\n",
        "We have discussed in the previous sub-unit that Feature Engineering is the secret sauce to creating superior and better performing machine learning models. \n",
        "\n",
        "Traditional (count-based) feature engineering strategies for textual data involve models belonging to a family of models popularly known as the Bag of Words model. This includes term frequencies, TF-IDF (term frequency-inverse document frequency), N-grams and so on. While they are effective methods for extracting features from text, due to the inherent nature of the model being just a bag of unstructured words, we lose additional information like the semantics, structure, sequence and context around nearby words in each text document. \n",
        "\n",
        "This forms as enough motivation for us to explore more sophisticated models which can capture this information and give us features which are vector representation of words, popularly known as embeddings.\n",
        "\n",
        "Here we will explore the following feature engineering techniques:\n",
        "\n",
        "- Word2Vec\n",
        "- GloVe\n",
        "- FastText\n",
        "\n",
        "Predictive methods like Neural Network based language models try to predict words from its neighboring words looking at word sequences in the corpus and in the process it learns distributed representations giving us dense word embeddings. We will be focusing on these predictive methods in this article."
      ]
    },
    {
      "cell_type": "code",
      "metadata": {
        "colab": {
          "base_uri": "https://localhost:8080/",
          "height": 297
        },
        "id": "fTkOkeNt4ISw",
        "outputId": "8f396f9a-56f8-4e22-8993-4815cd6f3ce1"
      },
      "source": [
        "import pandas as pd\n",
        "import numpy as np\n",
        "\n",
        "pd.options.display.max_colwidth = 200\n",
        "\n",
        "corpus = ['The sky is blue and beautiful.',\n",
        "          'Love this blue and beautiful sky!',\n",
        "          'The quick brown fox jumps over the lazy dog.',\n",
        "          \"A king's breakfast has sausages, ham, bacon, eggs, toast and beans\",\n",
        "          'I love green eggs, ham, sausages and bacon!',\n",
        "          'The brown fox is quick and the blue dog is lazy!',\n",
        "          'The sky is very blue and the sky is very beautiful today',\n",
        "          'The dog is lazy but the brown fox is quick!'    \n",
        "]\n",
        "labels = ['weather', 'weather', 'animals', 'food', 'food', 'animals', 'weather', 'animals']\n",
        "\n",
        "corpus = np.array(corpus)\n",
        "corpus_df = pd.DataFrame({'Document': corpus, \n",
        "                          'Category': labels})\n",
        "corpus_df = corpus_df[['Document', 'Category']]\n",
        "corpus_df"
      ],
      "execution_count": null,
      "outputs": [
        {
          "output_type": "execute_result",
          "data": {
            "text/html": [
              "<div>\n",
              "<style scoped>\n",
              "    .dataframe tbody tr th:only-of-type {\n",
              "        vertical-align: middle;\n",
              "    }\n",
              "\n",
              "    .dataframe tbody tr th {\n",
              "        vertical-align: top;\n",
              "    }\n",
              "\n",
              "    .dataframe thead th {\n",
              "        text-align: right;\n",
              "    }\n",
              "</style>\n",
              "<table border=\"1\" class=\"dataframe\">\n",
              "  <thead>\n",
              "    <tr style=\"text-align: right;\">\n",
              "      <th></th>\n",
              "      <th>Document</th>\n",
              "      <th>Category</th>\n",
              "    </tr>\n",
              "  </thead>\n",
              "  <tbody>\n",
              "    <tr>\n",
              "      <th>0</th>\n",
              "      <td>The sky is blue and beautiful.</td>\n",
              "      <td>weather</td>\n",
              "    </tr>\n",
              "    <tr>\n",
              "      <th>1</th>\n",
              "      <td>Love this blue and beautiful sky!</td>\n",
              "      <td>weather</td>\n",
              "    </tr>\n",
              "    <tr>\n",
              "      <th>2</th>\n",
              "      <td>The quick brown fox jumps over the lazy dog.</td>\n",
              "      <td>animals</td>\n",
              "    </tr>\n",
              "    <tr>\n",
              "      <th>3</th>\n",
              "      <td>A king's breakfast has sausages, ham, bacon, eggs, toast and beans</td>\n",
              "      <td>food</td>\n",
              "    </tr>\n",
              "    <tr>\n",
              "      <th>4</th>\n",
              "      <td>I love green eggs, ham, sausages and bacon!</td>\n",
              "      <td>food</td>\n",
              "    </tr>\n",
              "    <tr>\n",
              "      <th>5</th>\n",
              "      <td>The brown fox is quick and the blue dog is lazy!</td>\n",
              "      <td>animals</td>\n",
              "    </tr>\n",
              "    <tr>\n",
              "      <th>6</th>\n",
              "      <td>The sky is very blue and the sky is very beautiful today</td>\n",
              "      <td>weather</td>\n",
              "    </tr>\n",
              "    <tr>\n",
              "      <th>7</th>\n",
              "      <td>The dog is lazy but the brown fox is quick!</td>\n",
              "      <td>animals</td>\n",
              "    </tr>\n",
              "  </tbody>\n",
              "</table>\n",
              "</div>"
            ],
            "text/plain": [
              "                                                             Document Category\n",
              "0                                      The sky is blue and beautiful.  weather\n",
              "1                                   Love this blue and beautiful sky!  weather\n",
              "2                        The quick brown fox jumps over the lazy dog.  animals\n",
              "3  A king's breakfast has sausages, ham, bacon, eggs, toast and beans     food\n",
              "4                         I love green eggs, ham, sausages and bacon!     food\n",
              "5                    The brown fox is quick and the blue dog is lazy!  animals\n",
              "6            The sky is very blue and the sky is very beautiful today  weather\n",
              "7                         The dog is lazy but the brown fox is quick!  animals"
            ]
          },
          "metadata": {
            "tags": []
          },
          "execution_count": 1
        }
      ]
    },
    {
      "cell_type": "code",
      "metadata": {
        "colab": {
          "base_uri": "https://localhost:8080/"
        },
        "id": "Q-zGy2qu4hJK",
        "outputId": "ba516325-0a12-4550-c4c4-228aa9a6e600"
      },
      "source": [
        "import nltk\n",
        "import re\n",
        "nltk.download('stopwords')\n",
        "nltk.download('punkt')\n",
        "stop_words = nltk.corpus.stopwords.words('english')\n",
        "\n",
        "def normalize_document(doc):\n",
        "    # lower case and remove special characters\\whitespaces\n",
        "    doc = re.sub(r'[^a-zA-Z\\s]', '', doc, re.I|re.A)\n",
        "    doc = doc.lower()\n",
        "    doc = doc.strip()\n",
        "    # tokenize document\n",
        "    tokens = nltk.word_tokenize(doc)\n",
        "    # filter stopwords out of document\n",
        "    filtered_tokens = [token for token in tokens if token not in stop_words]\n",
        "    # re-create document from filtered tokens\n",
        "    doc = ' '.join(filtered_tokens)\n",
        "    return doc\n",
        "\n",
        "normalize_corpus = np.vectorize(normalize_document)\n",
        "\n",
        "norm_corpus = normalize_corpus(corpus)\n",
        "norm_corpus"
      ],
      "execution_count": null,
      "outputs": [
        {
          "output_type": "stream",
          "text": [
            "[nltk_data] Downloading package stopwords to /root/nltk_data...\n",
            "[nltk_data]   Unzipping corpora/stopwords.zip.\n",
            "[nltk_data] Downloading package punkt to /root/nltk_data...\n",
            "[nltk_data]   Unzipping tokenizers/punkt.zip.\n"
          ],
          "name": "stdout"
        },
        {
          "output_type": "execute_result",
          "data": {
            "text/plain": [
              "array(['sky blue beautiful', 'love blue beautiful sky',\n",
              "       'quick brown fox jumps lazy dog',\n",
              "       'kings breakfast sausages ham bacon eggs toast beans',\n",
              "       'love green eggs ham sausages bacon',\n",
              "       'brown fox quick blue dog lazy', 'sky blue sky beautiful today',\n",
              "       'dog lazy brown fox quick'], dtype='<U51')"
            ]
          },
          "metadata": {
            "tags": []
          },
          "execution_count": 3
        }
      ]
    },
    {
      "cell_type": "markdown",
      "metadata": {
        "id": "JqK267es5g8s"
      },
      "source": [
        "## Word2vec\n",
        "- Was created by Google - 2013\n",
        "- They give continuous dense vector representation of each words \n",
        "- Dense vector representation - Help you to derive the contextual and semantic simarity!\n",
        "- These models take in massive corpus, Create A vocab - and generate dense word embeddings! \n"
      ]
    },
    {
      "cell_type": "code",
      "metadata": {
        "id": "J37XlT7X5Z7y"
      },
      "source": [
        "import nltk \n",
        "from gensim.models import word2vec"
      ],
      "execution_count": null,
      "outputs": []
    },
    {
      "cell_type": "code",
      "metadata": {
        "id": "GlA_wnQ77XG6"
      },
      "source": [
        "#Context words for the single word\n",
        "Indian ___________ is not a Monarchy but Republican\n",
        "1. Government\n",
        "2. Democracy \n",
        "3. Constitution \n",
        "4. Governance"
      ],
      "execution_count": null,
      "outputs": []
    },
    {
      "cell_type": "code",
      "metadata": {
        "colab": {
          "base_uri": "https://localhost:8080/"
        },
        "id": "mrgWgi8c6v3r",
        "outputId": "356298a5-b1ce-44d5-aef1-d8da64327ded"
      },
      "source": [
        "tokenized_corpus = [nltk.word_tokenize(doc) for doc in norm_corpus]\n",
        "\n",
        "#Setting values for various params \n",
        "feature_size = 15 # Word Vector dimensionality (300)\n",
        "window_size = 20 # context window size \n",
        "min_word_count = 1 #This a way to remove infrequent words (Min number of occurence in the no. of docs)\n",
        "sample = 1e-3  #1x10^-3 #Downsample frequent words or randomly drop some frequently occuring words\n",
        "sg = 1 # 1 - for CBOW \n",
        "\n",
        "w2v_model = word2vec.Word2Vec(tokenized_corpus, size = feature_size,window = window_size, min_count = min_word_count,sample =sample,sg = sg,iter = 5000)\n",
        "\n",
        "w2v_model"
      ],
      "execution_count": 11,
      "outputs": [
        {
          "output_type": "execute_result",
          "data": {
            "text/plain": [
              "<gensim.models.word2vec.Word2Vec at 0x7f4e11e50c50>"
            ]
          },
          "metadata": {
            "tags": []
          },
          "execution_count": 11
        }
      ]
    },
    {
      "cell_type": "code",
      "metadata": {
        "colab": {
          "base_uri": "https://localhost:8080/"
        },
        "id": "o1epge3Y9Q22",
        "outputId": "1fbd63c8-4934-42f2-fb8e-cbfc1d59061e"
      },
      "source": [
        "w2v_model['dog']"
      ],
      "execution_count": null,
      "outputs": [
        {
          "output_type": "stream",
          "text": [
            "/usr/local/lib/python3.7/dist-packages/ipykernel_launcher.py:1: DeprecationWarning: Call to deprecated `__getitem__` (Method will be removed in 4.0.0, use self.wv.__getitem__() instead).\n",
            "  \"\"\"Entry point for launching an IPython kernel.\n"
          ],
          "name": "stderr"
        },
        {
          "output_type": "execute_result",
          "data": {
            "text/plain": [
              "array([ 0.30798796,  0.55466413, -0.47286215, -0.5430432 , -1.2323371 ,\n",
              "        1.1574123 , -0.51407427,  0.17141826,  0.5427381 ,  0.9661018 ,\n",
              "        0.2538087 , -0.28390467, -0.85217625, -0.45340708,  0.5800874 ],\n",
              "      dtype=float32)"
            ]
          },
          "metadata": {
            "tags": []
          },
          "execution_count": 10
        }
      ]
    },
    {
      "cell_type": "markdown",
      "metadata": {
        "id": "wzAebi79_gio"
      },
      "source": [
        "Dimensionality Reduction - Reducing Multi-dimentional vector into two or more dimentions for human understanding\n",
        "\n",
        "## t-SNE\n",
        "t-Distributed Stochastic Neighor Embedding \n",
        "A non linear - Dimentionality Reduction alogrithm. \n",
        "We use htis for exploring high-dimensional Data. "
      ]
    },
    {
      "cell_type": "code",
      "metadata": {
        "id": "khesYijr9X3w"
      },
      "source": [
        "#Impementation + Break till 10:40am IST\n",
        "import matplotlib.pyplot as plt\n",
        "%matplotlib inline \n",
        "\n",
        "#Visualize the Embeddings \n",
        "from sklearn.manifold import TSNE\n",
        "\n",
        "words = w2v_model.wv.index2word #GEt me all the unique words form the index\n",
        "wvs = w2v_model.wv[words] #GEt me the word embeddings of the same \n",
        "\n",
        "tsne = TSNE(n_components=2, random_state = 42, n_iter = 5000, perplexity =5)\n",
        "np.set_printoptions(suppress= True)\n",
        "T = tsne.fit_transform(wvs)\n",
        "labels = words\n",
        "\n",
        "plt.figure(figsize= (12,6))\n",
        "plt.scatter(T[:,0],T[:,1],c= 'orange',edgecolors = 'r')\n",
        "for label, x,y in zip(labels,T[:,0],T[:,1]):\n",
        "  plt.annotate(label,xy = (x+1,y+1),xytext=(0,0),textcoords = 'offset points')"
      ],
      "execution_count": null,
      "outputs": []
    },
    {
      "cell_type": "code",
      "metadata": {
        "id": "Zl1mFDCF9X0D"
      },
      "source": [
        "import numpy as np \n",
        "from sklearn.metrics.pairwise import cosine_similarity\n",
        "\n",
        "vec_df = pd.DataFrame(wvs, index = words)\n",
        "similarity_matrix = cosine_similarity(vec_df)\n",
        "\n",
        "similarity_df = pd.DataFrame(similarity_matrix, index = words, columns = words)\n",
        "similarity_df"
      ],
      "execution_count": null,
      "outputs": []
    },
    {
      "cell_type": "code",
      "metadata": {
        "id": "lqWIo6Vp9Xwp",
        "colab": {
          "base_uri": "https://localhost:8080/"
        },
        "outputId": "5587a724-268c-4782-fdd7-0a3171e26406"
      },
      "source": [
        "feature_names = np.array(words)\n",
        "similarity_df.apply(lambda row: feature_names[np.argsort(-row.values)[1:4]],axis = 1) #Sorts the resultant array or datastructure and returns the index of 'n' largest values"
      ],
      "execution_count": 20,
      "outputs": [
        {
          "output_type": "execute_result",
          "data": {
            "text/plain": [
              "sky           [beautiful, today, blue]\n",
              "blue           [today, sky, beautiful]\n",
              "beautiful           [today, sky, blue]\n",
              "quick                [fox, dog, jumps]\n",
              "brown               [jumps, lazy, dog]\n",
              "fox                [quick, dog, jumps]\n",
              "lazy             [brown, jumps, quick]\n",
              "dog                [quick, fox, jumps]\n",
              "love                [green, eggs, ham]\n",
              "sausages            [eggs, ham, beans]\n",
              "ham            [eggs, beans, sausages]\n",
              "bacon           [beans, sausages, ham]\n",
              "eggs            [ham, sausages, beans]\n",
              "jumps              [brown, quick, dog]\n",
              "kings        [toast, beans, breakfast]\n",
              "breakfast        [beans, toast, kings]\n",
              "toast        [kings, beans, breakfast]\n",
              "beans        [kings, toast, breakfast]\n",
              "green            [ham, eggs, sausages]\n",
              "today           [beautiful, sky, blue]\n",
              "dtype: object"
            ]
          },
          "metadata": {
            "tags": []
          },
          "execution_count": 20
        }
      ]
    },
    {
      "cell_type": "markdown",
      "metadata": {
        "id": "kAY5F2XWLFbc"
      },
      "source": [
        "## GloVe Model \n",
        "Global Vectors \n",
        "- Just like Word2vec in terms where both are unsupervised methods to get word vectors \n",
        "- The training is different - an Aggregated global word-word-co-occurence matrix Word Context(WC), Word-Feature(WC) and Feature-Context(FC) \n",
        "WC = WF X FC\n",
        "- WF - The Word embeddings of each words and F- The number of Features "
      ]
    },
    {
      "cell_type": "code",
      "metadata": {
        "id": "1EN4gP3E9Xt3"
      },
      "source": [
        "!python -m spacy download en "
      ],
      "execution_count": null,
      "outputs": []
    },
    {
      "cell_type": "code",
      "metadata": {
        "id": "FEtTabAaNRY-"
      },
      "source": [
        "!python -m spacy download en_vectors_web_lg"
      ],
      "execution_count": 28,
      "outputs": []
    },
    {
      "cell_type": "code",
      "metadata": {
        "id": "zGXg6CI5Mjfx"
      },
      "source": [
        "!python -m spacy download en_core_web_sm"
      ],
      "execution_count": null,
      "outputs": []
    },
    {
      "cell_type": "code",
      "metadata": {
        "id": "rFvEVKku9Xqt"
      },
      "source": [
        "import spacy \n",
        "import en_core_web_sm"
      ],
      "execution_count": 25,
      "outputs": []
    },
    {
      "cell_type": "code",
      "metadata": {
        "id": "YYfuuXuGM_UY"
      },
      "source": [
        "nlp = en_core_web_sm.load()\n",
        "total_vectors = len(nlp.vocab.vectors)"
      ],
      "execution_count": 31,
      "outputs": []
    },
    {
      "cell_type": "code",
      "metadata": {
        "id": "L3dWFtsVNMM-"
      },
      "source": [
        "unique_words = list(set([word for sublist in tokenized_corpus for word in sublist]))"
      ],
      "execution_count": 33,
      "outputs": []
    },
    {
      "cell_type": "code",
      "metadata": {
        "id": "_FjG7BKMN-rB"
      },
      "source": [
        "word_glove_vectors = np.array([nlp(word).vector for word in unique_words])\n",
        "vec_df = pd.DataFrame(word_glove_vectors, index = unique_words)\n",
        "vec_df"
      ],
      "execution_count": null,
      "outputs": []
    },
    {
      "cell_type": "code",
      "metadata": {
        "colab": {
          "base_uri": "https://localhost:8080/"
        },
        "id": "pMax9q7bP0PT",
        "outputId": "5e8f0b7b-bdca-48e5-f36b-aafda057b539"
      },
      "source": [
        "vec_df.shape"
      ],
      "execution_count": 40,
      "outputs": [
        {
          "output_type": "execute_result",
          "data": {
            "text/plain": [
              "(20, 96)"
            ]
          },
          "metadata": {
            "tags": []
          },
          "execution_count": 40
        }
      ]
    },
    {
      "cell_type": "markdown",
      "metadata": {
        "id": "G3XG3wKpOVqi"
      },
      "source": [
        ""
      ]
    },
    {
      "cell_type": "code",
      "metadata": {
        "colab": {
          "base_uri": "https://localhost:8080/",
          "height": 374
        },
        "id": "dysMpOwgOUet",
        "outputId": "74a66dbc-4eab-4963-e8a6-104c996b6cc7"
      },
      "source": [
        "tsne = TSNE(n_components=2, random_state = 42, n_iter = 5000, perplexity =3)\n",
        "np.set_printoptions(suppress= True)\n",
        "T = tsne.fit_transform(word_glove_vectors)\n",
        "labels = unique_words\n",
        "\n",
        "plt.figure(figsize= (12,6))\n",
        "plt.scatter(T[:,0],T[:,1],c= 'orange',edgecolors = 'r')\n",
        "for label, x,y in zip(labels,T[:,0],T[:,1]):\n",
        "  plt.annotate(label,xy = (x+1,y+1),xytext=(0,0),textcoords = 'offset points')"
      ],
      "execution_count": 37,
      "outputs": [
        {
          "output_type": "display_data",
          "data": {
            "image/png": "[encoded data removed]",
            "text/plain": [
              "<Figure size 864x432 with 1 Axes>"
            ]
          },
          "metadata": {
            "tags": [],
            "needs_background": "light"
          }
        }
      ]
    },
    {
      "cell_type": "code",
      "metadata": {
        "colab": {
          "base_uri": "https://localhost:8080/",
          "height": 689
        },
        "id": "9TtPQ-GCPDvv",
        "outputId": "316b3879-54f8-4216-9631-44610b94f9c4"
      },
      "source": [
        "import numpy as np \n",
        "from sklearn.metrics.pairwise import cosine_similarity\n",
        "\n",
        "vec_df = pd.DataFrame(word_glove_vectors, index = words)\n",
        "similarity_matrix = cosine_similarity(vec_df)\n",
        "\n",
        "similarity_df = pd.DataFrame(similarity_matrix, index = words, columns = words)\n",
        "similarity_df"
      ],
      "execution_count": 38,
      "outputs": [
        {
          "output_type": "execute_result",
          "data": {
            "text/html": [
              "<div>\n",
              "<style scoped>\n",
              "    .dataframe tbody tr th:only-of-type {\n",
              "        vertical-align: middle;\n",
              "    }\n",
              "\n",
              "    .dataframe tbody tr th {\n",
              "        vertical-align: top;\n",
              "    }\n",
              "\n",
              "    .dataframe thead th {\n",
              "        text-align: right;\n",
              "    }\n",
              "</style>\n",
              "<table border=\"1\" class=\"dataframe\">\n",
              "  <thead>\n",
              "    <tr style=\"text-align: right;\">\n",
              "      <th></th>\n",
              "      <th>sky</th>\n",
              "      <th>blue</th>\n",
              "      <th>beautiful</th>\n",
              "      <th>quick</th>\n",
              "      <th>brown</th>\n",
              "      <th>fox</th>\n",
              "      <th>lazy</th>\n",
              "      <th>dog</th>\n",
              "      <th>love</th>\n",
              "      <th>sausages</th>\n",
              "      <th>ham</th>\n",
              "      <th>bacon</th>\n",
              "      <th>eggs</th>\n",
              "      <th>jumps</th>\n",
              "      <th>kings</th>\n",
              "      <th>breakfast</th>\n",
              "      <th>toast</th>\n",
              "      <th>beans</th>\n",
              "      <th>green</th>\n",
              "      <th>today</th>\n",
              "    </tr>\n",
              "  </thead>\n",
              "  <tbody>\n",
              "    <tr>\n",
              "      <th>sky</th>\n",
              "      <td>1.000000</td>\n",
              "      <td>0.527333</td>\n",
              "      <td>0.516764</td>\n",
              "      <td>0.515219</td>\n",
              "      <td>0.519828</td>\n",
              "      <td>0.508549</td>\n",
              "      <td>0.495516</td>\n",
              "      <td>0.594161</td>\n",
              "      <td>0.555452</td>\n",
              "      <td>0.745211</td>\n",
              "      <td>0.763424</td>\n",
              "      <td>0.772422</td>\n",
              "      <td>0.321150</td>\n",
              "      <td>0.576281</td>\n",
              "      <td>0.543625</td>\n",
              "      <td>0.565894</td>\n",
              "      <td>0.530299</td>\n",
              "      <td>0.591834</td>\n",
              "      <td>0.615924</td>\n",
              "      <td>0.726582</td>\n",
              "    </tr>\n",
              "    <tr>\n",
              "      <th>blue</th>\n",
              "      <td>0.527333</td>\n",
              "      <td>1.000000</td>\n",
              "      <td>0.690175</td>\n",
              "      <td>0.420463</td>\n",
              "      <td>0.625759</td>\n",
              "      <td>0.638263</td>\n",
              "      <td>0.604946</td>\n",
              "      <td>0.561259</td>\n",
              "      <td>0.408377</td>\n",
              "      <td>0.533406</td>\n",
              "      <td>0.486819</td>\n",
              "      <td>0.608792</td>\n",
              "      <td>0.430087</td>\n",
              "      <td>0.460211</td>\n",
              "      <td>0.401223</td>\n",
              "      <td>0.461211</td>\n",
              "      <td>0.322461</td>\n",
              "      <td>0.705318</td>\n",
              "      <td>0.628965</td>\n",
              "      <td>0.524099</td>\n",
              "    </tr>\n",
              "    <tr>\n",
              "      <th>beautiful</th>\n",
              "      <td>0.516764</td>\n",
              "      <td>0.690175</td>\n",
              "      <td>1.000000</td>\n",
              "      <td>0.477329</td>\n",
              "      <td>0.579054</td>\n",
              "      <td>0.570113</td>\n",
              "      <td>0.562909</td>\n",
              "      <td>0.414357</td>\n",
              "      <td>0.199178</td>\n",
              "      <td>0.452891</td>\n",
              "      <td>0.489577</td>\n",
              "      <td>0.593602</td>\n",
              "      <td>0.393629</td>\n",
              "      <td>0.377926</td>\n",
              "      <td>0.426063</td>\n",
              "      <td>0.326414</td>\n",
              "      <td>0.316652</td>\n",
              "      <td>0.642526</td>\n",
              "      <td>0.598124</td>\n",
              "      <td>0.395760</td>\n",
              "    </tr>\n",
              "    <tr>\n",
              "      <th>quick</th>\n",
              "      <td>0.515219</td>\n",
              "      <td>0.420463</td>\n",
              "      <td>0.477329</td>\n",
              "      <td>1.000000</td>\n",
              "      <td>0.355131</td>\n",
              "      <td>0.388902</td>\n",
              "      <td>0.450955</td>\n",
              "      <td>0.365622</td>\n",
              "      <td>0.511546</td>\n",
              "      <td>0.425696</td>\n",
              "      <td>0.462530</td>\n",
              "      <td>0.483375</td>\n",
              "      <td>0.127107</td>\n",
              "      <td>0.669251</td>\n",
              "      <td>0.707955</td>\n",
              "      <td>0.107813</td>\n",
              "      <td>0.706464</td>\n",
              "      <td>0.434397</td>\n",
              "      <td>0.368668</td>\n",
              "      <td>0.355140</td>\n",
              "    </tr>\n",
              "    <tr>\n",
              "      <th>brown</th>\n",
              "      <td>0.519828</td>\n",
              "      <td>0.625759</td>\n",
              "      <td>0.579054</td>\n",
              "      <td>0.355131</td>\n",
              "      <td>1.000000</td>\n",
              "      <td>0.748690</td>\n",
              "      <td>0.757307</td>\n",
              "      <td>0.606048</td>\n",
              "      <td>0.397911</td>\n",
              "      <td>0.538320</td>\n",
              "      <td>0.456265</td>\n",
              "      <td>0.549358</td>\n",
              "      <td>0.522672</td>\n",
              "      <td>0.315877</td>\n",
              "      <td>0.472898</td>\n",
              "      <td>0.410801</td>\n",
              "      <td>0.312564</td>\n",
              "      <td>0.703564</td>\n",
              "      <td>0.623381</td>\n",
              "      <td>0.418655</td>\n",
              "    </tr>\n",
              "    <tr>\n",
              "      <th>fox</th>\n",
              "      <td>0.508549</td>\n",
              "      <td>0.638263</td>\n",
              "      <td>0.570113</td>\n",
              "      <td>0.388902</td>\n",
              "      <td>0.748690</td>\n",
              "      <td>1.000000</td>\n",
              "      <td>0.820715</td>\n",
              "      <td>0.673041</td>\n",
              "      <td>0.392987</td>\n",
              "      <td>0.603607</td>\n",
              "      <td>0.477682</td>\n",
              "      <td>0.593724</td>\n",
              "      <td>0.357052</td>\n",
              "      <td>0.453686</td>\n",
              "      <td>0.437363</td>\n",
              "      <td>0.493522</td>\n",
              "      <td>0.383424</td>\n",
              "      <td>0.640810</td>\n",
              "      <td>0.669061</td>\n",
              "      <td>0.481071</td>\n",
              "    </tr>\n",
              "    <tr>\n",
              "      <th>lazy</th>\n",
              "      <td>0.495516</td>\n",
              "      <td>0.604946</td>\n",
              "      <td>0.562909</td>\n",
              "      <td>0.450955</td>\n",
              "      <td>0.757307</td>\n",
              "      <td>0.820715</td>\n",
              "      <td>1.000000</td>\n",
              "      <td>0.663778</td>\n",
              "      <td>0.438804</td>\n",
              "      <td>0.551850</td>\n",
              "      <td>0.479007</td>\n",
              "      <td>0.548770</td>\n",
              "      <td>0.309739</td>\n",
              "      <td>0.430306</td>\n",
              "      <td>0.497377</td>\n",
              "      <td>0.416186</td>\n",
              "      <td>0.405406</td>\n",
              "      <td>0.636966</td>\n",
              "      <td>0.629147</td>\n",
              "      <td>0.540769</td>\n",
              "    </tr>\n",
              "    <tr>\n",
              "      <th>dog</th>\n",
              "      <td>0.594161</td>\n",
              "      <td>0.561259</td>\n",
              "      <td>0.414357</td>\n",
              "      <td>0.365622</td>\n",
              "      <td>0.606048</td>\n",
              "      <td>0.673041</td>\n",
              "      <td>0.663778</td>\n",
              "      <td>1.000000</td>\n",
              "      <td>0.573179</td>\n",
              "      <td>0.651253</td>\n",
              "      <td>0.640425</td>\n",
              "      <td>0.611805</td>\n",
              "      <td>0.304698</td>\n",
              "      <td>0.501605</td>\n",
              "      <td>0.435010</td>\n",
              "      <td>0.605885</td>\n",
              "      <td>0.376884</td>\n",
              "      <td>0.578065</td>\n",
              "      <td>0.602545</td>\n",
              "      <td>0.624823</td>\n",
              "    </tr>\n",
              "    <tr>\n",
              "      <th>love</th>\n",
              "      <td>0.555452</td>\n",
              "      <td>0.408377</td>\n",
              "      <td>0.199178</td>\n",
              "      <td>0.511546</td>\n",
              "      <td>0.397911</td>\n",
              "      <td>0.392987</td>\n",
              "      <td>0.438804</td>\n",
              "      <td>0.573179</td>\n",
              "      <td>1.000000</td>\n",
              "      <td>0.506320</td>\n",
              "      <td>0.450206</td>\n",
              "      <td>0.450332</td>\n",
              "      <td>0.153828</td>\n",
              "      <td>0.566325</td>\n",
              "      <td>0.429392</td>\n",
              "      <td>0.337850</td>\n",
              "      <td>0.538269</td>\n",
              "      <td>0.423305</td>\n",
              "      <td>0.491845</td>\n",
              "      <td>0.558546</td>\n",
              "    </tr>\n",
              "    <tr>\n",
              "      <th>sausages</th>\n",
              "      <td>0.745211</td>\n",
              "      <td>0.533406</td>\n",
              "      <td>0.452891</td>\n",
              "      <td>0.425696</td>\n",
              "      <td>0.538320</td>\n",
              "      <td>0.603607</td>\n",
              "      <td>0.551850</td>\n",
              "      <td>0.651253</td>\n",
              "      <td>0.506320</td>\n",
              "      <td>1.000000</td>\n",
              "      <td>0.677921</td>\n",
              "      <td>0.758695</td>\n",
              "      <td>0.303844</td>\n",
              "      <td>0.578035</td>\n",
              "      <td>0.548334</td>\n",
              "      <td>0.577141</td>\n",
              "      <td>0.449643</td>\n",
              "      <td>0.638667</td>\n",
              "      <td>0.558848</td>\n",
              "      <td>0.708406</td>\n",
              "    </tr>\n",
              "    <tr>\n",
              "      <th>ham</th>\n",
              "      <td>0.763424</td>\n",
              "      <td>0.486819</td>\n",
              "      <td>0.489577</td>\n",
              "      <td>0.462530</td>\n",
              "      <td>0.456265</td>\n",
              "      <td>0.477682</td>\n",
              "      <td>0.479007</td>\n",
              "      <td>0.640425</td>\n",
              "      <td>0.450206</td>\n",
              "      <td>0.677921</td>\n",
              "      <td>1.000000</td>\n",
              "      <td>0.694538</td>\n",
              "      <td>0.302511</td>\n",
              "      <td>0.524270</td>\n",
              "      <td>0.532240</td>\n",
              "      <td>0.701268</td>\n",
              "      <td>0.369982</td>\n",
              "      <td>0.560037</td>\n",
              "      <td>0.582259</td>\n",
              "      <td>0.706214</td>\n",
              "    </tr>\n",
              "    <tr>\n",
              "      <th>bacon</th>\n",
              "      <td>0.772422</td>\n",
              "      <td>0.608792</td>\n",
              "      <td>0.593602</td>\n",
              "      <td>0.483375</td>\n",
              "      <td>0.549358</td>\n",
              "      <td>0.593724</td>\n",
              "      <td>0.548770</td>\n",
              "      <td>0.611805</td>\n",
              "      <td>0.450332</td>\n",
              "      <td>0.758695</td>\n",
              "      <td>0.694538</td>\n",
              "      <td>1.000000</td>\n",
              "      <td>0.284736</td>\n",
              "      <td>0.507405</td>\n",
              "      <td>0.573360</td>\n",
              "      <td>0.603063</td>\n",
              "      <td>0.487472</td>\n",
              "      <td>0.671937</td>\n",
              "      <td>0.614054</td>\n",
              "      <td>0.663909</td>\n",
              "    </tr>\n",
              "    <tr>\n",
              "      <th>eggs</th>\n",
              "      <td>0.321150</td>\n",
              "      <td>0.430087</td>\n",
              "      <td>0.393629</td>\n",
              "      <td>0.127107</td>\n",
              "      <td>0.522672</td>\n",
              "      <td>0.357052</td>\n",
              "      <td>0.309739</td>\n",
              "      <td>0.304698</td>\n",
              "      <td>0.153828</td>\n",
              "      <td>0.303844</td>\n",
              "      <td>0.302511</td>\n",
              "      <td>0.284736</td>\n",
              "      <td>1.000000</td>\n",
              "      <td>0.110446</td>\n",
              "      <td>0.160543</td>\n",
              "      <td>0.269655</td>\n",
              "      <td>0.061448</td>\n",
              "      <td>0.500231</td>\n",
              "      <td>0.343825</td>\n",
              "      <td>0.205340</td>\n",
              "    </tr>\n",
              "    <tr>\n",
              "      <th>jumps</th>\n",
              "      <td>0.576281</td>\n",
              "      <td>0.460211</td>\n",
              "      <td>0.377926</td>\n",
              "      <td>0.669251</td>\n",
              "      <td>0.315877</td>\n",
              "      <td>0.453686</td>\n",
              "      <td>0.430306</td>\n",
              "      <td>0.501605</td>\n",
              "      <td>0.566325</td>\n",
              "      <td>0.578035</td>\n",
              "      <td>0.524270</td>\n",
              "      <td>0.507405</td>\n",
              "      <td>0.110446</td>\n",
              "      <td>1.000000</td>\n",
              "      <td>0.593845</td>\n",
              "      <td>0.311383</td>\n",
              "      <td>0.752486</td>\n",
              "      <td>0.428996</td>\n",
              "      <td>0.496482</td>\n",
              "      <td>0.481211</td>\n",
              "    </tr>\n",
              "    <tr>\n",
              "      <th>kings</th>\n",
              "      <td>0.543625</td>\n",
              "      <td>0.401223</td>\n",
              "      <td>0.426063</td>\n",
              "      <td>0.707955</td>\n",
              "      <td>0.472898</td>\n",
              "      <td>0.437363</td>\n",
              "      <td>0.497377</td>\n",
              "      <td>0.435010</td>\n",
              "      <td>0.429392</td>\n",
              "      <td>0.548334</td>\n",
              "      <td>0.532240</td>\n",
              "      <td>0.573360</td>\n",
              "      <td>0.160543</td>\n",
              "      <td>0.593845</td>\n",
              "      <td>1.000000</td>\n",
              "      <td>0.310685</td>\n",
              "      <td>0.621281</td>\n",
              "      <td>0.556655</td>\n",
              "      <td>0.401429</td>\n",
              "      <td>0.383732</td>\n",
              "    </tr>\n",
              "    <tr>\n",
              "      <th>breakfast</th>\n",
              "      <td>0.565894</td>\n",
              "      <td>0.461211</td>\n",
              "      <td>0.326414</td>\n",
              "      <td>0.107813</td>\n",
              "      <td>0.410801</td>\n",
              "      <td>0.493522</td>\n",
              "      <td>0.416186</td>\n",
              "      <td>0.605885</td>\n",
              "      <td>0.337850</td>\n",
              "      <td>0.577141</td>\n",
              "      <td>0.701268</td>\n",
              "      <td>0.603063</td>\n",
              "      <td>0.269655</td>\n",
              "      <td>0.311383</td>\n",
              "      <td>0.310685</td>\n",
              "      <td>1.000000</td>\n",
              "      <td>0.210133</td>\n",
              "      <td>0.386040</td>\n",
              "      <td>0.534077</td>\n",
              "      <td>0.648306</td>\n",
              "    </tr>\n",
              "    <tr>\n",
              "      <th>toast</th>\n",
              "      <td>0.530299</td>\n",
              "      <td>0.322461</td>\n",
              "      <td>0.316652</td>\n",
              "      <td>0.706464</td>\n",
              "      <td>0.312564</td>\n",
              "      <td>0.383424</td>\n",
              "      <td>0.405406</td>\n",
              "      <td>0.376884</td>\n",
              "      <td>0.538269</td>\n",
              "      <td>0.449643</td>\n",
              "      <td>0.369982</td>\n",
              "      <td>0.487472</td>\n",
              "      <td>0.061448</td>\n",
              "      <td>0.752486</td>\n",
              "      <td>0.621281</td>\n",
              "      <td>0.210133</td>\n",
              "      <td>1.000000</td>\n",
              "      <td>0.359598</td>\n",
              "      <td>0.417518</td>\n",
              "      <td>0.409943</td>\n",
              "    </tr>\n",
              "    <tr>\n",
              "      <th>beans</th>\n",
              "      <td>0.591834</td>\n",
              "      <td>0.705318</td>\n",
              "      <td>0.642526</td>\n",
              "      <td>0.434397</td>\n",
              "      <td>0.703564</td>\n",
              "      <td>0.640810</td>\n",
              "      <td>0.636966</td>\n",
              "      <td>0.578065</td>\n",
              "      <td>0.423305</td>\n",
              "      <td>0.638667</td>\n",
              "      <td>0.560037</td>\n",
              "      <td>0.671937</td>\n",
              "      <td>0.500231</td>\n",
              "      <td>0.428996</td>\n",
              "      <td>0.556655</td>\n",
              "      <td>0.386040</td>\n",
              "      <td>0.359598</td>\n",
              "      <td>1.000000</td>\n",
              "      <td>0.551970</td>\n",
              "      <td>0.485097</td>\n",
              "    </tr>\n",
              "    <tr>\n",
              "      <th>green</th>\n",
              "      <td>0.615924</td>\n",
              "      <td>0.628965</td>\n",
              "      <td>0.598124</td>\n",
              "      <td>0.368668</td>\n",
              "      <td>0.623381</td>\n",
              "      <td>0.669061</td>\n",
              "      <td>0.629147</td>\n",
              "      <td>0.602545</td>\n",
              "      <td>0.491845</td>\n",
              "      <td>0.558848</td>\n",
              "      <td>0.582259</td>\n",
              "      <td>0.614054</td>\n",
              "      <td>0.343825</td>\n",
              "      <td>0.496482</td>\n",
              "      <td>0.401429</td>\n",
              "      <td>0.534077</td>\n",
              "      <td>0.417518</td>\n",
              "      <td>0.551970</td>\n",
              "      <td>1.000000</td>\n",
              "      <td>0.591828</td>\n",
              "    </tr>\n",
              "    <tr>\n",
              "      <th>today</th>\n",
              "      <td>0.726582</td>\n",
              "      <td>0.524099</td>\n",
              "      <td>0.395760</td>\n",
              "      <td>0.355140</td>\n",
              "      <td>0.418655</td>\n",
              "      <td>0.481071</td>\n",
              "      <td>0.540769</td>\n",
              "      <td>0.624823</td>\n",
              "      <td>0.558546</td>\n",
              "      <td>0.708406</td>\n",
              "      <td>0.706214</td>\n",
              "      <td>0.663909</td>\n",
              "      <td>0.205340</td>\n",
              "      <td>0.481211</td>\n",
              "      <td>0.383732</td>\n",
              "      <td>0.648306</td>\n",
              "      <td>0.409943</td>\n",
              "      <td>0.485097</td>\n",
              "      <td>0.591828</td>\n",
              "      <td>1.000000</td>\n",
              "    </tr>\n",
              "  </tbody>\n",
              "</table>\n",
              "</div>"
            ],
            "text/plain": [
              "                sky      blue  beautiful  ...     beans     green     today\n",
              "sky        1.000000  0.527333   0.516764  ...  0.591834  0.615924  0.726582\n",
              "blue       0.527333  1.000000   0.690175  ...  0.705318  0.628965  0.524099\n",
              "beautiful  0.516764  0.690175   1.000000  ...  0.642526  0.598124  0.395760\n",
              "quick      0.515219  0.420463   0.477329  ...  0.434397  0.368668  0.355140\n",
              "brown      0.519828  0.625759   0.579054  ...  0.703564  0.623381  0.418655\n",
              "fox        0.508549  0.638263   0.570113  ...  0.640810  0.669061  0.481071\n",
              "lazy       0.495516  0.604946   0.562909  ...  0.636966  0.629147  0.540769\n",
              "dog        0.594161  0.561259   0.414357  ...  0.578065  0.602545  0.624823\n",
              "love       0.555452  0.408377   0.199178  ...  0.423305  0.491845  0.558546\n",
              "sausages   0.745211  0.533406   0.452891  ...  0.638667  0.558848  0.708406\n",
              "ham        0.763424  0.486819   0.489577  ...  0.560037  0.582259  0.706214\n",
              "bacon      0.772422  0.608792   0.593602  ...  0.671937  0.614054  0.663909\n",
              "eggs       0.321150  0.430087   0.393629  ...  0.500231  0.343825  0.205340\n",
              "jumps      0.576281  0.460211   0.377926  ...  0.428996  0.496482  0.481211\n",
              "kings      0.543625  0.401223   0.426063  ...  0.556655  0.401429  0.383732\n",
              "breakfast  0.565894  0.461211   0.326414  ...  0.386040  0.534077  0.648306\n",
              "toast      0.530299  0.322461   0.316652  ...  0.359598  0.417518  0.409943\n",
              "beans      0.591834  0.705318   0.642526  ...  1.000000  0.551970  0.485097\n",
              "green      0.615924  0.628965   0.598124  ...  0.551970  1.000000  0.591828\n",
              "today      0.726582  0.524099   0.395760  ...  0.485097  0.591828  1.000000\n",
              "\n",
              "[20 rows x 20 columns]"
            ]
          },
          "metadata": {
            "tags": []
          },
          "execution_count": 38
        }
      ]
    },
    {
      "cell_type": "code",
      "metadata": {
        "id": "3Dn89lu2Pgvb"
      },
      "source": [
        ""
      ],
      "execution_count": null,
      "outputs": []
    },
    {
      "cell_type": "markdown",
      "metadata": {
        "id": "04vqjye5P_qM"
      },
      "source": [
        "## FastText Model \n",
        "- was introduced by Facebook - 2016  \n",
        "- As extension for Word2vec\n",
        "- Subword Model - Considers each word as Bag of Character n-grams\n",
        "- n=3 (tri - Gram) - Character level trigram - where < wh,whe,her,ere,re> and a special sequence < where > "
      ]
    },
    {
      "cell_type": "code",
      "metadata": {
        "colab": {
          "base_uri": "https://localhost:8080/"
        },
        "id": "MagYiAlGP9fH",
        "outputId": "1b6d9b1a-62d9-4da5-e5a7-176b13b95c01"
      },
      "source": [
        "from gensim.models.fasttext import FastText\n",
        "\n",
        "#Setting values for various params \n",
        "feature_size = 15 # Word Vector dimensionality (300)\n",
        "window_size = 20 # context window size \n",
        "min_word_count = 1 #This a way to remove infrequent words (Min number of occurence in the no. of docs)\n",
        "sample = 1e-3  #1x10^-3 #Downsample frequent words or randomly drop some frequently occuring words\n",
        "sg = 1 # 1 - for CBOW \n",
        "\n",
        "ft_model = FastText(tokenized_corpus, size = feature_size,window = window_size, min_count = min_word_count,sample =sample,sg = sg,iter = 5000)\n",
        "ft_model"
      ],
      "execution_count": 41,
      "outputs": [
        {
          "output_type": "execute_result",
          "data": {
            "text/plain": [
              "<gensim.models.fasttext.FastText at 0x7f4dfbbd6f10>"
            ]
          },
          "metadata": {
            "tags": []
          },
          "execution_count": 41
        }
      ]
    },
    {
      "cell_type": "code",
      "metadata": {
        "colab": {
          "base_uri": "https://localhost:8080/",
          "height": 377
        },
        "id": "Ty19AFxUSN-p",
        "outputId": "82576b14-cae9-4fdb-a009-8b6ea487f4f5"
      },
      "source": [
        "#Impementation + Break till 10:40am IST\n",
        "import matplotlib.pyplot as plt\n",
        "%matplotlib inline \n",
        "\n",
        "#Visualize the Embeddings \n",
        "from sklearn.manifold import TSNE\n",
        "\n",
        "words = ft_model.wv.index2word #GEt me all the unique words form the index\n",
        "wvs = ft_model.wv[words] #GEt me the word embeddings of the same \n",
        "\n",
        "tsne = TSNE(n_components=2, random_state = 42, n_iter = 5000, perplexity =5)\n",
        "np.set_printoptions(suppress= True)\n",
        "T = tsne.fit_transform(wvs)\n",
        "labels = words\n",
        "\n",
        "plt.figure(figsize= (12,6))\n",
        "plt.scatter(T[:,0],T[:,1],c= 'green',edgecolors = 'r')\n",
        "for label, x,y in zip(labels,T[:,0],T[:,1]):\n",
        "  plt.annotate(label,xy = (x+1,y+1),xytext=(0,0),textcoords = 'offset points')"
      ],
      "execution_count": 43,
      "outputs": [
        {
          "output_type": "display_data",
          "data": {
            "image/png": "[encoded data removed]",
            "text/plain": [
              "<Figure size 864x432 with 1 Axes>"
            ]
          },
          "metadata": {
            "tags": [],
            "needs_background": "light"
          }
        }
      ]
    },
    {
      "cell_type": "code",
      "metadata": {
        "id": "Nl9uKGdISYYH"
      },
      "source": [
        "def average_word_vectors(words,model, vocabulary, num_features):\n",
        "  feature_vector = np.zeros((num_features,),dtype= 'float64')\n",
        "  nwords=0\n",
        "  for word in words:\n",
        "    if word in vocabulary: \n",
        "      nwords = nwords+1\n",
        "      feature_vector = np.add(feature_vector,model.wv[word])\n",
        "  if nwords: \n",
        "    feature_vector = np.divide(feature_vector,nwords)\n",
        "\n",
        "  return feature_vector\n",
        "\n",
        "def averaged_word_vectorizer(corpus,model,num_features):\n",
        "  vocabulary = set(model.wv.index2word)\n",
        "  features = [average_word_vectors(tokenized_sentence,model,vocabulary, num_features) for tokenized_sentence in corpus]\n",
        "  return np.array(features)"
      ],
      "execution_count": 44,
      "outputs": []
    },
    {
      "cell_type": "code",
      "metadata": {
        "colab": {
          "base_uri": "https://localhost:8080/",
          "height": 297
        },
        "id": "FFQPdc4DUN6w",
        "outputId": "a15e5ef8-8097-4ef9-a26a-1ed6b0986183"
      },
      "source": [
        "#Document vectors \n",
        "ft_doc_features = averaged_word_vectorizer(corpus = tokenized_corpus, model = ft_model,num_features = feature_size)\n",
        "pd.DataFrame(ft_doc_features)"
      ],
      "execution_count": 45,
      "outputs": [
        {
          "output_type": "execute_result",
          "data": {
            "text/html": [
              "<div>\n",
              "<style scoped>\n",
              "    .dataframe tbody tr th:only-of-type {\n",
              "        vertical-align: middle;\n",
              "    }\n",
              "\n",
              "    .dataframe tbody tr th {\n",
              "        vertical-align: top;\n",
              "    }\n",
              "\n",
              "    .dataframe thead th {\n",
              "        text-align: right;\n",
              "    }\n",
              "</style>\n",
              "<table border=\"1\" class=\"dataframe\">\n",
              "  <thead>\n",
              "    <tr style=\"text-align: right;\">\n",
              "      <th></th>\n",
              "      <th>0</th>\n",
              "      <th>1</th>\n",
              "      <th>2</th>\n",
              "      <th>3</th>\n",
              "      <th>4</th>\n",
              "      <th>5</th>\n",
              "      <th>6</th>\n",
              "      <th>7</th>\n",
              "      <th>8</th>\n",
              "      <th>9</th>\n",
              "      <th>10</th>\n",
              "      <th>11</th>\n",
              "      <th>12</th>\n",
              "      <th>13</th>\n",
              "      <th>14</th>\n",
              "    </tr>\n",
              "  </thead>\n",
              "  <tbody>\n",
              "    <tr>\n",
              "      <th>0</th>\n",
              "      <td>-1.017834</td>\n",
              "      <td>1.219471</td>\n",
              "      <td>-0.471404</td>\n",
              "      <td>0.100632</td>\n",
              "      <td>-0.485411</td>\n",
              "      <td>-0.580870</td>\n",
              "      <td>-0.183611</td>\n",
              "      <td>-0.032766</td>\n",
              "      <td>-0.266565</td>\n",
              "      <td>0.289460</td>\n",
              "      <td>0.074620</td>\n",
              "      <td>0.748789</td>\n",
              "      <td>-0.517958</td>\n",
              "      <td>0.038283</td>\n",
              "      <td>-0.297274</td>\n",
              "    </tr>\n",
              "    <tr>\n",
              "      <th>1</th>\n",
              "      <td>-1.051389</td>\n",
              "      <td>0.996752</td>\n",
              "      <td>-0.461333</td>\n",
              "      <td>0.187398</td>\n",
              "      <td>-0.399002</td>\n",
              "      <td>-0.535357</td>\n",
              "      <td>-0.133190</td>\n",
              "      <td>-0.102741</td>\n",
              "      <td>-0.235152</td>\n",
              "      <td>0.255751</td>\n",
              "      <td>0.070397</td>\n",
              "      <td>0.575714</td>\n",
              "      <td>-0.376731</td>\n",
              "      <td>0.007694</td>\n",
              "      <td>-0.241070</td>\n",
              "    </tr>\n",
              "    <tr>\n",
              "      <th>2</th>\n",
              "      <td>-0.080685</td>\n",
              "      <td>1.394714</td>\n",
              "      <td>1.015425</td>\n",
              "      <td>0.091486</td>\n",
              "      <td>-1.111383</td>\n",
              "      <td>-0.360878</td>\n",
              "      <td>-0.166006</td>\n",
              "      <td>0.346778</td>\n",
              "      <td>-0.375867</td>\n",
              "      <td>0.003422</td>\n",
              "      <td>0.676978</td>\n",
              "      <td>-0.001734</td>\n",
              "      <td>-0.380349</td>\n",
              "      <td>0.563245</td>\n",
              "      <td>0.395930</td>\n",
              "    </tr>\n",
              "    <tr>\n",
              "      <th>3</th>\n",
              "      <td>-1.443467</td>\n",
              "      <td>0.329564</td>\n",
              "      <td>-0.008377</td>\n",
              "      <td>1.037905</td>\n",
              "      <td>-0.312026</td>\n",
              "      <td>-0.233052</td>\n",
              "      <td>0.184552</td>\n",
              "      <td>-0.440906</td>\n",
              "      <td>-0.320137</td>\n",
              "      <td>-0.371566</td>\n",
              "      <td>0.666171</td>\n",
              "      <td>-0.895322</td>\n",
              "      <td>0.647324</td>\n",
              "      <td>-0.199162</td>\n",
              "      <td>-0.239623</td>\n",
              "    </tr>\n",
              "    <tr>\n",
              "      <th>4</th>\n",
              "      <td>-1.307474</td>\n",
              "      <td>0.324607</td>\n",
              "      <td>-0.140498</td>\n",
              "      <td>0.826300</td>\n",
              "      <td>-0.173477</td>\n",
              "      <td>-0.265190</td>\n",
              "      <td>0.072099</td>\n",
              "      <td>-0.486643</td>\n",
              "      <td>-0.283610</td>\n",
              "      <td>-0.157870</td>\n",
              "      <td>0.412292</td>\n",
              "      <td>-0.508161</td>\n",
              "      <td>0.427139</td>\n",
              "      <td>-0.166446</td>\n",
              "      <td>-0.225815</td>\n",
              "    </tr>\n",
              "    <tr>\n",
              "      <th>5</th>\n",
              "      <td>-0.189542</td>\n",
              "      <td>1.352578</td>\n",
              "      <td>0.803024</td>\n",
              "      <td>0.068530</td>\n",
              "      <td>-1.020865</td>\n",
              "      <td>-0.378753</td>\n",
              "      <td>-0.193295</td>\n",
              "      <td>0.301214</td>\n",
              "      <td>-0.350197</td>\n",
              "      <td>0.057726</td>\n",
              "      <td>0.584805</td>\n",
              "      <td>0.126631</td>\n",
              "      <td>-0.409361</td>\n",
              "      <td>0.484519</td>\n",
              "      <td>0.307555</td>\n",
              "    </tr>\n",
              "    <tr>\n",
              "      <th>6</th>\n",
              "      <td>-1.085396</td>\n",
              "      <td>1.229123</td>\n",
              "      <td>-0.536072</td>\n",
              "      <td>0.100034</td>\n",
              "      <td>-0.476581</td>\n",
              "      <td>-0.611018</td>\n",
              "      <td>-0.181043</td>\n",
              "      <td>-0.026112</td>\n",
              "      <td>-0.259882</td>\n",
              "      <td>0.283033</td>\n",
              "      <td>0.046487</td>\n",
              "      <td>0.772775</td>\n",
              "      <td>-0.532793</td>\n",
              "      <td>0.030967</td>\n",
              "      <td>-0.318839</td>\n",
              "    </tr>\n",
              "    <tr>\n",
              "      <th>7</th>\n",
              "      <td>-0.088025</td>\n",
              "      <td>1.415853</td>\n",
              "      <td>1.003639</td>\n",
              "      <td>0.080209</td>\n",
              "      <td>-1.119665</td>\n",
              "      <td>-0.375660</td>\n",
              "      <td>-0.176112</td>\n",
              "      <td>0.350506</td>\n",
              "      <td>-0.377900</td>\n",
              "      <td>0.002104</td>\n",
              "      <td>0.662523</td>\n",
              "      <td>0.023472</td>\n",
              "      <td>-0.398187</td>\n",
              "      <td>0.561428</td>\n",
              "      <td>0.385074</td>\n",
              "    </tr>\n",
              "  </tbody>\n",
              "</table>\n",
              "</div>"
            ],
            "text/plain": [
              "         0         1         2   ...        12        13        14\n",
              "0 -1.017834  1.219471 -0.471404  ... -0.517958  0.038283 -0.297274\n",
              "1 -1.051389  0.996752 -0.461333  ... -0.376731  0.007694 -0.241070\n",
              "2 -0.080685  1.394714  1.015425  ... -0.380349  0.563245  0.395930\n",
              "3 -1.443467  0.329564 -0.008377  ...  0.647324 -0.199162 -0.239623\n",
              "4 -1.307474  0.324607 -0.140498  ...  0.427139 -0.166446 -0.225815\n",
              "5 -0.189542  1.352578  0.803024  ... -0.409361  0.484519  0.307555\n",
              "6 -1.085396  1.229123 -0.536072  ... -0.532793  0.030967 -0.318839\n",
              "7 -0.088025  1.415853  1.003639  ... -0.398187  0.561428  0.385074\n",
              "\n",
              "[8 rows x 15 columns]"
            ]
          },
          "metadata": {
            "tags": []
          },
          "execution_count": 45
        }
      ]
    },
    {
      "cell_type": "code",
      "metadata": {
        "id": "H9VhYDjpUgut"
      },
      "source": [
        "#Generate Seperate Embeddings for train and test\n",
        "avf_wv_Train = averaged_word_vectorizer(train _ PArams)\n",
        "avf_wv_Test = averaged_word_vectorizer(test _ PArams)"
      ],
      "execution_count": 45,
      "outputs": []
    },
    {
      "cell_type": "code",
      "metadata": {
        "id": "ITqIPc4WdyJi"
      },
      "source": [
        "dnn_model = Sequential()\n",
        "dnn_model.add(Dense(512, input_shape = (feature_size)))\n",
        "\n"
      ],
      "execution_count": null,
      "outputs": []
    },
    {
      "cell_type": "code",
      "metadata": {
        "id": "t6KcPCXsd9d0"
      },
      "source": [
        "#compile your model"
      ],
      "execution_count": null,
      "outputs": []
    },
    {
      "cell_type": "code",
      "metadata": {
        "id": "P6dzOnpPd_po"
      },
      "source": [
        "#Fit "
      ],
      "execution_count": null,
      "outputs": []
    },
    {
      "cell_type": "markdown",
      "metadata": {
        "id": "Icemc26Od_ec"
      },
      "source": [
        ""
      ]
    }
  ]
}