{
  "nbformat": 4,
  "nbformat_minor": 0,
  "metadata": {
    "colab": {
      "name": "NLP_Basics.ipynb",
      "provenance": []
    },
    "kernelspec": {
      "name": "python3",
      "display_name": "Python 3"
    },
    "language_info": {
      "name": "python"
    }
  },
  "cells": [
    {
      "cell_type": "code",
      "metadata": {
        "id": "BuEBEPpjlybY"
      },
      "source": [
        "import requests\n",
        "\n",
        "data = requests.get('https://www.gutenberg.org/cache/epub/8001/pg8001.html')\n",
        "content = data.text\n",
        "print(content[2745:3948])"
      ],
      "execution_count": null,
      "outputs": []
    },
    {
      "cell_type": "code",
      "metadata": {
        "id": "WwkaiFofupiz"
      },
      "source": [
        "#Regular Expressions\n",
        "s1 = \"Python is an Excellent Language\"\n",
        "s2 = 'I love the python language. I also use Python to build  programs at work'"
      ],
      "execution_count": 62,
      "outputs": []
    },
    {
      "cell_type": "code",
      "metadata": {
        "id": "vggA211nx25l"
      },
      "source": [
        "s1 = s1.lower()"
      ],
      "execution_count": 13,
      "outputs": []
    },
    {
      "cell_type": "code",
      "metadata": {
        "colab": {
          "base_uri": "https://localhost:8080/",
          "height": 35
        },
        "id": "hbf3ncAXx441",
        "outputId": "2cb97b45-2d00-4272-b85e-21d250ba6a88"
      },
      "source": [
        "s1"
      ],
      "execution_count": 14,
      "outputs": [
        {
          "output_type": "execute_result",
          "data": {
            "application/vnd.google.colaboratory.intrinsic+json": {
              "type": "string"
            },
            "text/plain": [
              "'python is an excellent language'"
            ]
          },
          "metadata": {
            "tags": []
          },
          "execution_count": 14
        }
      ]
    },
    {
      "cell_type": "code",
      "metadata": {
        "id": "vbmycRBQw_BN"
      },
      "source": [
        "import re"
      ],
      "execution_count": 5,
      "outputs": []
    },
    {
      "cell_type": "code",
      "metadata": {
        "id": "vsTvpf9OxOaU"
      },
      "source": [
        "pattern = 'python'\n",
        "match_word = re.match(pattern,s1,flags = re.IGNORECASE)"
      ],
      "execution_count": 10,
      "outputs": []
    },
    {
      "cell_type": "code",
      "metadata": {
        "colab": {
          "base_uri": "https://localhost:8080/",
          "height": 35
        },
        "id": "1Zy3sqEUxeGJ",
        "outputId": "2d619805-0372-4daf-9e37-58446d5532e9"
      },
      "source": [
        "match_word.group(0)"
      ],
      "execution_count": 12,
      "outputs": [
        {
          "output_type": "execute_result",
          "data": {
            "application/vnd.google.colaboratory.intrinsic+json": {
              "type": "string"
            },
            "text/plain": [
              "'Python'"
            ]
          },
          "metadata": {
            "tags": []
          },
          "execution_count": 12
        }
      ]
    },
    {
      "cell_type": "code",
      "metadata": {
        "colab": {
          "base_uri": "https://localhost:8080/"
        },
        "id": "rHZF89O0xgtI",
        "outputId": "c401a32f-4c2e-419e-a432-cffb6d0e83f1"
      },
      "source": [
        "match_word.start()"
      ],
      "execution_count": 15,
      "outputs": [
        {
          "output_type": "execute_result",
          "data": {
            "text/plain": [
              "0"
            ]
          },
          "metadata": {
            "tags": []
          },
          "execution_count": 15
        }
      ]
    },
    {
      "cell_type": "code",
      "metadata": {
        "colab": {
          "base_uri": "https://localhost:8080/"
        },
        "id": "H__0qGWeyEx8",
        "outputId": "3f18a98f-2dbc-484e-8549-2ea96908709d"
      },
      "source": [
        "match_word.end()"
      ],
      "execution_count": 16,
      "outputs": [
        {
          "output_type": "execute_result",
          "data": {
            "text/plain": [
              "6"
            ]
          },
          "metadata": {
            "tags": []
          },
          "execution_count": 16
        }
      ]
    },
    {
      "cell_type": "code",
      "metadata": {
        "colab": {
          "base_uri": "https://localhost:8080/",
          "height": 181
        },
        "id": "nz3Z7yzMyGwV",
        "outputId": "5d5eadfe-859c-413f-facc-a96b44e87094"
      },
      "source": [
        "match_word = re.match(pattern,s2,flags = re.IGNORECASE)\n",
        "print(match_word.group(0))"
      ],
      "execution_count": 18,
      "outputs": [
        {
          "output_type": "error",
          "ename": "AttributeError",
          "evalue": "ignored",
          "traceback": [
            "\u001b[0;31m---------------------------------------------------------------------------\u001b[0m",
            "\u001b[0;31mAttributeError\u001b[0m                            Traceback (most recent call last)",
            "\u001b[0;32m<ipython-input-18-eccb5f4148b1>\u001b[0m in \u001b[0;36m<module>\u001b[0;34m()\u001b[0m\n\u001b[1;32m      1\u001b[0m \u001b[0mmatch_word\u001b[0m \u001b[0;34m=\u001b[0m \u001b[0mre\u001b[0m\u001b[0;34m.\u001b[0m\u001b[0mmatch\u001b[0m\u001b[0;34m(\u001b[0m\u001b[0mpattern\u001b[0m\u001b[0;34m,\u001b[0m\u001b[0ms2\u001b[0m\u001b[0;34m,\u001b[0m\u001b[0mflags\u001b[0m \u001b[0;34m=\u001b[0m \u001b[0mre\u001b[0m\u001b[0;34m.\u001b[0m\u001b[0mIGNORECASE\u001b[0m\u001b[0;34m)\u001b[0m\u001b[0;34m\u001b[0m\u001b[0;34m\u001b[0m\u001b[0m\n\u001b[0;32m----> 2\u001b[0;31m \u001b[0mprint\u001b[0m\u001b[0;34m(\u001b[0m\u001b[0mmatch_word\u001b[0m\u001b[0;34m.\u001b[0m\u001b[0mgroup\u001b[0m\u001b[0;34m(\u001b[0m\u001b[0;36m0\u001b[0m\u001b[0;34m)\u001b[0m\u001b[0;34m)\u001b[0m\u001b[0;34m\u001b[0m\u001b[0;34m\u001b[0m\u001b[0m\n\u001b[0m",
            "\u001b[0;31mAttributeError\u001b[0m: 'NoneType' object has no attribute 'group'"
          ]
        }
      ]
    },
    {
      "cell_type": "code",
      "metadata": {
        "colab": {
          "base_uri": "https://localhost:8080/"
        },
        "id": "2wepRVVxyP58",
        "outputId": "8c18bc54-8d1c-4761-942b-810520be3255"
      },
      "source": [
        "#Search\n",
        "search_word = re.search(pattern,s2,flags = re.IGNORECASE)\n",
        "print(search_word.group(0))"
      ],
      "execution_count": 52,
      "outputs": [
        {
          "output_type": "stream",
          "text": [
            "python\n"
          ],
          "name": "stdout"
        }
      ]
    },
    {
      "cell_type": "code",
      "metadata": {
        "colab": {
          "base_uri": "https://localhost:8080/",
          "height": 35
        },
        "id": "Af6bY-CPyrXi",
        "outputId": "e10a2c67-e6f8-495b-eb6a-6fee9e045805"
      },
      "source": [
        "re.findall(pattern,s2,re.I)[1]"
      ],
      "execution_count": 31,
      "outputs": [
        {
          "output_type": "execute_result",
          "data": {
            "application/vnd.google.colaboratory.intrinsic+json": {
              "type": "string"
            },
            "text/plain": [
              "'Python'"
            ]
          },
          "metadata": {
            "tags": []
          },
          "execution_count": 31
        }
      ]
    },
    {
      "cell_type": "code",
      "metadata": {
        "colab": {
          "base_uri": "https://localhost:8080/"
        },
        "id": "niYS4YBC2Ed7",
        "outputId": "a22867b5-2784-44cb-8edf-c1059dc0c7dc"
      },
      "source": [
        "'Python' in s2"
      ],
      "execution_count": 43,
      "outputs": [
        {
          "output_type": "execute_result",
          "data": {
            "text/plain": [
              "True"
            ]
          },
          "metadata": {
            "tags": []
          },
          "execution_count": 43
        }
      ]
    },
    {
      "cell_type": "code",
      "metadata": {
        "colab": {
          "base_uri": "https://localhost:8080/",
          "height": 35
        },
        "id": "Zvl96MVlzgp0",
        "outputId": "72dec312-9fb2-41fd-bf3b-6b266753c929"
      },
      "source": [
        "#substitues the pattern present in the string with the alternate string\n",
        "re.sub(pattern,'Java',s2,flags = re.IGNORECASE)"
      ],
      "execution_count": 33,
      "outputs": [
        {
          "output_type": "execute_result",
          "data": {
            "application/vnd.google.colaboratory.intrinsic+json": {
              "type": "string"
            },
            "text/plain": [
              "'I love the Java language. I also use Java to build programs at work'"
            ]
          },
          "metadata": {
            "tags": []
          },
          "execution_count": 33
        }
      ]
    },
    {
      "cell_type": "code",
      "metadata": {
        "colab": {
          "base_uri": "https://localhost:8080/"
        },
        "id": "RJfOAQ5V0Qi7",
        "outputId": "e7c4e30f-9a68-4eb1-81f9-6292cbab596e"
      },
      "source": [
        "s = \"Hello *&*&**&&* this is python text processing!!!!!! 😃 😀, I can't  do this for long\"\n",
        "print(s)"
      ],
      "execution_count": 42,
      "outputs": [
        {
          "output_type": "stream",
          "text": [
            "Hello *&*&**&&* this is python text processing!!!!!! 😃😀\n"
          ],
          "name": "stdout"
        }
      ]
    },
    {
      "cell_type": "code",
      "metadata": {
        "colab": {
          "base_uri": "https://localhost:8080/",
          "height": 35
        },
        "id": "77Nf78Aw09gf",
        "outputId": "f614249c-b792-4de8-e3ef-66f40416c05e"
      },
      "source": [
        "' '.join(re.findall(r'[a-zA-Z]+',s))"
      ],
      "execution_count": 46,
      "outputs": [
        {
          "output_type": "execute_result",
          "data": {
            "application/vnd.google.colaboratory.intrinsic+json": {
              "type": "string"
            },
            "text/plain": [
              "'Hello this is python text processing'"
            ]
          },
          "metadata": {
            "tags": []
          },
          "execution_count": 46
        }
      ]
    },
    {
      "cell_type": "code",
      "metadata": {
        "colab": {
          "base_uri": "https://localhost:8080/"
        },
        "id": "uDOlpxao1Lb1",
        "outputId": "4a2de0ca-2f38-40fb-8519-585561e20e40"
      },
      "source": [
        "search_word = re.search('(python).*(python)',s2,flags = re.IGNORECASE)\n",
        "print(search_word.group(0))\n",
        "print(search_word.group(1))\n",
        "print(search_word.group(2))"
      ],
      "execution_count": 75,
      "outputs": [
        {
          "output_type": "stream",
          "text": [
            "python language. I also use Python to build Python\n",
            "python\n",
            "Python\n"
          ],
          "name": "stdout"
        }
      ]
    },
    {
      "cell_type": "code",
      "metadata": {
        "id": "jpQGkzCk3RGP"
      },
      "source": [
        "#Assignment \n",
        "str_new = \"Anybody belonging to role number: 3456446 are pairs with role number: 3564646\"\n",
        "1. Findall \n",
        "2. Search"
      ],
      "execution_count": null,
      "outputs": []
    },
    {
      "cell_type": "code",
      "metadata": {
        "colab": {
          "base_uri": "https://localhost:8080/"
        },
        "id": "b2pN0l8T8YXR",
        "outputId": "932ada4d-6f16-4629-bd40-03ea718c993e"
      },
      "source": [
        "import requests\n",
        "\n",
        "data = requests.get('http://news.bbc.co.uk/2/hi/health/2284783.stm')\n",
        "content = data.text\n",
        "print(content)"
      ],
      "execution_count": 82,
      "outputs": [
        {
          "output_type": "stream",
          "text": [
            "<!doctype html public \"-//W3C//DTD HTML 4.0 Transitional//EN\" \"http://www.w3.org/TR/REC-html40/loose.dtd\">\r\n",
            "<html>\r\n",
            "<head>\r\n",
            "<title>BBC NEWS | Health | Blondes 'to die out in 200 years'</title>\r\n",
            "<meta name=\"keywords\" content=\"BBC, News, BBC News, news online, world, uk, international, foreign, british, online, service\">\r\n",
            "<meta name=\"OriginalPublicationDate\" content=\"2002/09/27 11:51:55\">\r\n",
            "<meta name=\"UKFS_URL\" content=\"/1/hi/health/2284783.stm\">\r\n",
            "<meta name=\"IFS_URL\" content=\"/2/hi/health/2284783.stm\">\r\n",
            "<meta name=\"HTTP-EQUIV\" content=\"text/html;charset=iso-8859-1\">\r\n",
            "<meta name=\"Headline\" content=\"Blondes 'to die out in 200 years'\">\r\n",
            "<meta name=\"Section\" content=\"Health\">\r\n",
            "<meta name=\"Description\" content=\"Natural blondes are an endangered species and will die out by 2202, a study suggests.\">\r\n",
            "<!-- GENMaps-->\r\n",
            "<map name=\"banner\">\r\n",
            "<area alt=\"BBC NEWS\" coords=\"7,9,167,32\" href=\"http://news.bbc.co.uk/1/hi.html\" shape=\"RECT\">\r\n",
            "</map>\r\n",
            "\r\n",
            "<script src=\"/nol/shared/js/livestats_v1_1.js\" language=\"JavaScript\" type=\"text/javascript\"></script>\r\n",
            "\r\n",
            "\r\n",
            "\r\n",
            "\r\n",
            "\r\n",
            "\t\t\t\r\n",
            "\t<map name=\"world_map\">\r\n",
            "<area alt=\"Americas\" coords=\"40,55,40,4,6,4,7,55\" href=\"/2/hi/americas/default.stm\" shape=\"POLY\">\r\n",
            "<area alt=\"Africa\" shape=\"POLY\" coords=\"41,54,41,27,46,27,46,32,46,33,55,33,55,36,58,36,58,54\" href=\"/2/hi/africa/default.stm\">\r\n",
            "<area alt=\"Europe\" shape=\"POLY\" coords=\"41,5,41,25,63,25,63,17,73,17,73,4\" href=\"/2/hi/europe/default.stm\">\r\n",
            "<area alt=\"Middle East\" shape=\"POLY\" coords=\"60,54,60,54,60,34,57,34,57,31,48,31,48,27,63,27,63,54\" href=\"/2/hi/middle_east/default.stm\">\r\n",
            "<area alt=\"South Asia\" coords=\"67,55,65,54,65,27,71,27,71,54\" href=\"/2/hi/south_asia/default.stm\" shape=\"POLY\">\r\n",
            "<area alt=\"Asia Pacific\" shape=\"POLY\" coords=\"75,54,73,54,73,25,65,25,65,19,75,19,75,5,94,5,94,56\" href=\"/2/hi/asia-pacific/default.stm\">\r\n",
            "</map>\r\n",
            "\r\n",
            "\r\n",
            "\r\n",
            "\r\n",
            "\r\n",
            "\r\n",
            "\r\n",
            "\r\n",
            "<link type=\"text/css\" rel=\"stylesheet\" href=\"/nol/shared/stylesheets/uki_globalstylesheet.css\">\r\n",
            "<script src=\"/nol/shared/js_ifs/nol.js\" language=\"JavaScript\"></script>\r\n",
            "</head>\r\n",
            "\r\n",
            "<body bgcolor=\"#FFFFFF\" text=\"#000000\" link=\"#000066\" alink=\"#000066\" vlink=\"#993333\" topmargin=\"0\" leftmargin=\"0\" marginheight=\"0\" marginwidth=\"0\">\r\n",
            "<!--[START]--(( BBCi TOOLBAR )) IFS News -->\r\n",
            "<table width=\"610\" cellpadding=\"0\" cellspacing=\"0\" border=\"0\">\r\n",
            "<tr>\r\n",
            "<td class=\"bbcpageShadow\"><a name=\"top\"><img src=\"/nol/shared/img/global_toolbar/t.gif\" width=\"600\" height=\"2\" alt=\"\"/></a></td>\r\n",
            "</tr>\r\n",
            "<form action=\"http://newssearch.bbc.co.uk/cgi-bin/search/results.pl\">\r\n",
            "<input type=\"hidden\" name=\"scope\" value=\"newsifs\">\r\n",
            "<input type=\"hidden\" name=\"tab\" value=\"news\">\r\n",
            "<tr>\r\n",
            "<td class=\"bbcpageGrey\">\r\n",
            "<table cellpadding=\"0\" cellspacing=\"0\" border=\"0\">\r\n",
            "<tr>\r\n",
            "<td class=\"bbcpageShadowLeft\" width=\"100%\"><a href=\"http://www.bbc.co.uk/\"><img src=\"/nol/shared/img/global_toolbar/logo.gif\" width=\"62\" height=\"20\" alt=\"BBCi\" border=\"0\" hspace=\"7\" vspace=\"2\" /></a></td>\r\n",
            "<td class=\"bbcpageGreyT\" align=\"right\"><font color=\"#000000\"><font face=\"tahoma,arial,helvetica,sans-serif\" size=\"1\" class=\"bbcpageWhite\"><b><a href=\"http://news.bbc.co.uk\" class=\"bbcpageWhite\">NEWS</a></b></font></td>\r\n",
            "<td class=\"bbcpageBar\"><font face=\"tahoma,arial,helvetica,sans-serif\" size=\"1\" class=\"bbcpageWhite\">&nbsp;&nbsp;<b><a href=\"http://news.bbc.co.uk/sport/\" class=\"bbcpageWhite\">SPORT</a></b></font></td>\r\n",
            "<td class=\"bbcpageBar2\"><font face=\"tahoma,arial,helvetica,sans-serif\" size=\"1\" class=\"bbcpageWhite\">&nbsp;&nbsp;<b><a href=\"http://www.bbc.co.uk/weather/\" class=\"bbcpageWhite\">WEATHER</a></b></font></td>\r\n",
            "<td class=\"bbcpageBar\"><font face=\"tahoma,arial,helvetica,sans-serif\" size=\"1\" class=\"bbcpageWhite\">&nbsp;&nbsp;<b><a href=\"http://www.bbc.co.uk/worldservice/index.shtml\" class=\"bbcpageWhite\">WORLD SERVICE</a></b></font></td>\r\n",
            "<!-- <td class=\"bbcpageBar2\"><font face=\"tahoma,arial,helvetica,sans-serif\" size=\"1\" class=\"bbcpageWhite\">&nbsp;&nbsp;<b><a href=\"http://www.bbc.co.uk/whereilive/\" class=\"bbcpageWhite\">WHERE&nbsp;I&nbsp;LIVE</a></b></font></td> -->\r\n",
            "<td class=\"bbcpageBar\"><font face=\"tahoma,arial,helvetica,sans-serif\" size=\"1\" class=\"bbcpageWhite\">&nbsp;&nbsp;<b><a href=\"http://www.bbc.co.uk/a-z/\" class=\"bbcpageWhite\">A-Z INDEX</a>&nbsp;</b></font></td>\r\n",
            "<td class=\"bbcpageSearchL\"><img src=\"/furniture/nothing.gif\" width=\"2\" height=\"30\" alt=\"\"/></td>\r\n",
            "<td class=\"bbcpageSearch\"><font face=\"tahoma,arial,helvetica,sans-serif\" size=\"1\" class=\"bbcpageCream\">&nbsp;&nbsp;<label for=\"bbcpagesearchbox\"><b>SEARCH</b></label>&nbsp;</font></td>\r\n",
            "<td class=\"bbcpageSearch2\" style=\"font-family:tahoma,arial,helvetica,sans-serif;\"><img src=\"/shared/img/o.gif\" width=\"1\" height=\"3\" alt=\"\" /><br /><INPUT type=\"text\" name=\"q\" id=\"bbcpagesearchbox\" size=\"5\" style=\"width:95px;\" /></td>\r\n",
            "<td class=\"bbcpageSearch\"><img src=\"/shared/img/o.gif\" width=\"3\" height=\"1\" alt=\"\" /></td>\r\n",
            "<td class=\"bbcpageSearch2\"><img src=\"/shared/img/o.gif\" width=\"1\" height=\"5\" alt=\"\" /><br /><input type=\"image\" value=\"go\" src=\"/nol/shared/img/global_toolbar/go.gif\" width=\"20\" height=\"16\" border=\"0\" alt=\"Go\" align=\"top\" /></td>\r\n",
            "<td class=\"bbcpageSearch\"><img src=\"/shared/img/o.gif\" width=\"3\" height=\"1\" alt=\"\" /></td>\r\n",
            "<td class=\"bbcpageSearchR\"><img src=\"/shared/img/o.gif\" width=\"1\" height=\"30\" alt=\"\" /></td>\r\n",
            "</tr>\r\n",
            "\r\n",
            "<tr bgcolor=\"#000000\">\r\n",
            "<td><img src=\"/shared/img/o.gif\" width=\"76\" height=\"1\" alt=\"\"/></td>\r\n",
            "<td><img src=\"/shared/img/o.gif\" width=\"76\" height=\"1\" alt=\"\"/></td>\r\n",
            "<td><img src=\"/shared/img/o.gif\" width=\"20\" height=\"1\" alt=\"\"/></td>\r\n",
            "<td><img src=\"/shared/img/o.gif\" width=\"42\" height=\"1\" alt=\"\"/></td>\r\n",
            "<td><img src=\"/shared/img/o.gif\" width=\"94\" height=\"1\" alt=\"\"/></td>\r\n",
            "<td><img src=\"/shared/img/o.gif\" width=\"80\" height=\"1\" alt=\"\"/></td>\r\n",
            "<!-- <td><img src=\"/shared/img/o.gif\" width=\"42\" height=\"1\" alt=\"\"/></td> -->\r\n",
            "<td><img src=\"/shared/img/o.gif\" width=\"2\" height=\"1\" alt=\"\"/></td>\r\n",
            "<td><img src=\"/shared/img/o.gif\" width=\"51\" height=\"1\" alt=\"\"/></td>\r\n",
            "<td><img src=\"/shared/img/o.gif\" width=\"100\" height=\"1\" alt=\"\"/></td>\r\n",
            "<td><img src=\"/shared/img/o.gif\" width=\"3\" height=\"1\" alt=\"\"/></td>\r\n",
            "<td><img src=\"/shared/img/o.gif\" width=\"20\" height=\"1\" alt=\"\"/></td>\r\n",
            "<td><img src=\"/shared/img/o.gif\" width=\"3\" height=\"1\" alt=\"\"/></td>\r\n",
            "<td><img src=\"/shared/img/o.gif\" width=\"1\" height=\"1\" alt=\"\"/></td>\r\n",
            "</tr>\r\n",
            "\r\n",
            "</table></td>\r\n",
            "\r\n",
            "</tr>\r\n",
            "</form>\r\n",
            "</table>\r\n",
            "<!-- end news toolbar 1.0 -->\r\n",
            "<table width=\"610\" cellspacing=\"0\" cellpadding=\"0\" border=\"0\">\r\n",
            "<tr><td bgcolor=\"#9C0000\"><img src=\"/nol/shared/img/banners/ifs_banner.gif\" width=\"610\" height=\"40\" border=\"0\" alt=\"BBC News World Edition\" usemap=\"#banner\"></td></tr></table>\r\n",
            "<!--END OF BANNER-->\r\n",
            "\r\n",
            "<table border=\"0\" cellpadding=\"0\" cellspacing=\"0\" width=\"610\">\r\n",
            "<tr>\r\n",
            "<td width=\"10\"><img src=\"/shared/img/o.gif\" width=\"10\" height=\"1\" alt=\"\"></td>\r\n",
            "<td width=\"100\"><img src=\"/shared/img/o.gif\" width=\"100\" height=\"1\" alt=\"\"></td>\r\n",
            "<td width=\"5\"><img src=\"/shared/img/o.gif\" width=\"5\" height=\"1\" alt=\"\"></td>\r\n",
            "<td bgcolor=\"#999966\" width=\"315\"><img src=\"/shared/img/o.gif\" width=\"315\" height=\"1\" alt=\"\"></td>\r\n",
            "<td bgcolor=\"#999966\" width=\"10\"><img src=\"/shared/img/o.gif\" width=\"10\" height=\"1\" alt=\"\"></td>\r\n",
            "<td bgcolor=\"#999966\" width=\"170\"><img src=\"/shared/img/o.gif\" width=\"170\" height=\"1\" alt=\"\"></td>\r\n",
            "</tr>\r\n",
            "\r\n",
            "<tr>\r\n",
            "<td width=\"10\"><img src=\"/shared/img/o.gif\" width=\"10\" height=\"1\" alt=\"\"></td>\r\n",
            "<td width=\"100\"><img src=\"/shared/img/o.gif\" width=\"100\" height=\"1\" alt=\"\"></td>\r\n",
            "<td width=\"5\"><img src=\"/shared/img/o.gif\" width=\"5\" height=\"3\" alt=\"\"></td>\r\n",
            "<td colspan=\"3\" width=\"495\" class=\"crumbtraila\" bgcolor=\"#CCCC99\">\r\n",
            "    &nbsp;You are in:&nbsp;<a href=\"/2/hi/health/default.stm\"><b>Health</b> </a>&nbsp;\r\n",
            "    \r\n",
            "    \r\n",
            "</td>\r\n",
            "</tr>\r\n",
            "<tr>\r\n",
            "<td width=\"10\"><img src=\"/shared/img/o.gif\" width=\"10\" height=\"1\" alt=\"\"></td>\r\n",
            "<td align=\"LEFT\" valign=\"TOP\">\r\n",
            "    \r\n",
            "\t<table width=\"100\" cellspacing=\"0\" cellpadding=\"0\" border=\"0\">\r\n",
            "\t<tr>\r\n",
            "\t<td><img height=\"1\" border=\"0\" width=\"96\" alt=\"\" src=\"http://newsimg.bbc.co.uk/shared/img/o.gif\"></td>\r\n",
            "\t<td><img height=\"1\" border=\"0\" width=\"4\" alt=\"\" src=\"http://newsimg.bbc.co.uk/shared/img/o.gif\"></td>\r\n",
            "\t</tr>\r\n",
            "\t\r\n",
            "\t\r\n",
            "\t\t\r\n",
            "\t\t\r\n",
            "\t\t\t\r\n",
            "\t\t\t\t\r\n",
            "\t\t\t\t\t<tr>\r\n",
            "\t\t\t\t\t<td bgColor=\"#FFFFFF\" class=\"sectionStyleTight\" align=\"right\"><a href=\"/2/hi/default.stm\" class=\"index\"><b>News Front Page</b></a></td><td bgcolor=\"#FFFFFF\"><img height=\"1\" width=\"1\" alt=\"\" src=\"http://newsimg.bbc.co.uk/shared/img/o.gif\"></td>\r\n",
            "\t\t\t\t\t</tr>\r\n",
            "\t\t\t\t\r\n",
            "\t\t\t\t\r\n",
            "\t\t\t\t\r\n",
            "\t\t\t\t\t<tr>\r\n",
            "\t\t\t\t\t<td colspan=\"2\"><img height=\"60\" usemap=\"#world_map\" border=\"0\" width=\"100\" alt=\"\" src=\"http://newsimg.bbc.co.uk/nol/shared/img/nav/blue_map_world.gif\"></td>\r\n",
            "\t\t\t\t\t</tr>\r\n",
            "\t\t\t\t\r\n",
            "\t\t\t\t\r\n",
            "\t\t\t\r\n",
            "\t\t\t\r\n",
            "\t\t\r\n",
            "\t\r\n",
            "\r\n",
            "\t\r\n",
            "\r\n",
            "\t\r\n",
            "\t\t\r\n",
            "\t\t\r\n",
            "\t\t\t\r\n",
            "\t\t\t\t\r\n",
            "\t\t\t\t\t<tr>\r\n",
            "\t\t\t\t\t<td bgColor=\"#FFFFFF\" class=\"sectionStyle\" align=\"right\"><a href=\"/2/hi/africa/default.stm\" class=\"index\"><b>Africa</b></a></td><td bgcolor=\"#FFFFFF\"><img height=\"1\" width=\"1\" alt=\"\" src=\"http://newsimg.bbc.co.uk/shared/img/o.gif\"></td>\r\n",
            "\t\t\t\t\t</tr>\r\n",
            "\t\t\t\t\r\n",
            "\t\t\t\t\r\n",
            "\t\t\t\t\r\n",
            "\t\t\t\t\r\n",
            "\t\t\t\r\n",
            "\t\t\t\r\n",
            "\t\t\r\n",
            "\t\r\n",
            "\r\n",
            "\t\r\n",
            "\r\n",
            "\t\r\n",
            "\t\t\r\n",
            "\t\t\r\n",
            "\t\t\t\r\n",
            "\t\t\t\t\r\n",
            "\t\t\t\t\t<tr>\r\n",
            "\t\t\t\t\t<td bgColor=\"#FFFFFF\" class=\"sectionStyle\" align=\"right\"><a href=\"/2/hi/americas/default.stm\" class=\"index\"><b>Americas</b></a></td><td bgcolor=\"#FFFFFF\"><img height=\"1\" width=\"1\" alt=\"\" src=\"http://newsimg.bbc.co.uk/shared/img/o.gif\"></td>\r\n",
            "\t\t\t\t\t</tr>\r\n",
            "\t\t\t\t\r\n",
            "\t\t\t\t\r\n",
            "\t\t\t\t\r\n",
            "\t\t\t\t\r\n",
            "\t\t\t\r\n",
            "\t\t\t\r\n",
            "\t\t\r\n",
            "\t\r\n",
            "\r\n",
            "\t\r\n",
            "\r\n",
            "\t\r\n",
            "\t\t\r\n",
            "\t\t\r\n",
            "\t\t\t\r\n",
            "\t\t\t\t\r\n",
            "\t\t\t\t\t<tr>\r\n",
            "\t\t\t\t\t<td bgColor=\"#FFFFFF\" class=\"sectionStyle\" align=\"right\"><a href=\"/2/hi/asia-pacific/default.stm\" class=\"index\"><b>Asia-Pacific</b></a></td><td bgcolor=\"#FFFFFF\"><img height=\"1\" width=\"1\" alt=\"\" src=\"http://newsimg.bbc.co.uk/shared/img/o.gif\"></td>\r\n",
            "\t\t\t\t\t</tr>\r\n",
            "\t\t\t\t\r\n",
            "\t\t\t\t\r\n",
            "\t\t\t\t\r\n",
            "\t\t\t\t\r\n",
            "\t\t\t\r\n",
            "\t\t\t\r\n",
            "\t\t\r\n",
            "\t\r\n",
            "\r\n",
            "\t\r\n",
            "\r\n",
            "\t\r\n",
            "\t\t\r\n",
            "\t\t\r\n",
            "\t\t\t\r\n",
            "\t\t\t\t\r\n",
            "\t\t\t\t\t<tr>\r\n",
            "\t\t\t\t\t<td bgColor=\"#FFFFFF\" class=\"sectionStyle\" align=\"right\"><a href=\"/2/hi/europe/default.stm\" class=\"index\"><b>Europe</b></a></td><td bgcolor=\"#FFFFFF\"><img height=\"1\" width=\"1\" alt=\"\" src=\"http://newsimg.bbc.co.uk/shared/img/o.gif\"></td>\r\n",
            "\t\t\t\t\t</tr>\r\n",
            "\t\t\t\t\r\n",
            "\t\t\t\t\r\n",
            "\t\t\t\t\r\n",
            "\t\t\t\t\r\n",
            "\t\t\t\r\n",
            "\t\t\t\r\n",
            "\t\t\r\n",
            "\t\r\n",
            "\r\n",
            "\t\r\n",
            "\r\n",
            "\t\r\n",
            "\t\t\r\n",
            "\t\t\r\n",
            "\t\t\t\r\n",
            "\t\t\t\t\r\n",
            "\t\t\t\t\t<tr>\r\n",
            "\t\t\t\t\t<td bgColor=\"#FFFFFF\" class=\"sectionStyle\" align=\"right\"><a href=\"/2/hi/middle_east/default.stm\" class=\"index\"><b>Middle East</b></a></td><td bgcolor=\"#FFFFFF\"><img height=\"1\" width=\"1\" alt=\"\" src=\"http://newsimg.bbc.co.uk/shared/img/o.gif\"></td>\r\n",
            "\t\t\t\t\t</tr>\r\n",
            "\t\t\t\t\r\n",
            "\t\t\t\t\r\n",
            "\t\t\t\t\r\n",
            "\t\t\t\t\r\n",
            "\t\t\t\r\n",
            "\t\t\t\r\n",
            "\t\t\r\n",
            "\t\r\n",
            "\r\n",
            "\t\r\n",
            "\r\n",
            "\t\r\n",
            "\t\t\r\n",
            "\t\t\r\n",
            "\t\t\t\r\n",
            "\t\t\t\t\r\n",
            "\t\t\t\t\t<tr>\r\n",
            "\t\t\t\t\t<td bgColor=\"#FFFFFF\" class=\"sectionStyle\" align=\"right\"><a href=\"/2/hi/south_asia/default.stm\" class=\"index\"><b>South Asia</b></a></td><td bgcolor=\"#FFFFFF\"><img height=\"1\" width=\"1\" alt=\"\" src=\"http://newsimg.bbc.co.uk/shared/img/o.gif\"></td>\r\n",
            "\t\t\t\t\t</tr>\r\n",
            "\t\t\t\t\r\n",
            "\t\t\t\t\r\n",
            "\t\t\t\t\r\n",
            "\t\t\t\t\r\n",
            "\t\t\t\r\n",
            "\t\t\t\r\n",
            "\t\t\r\n",
            "\t\r\n",
            "\r\n",
            "\t\r\n",
            "\r\n",
            "\t\r\n",
            "\t\t\r\n",
            "\t\t\r\n",
            "\t\t\t\r\n",
            "\t\t\t\t\r\n",
            "\t\t\t\t\t<tr>\r\n",
            "\t\t\t\t\t<td bgColor=\"#FFFFFF\" class=\"sectionStyle\" align=\"right\"><a href=\"/2/hi/uk_news/default.stm\" class=\"index\"><b>UK</b></a></td><td bgcolor=\"#FFFFFF\"><img height=\"1\" width=\"1\" alt=\"\" src=\"http://newsimg.bbc.co.uk/shared/img/o.gif\"></td>\r\n",
            "\t\t\t\t\t</tr>\r\n",
            "\t\t\t\t\r\n",
            "\t\t\t\t\r\n",
            "\t\t\t\t\r\n",
            "\t\t\t\t\r\n",
            "\t\t\t\r\n",
            "\t\t\t\r\n",
            "\t\t\r\n",
            "\t\r\n",
            "\r\n",
            "\t\r\n",
            "\r\n",
            "\t\r\n",
            "\t\t\r\n",
            "\t\t\r\n",
            "\t\t\t\r\n",
            "\t\t\t\t\r\n",
            "\t\t\t\t\t<tr>\r\n",
            "\t\t\t\t\t<td bgColor=\"#FFFFFF\" class=\"sectionStyle\" align=\"right\"><a href=\"/2/hi/business/default.stm\" class=\"index\"><b>Business</b></a></td><td bgcolor=\"#FFFFFF\"><img height=\"1\" width=\"1\" alt=\"\" src=\"http://newsimg.bbc.co.uk/shared/img/o.gif\"></td>\r\n",
            "\t\t\t\t\t</tr>\r\n",
            "\t\t\t\t\r\n",
            "\t\t\t\t\r\n",
            "\t\t\t\t\r\n",
            "\t\t\t\t\r\n",
            "\t\t\t\r\n",
            "\t\t\t\r\n",
            "\t\t\r\n",
            "\t\r\n",
            "\r\n",
            "\t\r\n",
            "\r\n",
            "\t\r\n",
            "\t\t\r\n",
            "\t\t\r\n",
            "\t\t\t\r\n",
            "\t\t\t\t\r\n",
            "\t\t\t\t\t<tr>\r\n",
            "\t\t\t\t\t<td bgColor=\"#FFFFFF\" class=\"sectionStyle\" align=\"right\"><a href=\"/2/hi/entertainment/default.stm\" class=\"index\"><b>Entertainment</b></a></td><td bgcolor=\"#FFFFFF\"><img height=\"1\" width=\"1\" alt=\"\" src=\"http://newsimg.bbc.co.uk/shared/img/o.gif\"></td>\r\n",
            "\t\t\t\t\t</tr>\r\n",
            "\t\t\t\t\r\n",
            "\t\t\t\t\r\n",
            "\t\t\t\t\r\n",
            "\t\t\t\t\r\n",
            "\t\t\t\r\n",
            "\t\t\t\r\n",
            "\t\t\r\n",
            "\t\r\n",
            "\r\n",
            "\t\r\n",
            "\r\n",
            "\t\r\n",
            "\t\t\r\n",
            "\t\t\r\n",
            "\t\t\t\r\n",
            "\t\t\t\t\r\n",
            "\t\t\t\t\t<tr>\r\n",
            "\t\t\t\t\t<td bgColor=\"#FFFFFF\" class=\"sectionStyleTight\" align=\"right\"><a href=\"/2/hi/science/nature/default.stm\" class=\"index\"><b>Science/Nature</b></a></td><td bgcolor=\"#FFFFFF\"><img height=\"1\" width=\"1\" alt=\"\" src=\"http://newsimg.bbc.co.uk/shared/img/o.gif\"></td>\r\n",
            "\t\t\t\t\t</tr>\r\n",
            "\t\t\t\t\r\n",
            "\t\t\t\t\r\n",
            "\t\t\t\t\r\n",
            "\t\t\t\t\r\n",
            "\t\t\t\r\n",
            "\t\t\t\r\n",
            "\t\t\r\n",
            "\t\r\n",
            "\r\n",
            "\t\r\n",
            "\r\n",
            "\t\r\n",
            "\t\t\r\n",
            "\t\t\r\n",
            "\t\t\t\r\n",
            "\t\t\t\t\r\n",
            "\t\t\t\t\t<tr>\r\n",
            "\t\t\t\t\t<td bgColor=\"#FFFFFF\" class=\"sectionStyle\" align=\"right\"><a href=\"/2/hi/technology/default.stm\" class=\"index\"><b>Technology</b></a></td><td bgcolor=\"#FFFFFF\"><img height=\"1\" width=\"1\" alt=\"\" src=\"http://newsimg.bbc.co.uk/shared/img/o.gif\"></td>\r\n",
            "\t\t\t\t\t</tr>\r\n",
            "\t\t\t\t\r\n",
            "\t\t\t\t\r\n",
            "\t\t\t\t\r\n",
            "\t\t\t\t\r\n",
            "\t\t\t\r\n",
            "\t\t\t\r\n",
            "\t\t\r\n",
            "\t\r\n",
            "\r\n",
            "\t\r\n",
            "\r\n",
            "\t\r\n",
            "\t\t\r\n",
            "\t\t\r\n",
            "\t\t\t\r\n",
            "\t\t\t\t\r\n",
            "\t\t\t\t\r\n",
            "\t\t\t\t\t<tr>\r\n",
            "\t\t\t\t\t<td bgColor=\"#999999\" class=\"sectionStyle\" align=\"right\"><a href=\"/2/hi/health/default.stm\" class=\"index\"><b>Health</b></a></td><td bgColor=\"#CC3300\"><img height=\"1\" width=\"1\" alt=\"\" src=\"http://newsimg.bbc.co.uk/shared/img/o.gif\"></td>\r\n",
            "\t\t\t\t\t</tr>\r\n",
            "\t\t\t\t\t\r\n",
            "\t\r\n",
            "\t\t\r\n",
            "\t\t\r\n",
            "\t\t\t\r\n",
            "\t\t\t\r\n",
            "\t\t\t\t\r\n",
            "\t\t\t\t\r\n",
            "\t\t\t\t\t<tr>\r\n",
            "\t\t\t\t\t<td bgColor=\"#CCCCCC\" align=\"right\" class=\"sectionStyle\"><a href=\"/2/hi/health/medical_notes/default.stm\" class=\"index\"><b>Medical notes</b></a></td><td bgcolor=\"#CCCCCC\"><img height=\"1\" width=\"1\" alt=\"\" src=\"http://newsimg.bbc.co.uk/shared/img/o.gif\"></td>\r\n",
            "\t\t\t\t\t</tr>\r\n",
            "\t\t\t\t\r\n",
            "\t\t\t\t\r\n",
            "\t\t\t\t\r\n",
            "\t\t\t\r\n",
            "\t\t\r\n",
            "\t\r\n",
            "\r\n",
            "\t\r\n",
            "\r\n",
            "\t\t\t\t\r\n",
            "\t\t\t\t\r\n",
            "\t\t\t\t\r\n",
            "\t\t\t\t\t<tr>\r\n",
            "\t\t\t\t\t<td align=\"CENTER\" colspan=\"2\"><span class=\"lhsNavSeparator\">-------------</span></td>\r\n",
            "\t\t\t\t\t</tr>\r\n",
            "\t\t\t\t\r\n",
            "\t\t\t\r\n",
            "\t\t\t\r\n",
            "\t\t\r\n",
            "\t\r\n",
            "\r\n",
            "\t\r\n",
            "\r\n",
            "\t\r\n",
            "\t\t\r\n",
            "\t\t\r\n",
            "\t\t\t\r\n",
            "\t\t\t\t\r\n",
            "\t\t\t\t\t<tr>\r\n",
            "\t\t\t\t\t<td bgColor=\"#FFFFFF\" class=\"sectionStyle\" align=\"right\"><a href=\"/2/hi/talking_point/default.stm\" class=\"index\"><b>Talking Point</b></a></td><td bgcolor=\"#FFFFFF\"><img height=\"1\" width=\"1\" alt=\"\" src=\"http://newsimg.bbc.co.uk/shared/img/o.gif\"></td>\r\n",
            "\t\t\t\t\t</tr>\r\n",
            "\t\t\t\t\r\n",
            "\t\t\t\t\r\n",
            "\t\t\t\t\r\n",
            "\t\t\t\t\r\n",
            "\t\t\t\t\t<tr>\r\n",
            "\t\t\t\t\t<td align=\"CENTER\" colspan=\"2\"><span class=\"lhsNavSeparator\">-------------</span></td>\r\n",
            "\t\t\t\t\t</tr>\r\n",
            "\t\t\t\t\r\n",
            "\t\t\t\r\n",
            "\t\t\t\r\n",
            "\t\t\r\n",
            "\t\r\n",
            "\r\n",
            "\t\r\n",
            "\r\n",
            "\t\r\n",
            "\t\t\r\n",
            "\t\t\t\r\n",
            "\t\t\t\t<tr>\r\n",
            "\t\t\t\t<td bgColor=\"#FFFFFF\" class=\"sectionStyleTight\" align=\"right\"><a href=\"/2/shared/bsp/hi/country_profiles/html/default.stm\" class=\"index\"><b>Country Profiles</b></a></td><td bgcolor=\"#FFFFFF\"><img height=\"1\" width=\"1\" alt=\"\" src=\"http://newsimg.bbc.co.uk/shared/img/o.gif\"></td>\r\n",
            "\t\t\t\t</tr>\r\n",
            "\t\t\t\r\n",
            "\t\t\t\r\n",
            "\t\t\t\r\n",
            "\t\t\r\n",
            "\t\t\r\n",
            "\t\r\n",
            "\r\n",
            "\t\r\n",
            "\r\n",
            "\t\r\n",
            "\t\t\r\n",
            "\t\t\t\r\n",
            "\t\t\t\t<tr>\r\n",
            "\t\t\t\t<td bgColor=\"#FFFFFF\" class=\"sectionStyle\" align=\"right\"><a href=\"/2/shared/bsp/hi/in_depth/html/default.stm\" class=\"index\"><b>In Depth</b></a></td><td bgcolor=\"#FFFFFF\"><img height=\"1\" width=\"1\" alt=\"\" src=\"http://newsimg.bbc.co.uk/shared/img/o.gif\"></td>\r\n",
            "\t\t\t\t</tr>\r\n",
            "\t\t\t\r\n",
            "\t\t\t\r\n",
            "\t\t\t\r\n",
            "\t\t\t\t<tr>\r\n",
            "\t\t\t\t<td align=\"CENTER\" colspan=\"2\"><span class=\"lhsNavSeparator\">-------------</span></td>\r\n",
            "\t\t\t\t</tr>\r\n",
            "\t\t\t\r\n",
            "\t\t\r\n",
            "\t\t\r\n",
            "\t\r\n",
            "\r\n",
            "\t\r\n",
            "\r\n",
            "\t\r\n",
            "\t\t\r\n",
            "\t\t\r\n",
            "\t\t\t\r\n",
            "\t\t\t\t\r\n",
            "\t\t\t\t\t<tr>\r\n",
            "\t\t\t\t\t<td bgColor=\"#FFFFFF\" class=\"sectionStyle\" align=\"right\"><a href=\"/2/hi/programmes/default.stm\" class=\"index\"><b>Programmes</b></a></td><td bgcolor=\"#FFFFFF\"><img height=\"1\" width=\"1\" alt=\"\" src=\"http://newsimg.bbc.co.uk/shared/img/o.gif\"></td>\r\n",
            "\t\t\t\t\t</tr>\r\n",
            "\t\t\t\t\r\n",
            "\t\t\t\t\r\n",
            "\t\t\t\t\r\n",
            "\t\t\t\t\r\n",
            "\t\t\t\t\t<tr>\r\n",
            "\t\t\t\t\t<td align=\"CENTER\" colspan=\"2\"><span class=\"lhsNavSeparator\">-------------</span></td>\r\n",
            "\t\t\t\t\t</tr>\r\n",
            "\t\t\t\t\r\n",
            "\t\t\t\r\n",
            "\t\t\t\r\n",
            "\t\t\r\n",
            "\t\r\n",
            "\r\n",
            "\t\r\n",
            "\r\n",
            "\t<tr><td colspan=\"2\"><img height=\"5\" border=\"0\" width=\"1\" alt=\"\" src=\"http://newsimg.bbc.co.uk/shared/img/o.gif\"></td></tr>\r\n",
            "\t</table>\r\n",
            "\r\n",
            "\r\n",
            "\r\n",
            "    \r\n",
            "    \r\n",
            "\r\n",
            "\r\n",
            "<table width=\"100\" cellspacing=\"0\" cellpadding=\"0\" border=\"0\">\r\n",
            "<tr>\r\n",
            "<td><a href=\"/sport2/hi/default.stm\"><img src=\"/nol/shared/img/nav/sport.gif\" width=\"100\" height=\"13\" alt=\"BBC Sport\" border=\"0\"></a></td>\r\n",
            "</tr>\r\n",
            "<tr>\r\n",
            "<td><img src=\"/shared/img/o.gif\" height=\"3\" width=\"1\" border=\"0\"></td>\r\n",
            "</tr>\r\n",
            "<tr>\r\n",
            "<td><a href=\"http://www.bbc.co.uk/weather/worldweather/index.shtml\"><img src=\"/nol/shared/img/nav/weather.gif\" width=\"100\" height=\"13\" alt=\"BBC Weather\" border=\"0\"></a></td>\r\n",
            "</tr>\r\n",
            "<tr>\r\n",
            "<td><img src=\"/shared/img/o.gif\" height=\"10\" width=\"1\" border=\"0\"></td>\r\n",
            "</tr>\r\n",
            "\r\n",
            "</table>\r\n",
            "\r\n",
            "\r\n",
            "<table width=\"100\" cellspacing=\"0\" cellpadding=\"0\" border=\"0\">\r\n",
            "<tr bgcolor=\"#990000\">\r\n",
            "<td><img src=\"/shared/img/o.gif\" width=\"1\" height=\"1\" alt=\"\"></td>\r\n",
            "<td><img src=\"/shared/img/o.gif\" width=\"3\" height=\"1\" alt=\"\"></td>\r\n",
            "<td><img src=\"/shared/img/o.gif\" width=\"90\" height=\"1\" alt=\"\"></td>\r\n",
            "<td><img src=\"/shared/img/o.gif\" width=\"5\" height=\"1\" alt=\"\"></td>\r\n",
            "<td><img src=\"/shared/img/o.gif\" width=\"1\" height=\"1\" alt=\"\"></td>\r\n",
            "</tr>\r\n",
            "<tr bgcolor=\"#990000\">\r\n",
            "<td colspan=\"3\" align=\"right\"><div class=\"servicehead\">SERVICES\r\n",
            "</div></td>\r\n",
            "<td><img src=\"/shared/img/o.gif\" width=\"5\" height=\"1\" alt=\"\"></td>\r\n",
            "<td><img src=\"/shared/img/o.gif\" width=\"1\" height=\"1\" alt=\"\"></td>\r\n",
            "</tr>\r\n",
            "<tr>\r\n",
            "<td bgcolor=\"#CCCCCC\"><img src=\"/shared/img/o.gif\" width=\"1\" height=\"1\" alt=\"\"></td>\r\n",
            "<td class=\"servicebg1\"><img src=\"/shared/img/o.gif\" width=\"3\" height=\"1\" alt=\"\"></td>\r\n",
            "<td align=\"right\" class=\"servicebg1\"><div class=\"servicesnav\"><a href=\"http://www.bbc.co.uk/email/news\">Daily E-mail\r\n",
            "</a></div></td>\r\n",
            "<td class=\"serviceoption1\"><img src=\"/shared/img/o.gif\" width=\"5\" height=\"1\" alt=\"\"></td>\r\n",
            "<td bgcolor=\"#CCCCCC\"><img src=\"/shared/img/o.gif\" width=\"1\" height=\"1\" alt=\"\"></td>\r\n",
            "</tr> \r\n",
            "<tr>\r\n",
            "<td bgcolor=\"#CCCCCC\"><img src=\"/shared/img/o.gif\" width=\"1\" height=\"1\" alt=\"\"></td>\r\n",
            "<td class=\"servicebg2\"><img src=\"/shared/img/o.gif\" width=\"3\" height=\"1\" alt=\"\"></td>\r\n",
            "<td align=\"right\" class=\"servicebg2\"><div class=\"servicesnav\"><a href=\"/2/shared/bsp/hi/services/ticker/html/default.stm\">News Ticker\r\n",
            "</a></div></td>\r\n",
            "<td class=\"serviceoption2\"><img src=\"/shared/img/o.gif\" width=\"5\" height=\"1\" alt=\"\"></td>\r\n",
            "<td bgcolor=\"#CCCCCC\"><img src=\"/shared/img/o.gif\" width=\"1\" height=\"1\" alt=\"\"></td>\r\n",
            "</tr>\r\n",
            "<tr>\r\n",
            "<td bgcolor=\"#CCCCCC\"><img src=\"/shared/img/o.gif\" width=\"1\" height=\"1\" alt=\"\"></td>\r\n",
            "<td class=\"servicebg3\"><img src=\"/shared/img/o.gif\" width=\"3\" height=\"1\" alt=\"\"></td>\r\n",
            "<td align=\"right\" class=\"servicebg3\"><div class=\"servicesnav\"><a href=\"/2/shared/bsp/hi/services/mobiles/html/default.stm\">Mobile/PDAs\r\n",
            "</a></div></td>\r\n",
            "<td class=\"serviceoption3\"><img src=\"/shared/img/o.gif\" width=\"5\" height=\"1\" alt=\"\"></td>\r\n",
            "<td bgcolor=\"#CCCCCC\"><img src=\"/shared/img/o.gif\" width=\"1\" height=\"1\" alt=\"\"></td>\r\n",
            "</tr>\r\n",
            "<tr>\r\n",
            "<td bgcolor=\"#CCCCCC\"><img src=\"/shared/img/o.gif\" width=\"1\" height=\"1\" alt=\"\"></td>\r\n",
            "<td align=\"center\" colspan=\"3\"><span class=\"lhsNavSeparator\">-------------\r\n",
            "</span></td>\r\n",
            "<td bgcolor=\"#CCCCCC\"><img src=\"/shared/img/o.gif\" width=\"1\" height=\"1\" alt=\"\"></td>\r\n",
            "</tr>\r\n",
            "</table>\r\n",
            "\r\n",
            "\r\n",
            "    <table width=\"100\" cellspacing=\"0\" cellpadding=\"0\" border=\"0\">\r\n",
            "    <tr>\r\n",
            "    <td bgcolor=\"#CCCCCC\"><img src=\"/shared/img/o.gif\" width=\"1\" height=\"1\" alt=\"\"></td>\r\n",
            "    <td><img src=\"/shared/img/o.gif\" width=\"3\" height=\"1\" alt=\"\"></td>\r\n",
            "    <td><img src=\"/shared/img/o.gif\" width=\"90\" height=\"1\" alt=\"\"></td>\r\n",
            "    <td><img src=\"/shared/img/o.gif\" width=\"5\" height=\"1\" alt=\"\"></td>\r\n",
            "    <td bgcolor=\"#CCCCCC\"><img src=\"/shared/img/o.gif\" width=\"1\" height=\"1\" alt=\"\"></td>\r\n",
            "    </tr>\r\n",
            "    <tr>\r\n",
            "    <td bgcolor=\"#CCCCCC\"><img src=\"/shared/img/o.gif\" width=\"1\" height=\"1\" alt=\"\"></td>\r\n",
            "    <td class=\"servicebg4\"><img src=\"/shared/img/o.gif\" width=\"3\" height=\"1\" alt=\"\"></td>\r\n",
            "    <td align=\"right\" class=\"servicebg4\"><div class=\"servicesnav\"><a href=\"/2/low/health/2284783.stm\">Text Only</a></div></td>\r\n",
            "    <td class=\"serviceoption4\"><img src=\"/shared/img/o.gif\" width=\"5\" height=\"1\" alt=\"\"></td>\r\n",
            "    <td bgcolor=\"#CCCCCC\"><img src=\"/shared/img/o.gif\" width=\"1\" height=\"1\" alt=\"\"></td>\r\n",
            "    </tr>\r\n",
            "    </table>\r\n",
            "\r\n",
            "\r\n",
            "\r\n",
            "\r\n",
            "<table width=\"100\" cellspacing=\"0\" cellpadding=\"0\" border=\"0\">\r\n",
            "<tr>\r\n",
            "<td bgcolor=\"#CCCCCC\"><img src=\"/shared/img/o.gif\" width=\"1\" height=\"1\" alt=\"\"></td>\r\n",
            "<td class=\"servicebg5\"><img src=\"/shared/img/o.gif\" width=\"3\" height=\"1\" alt=\"\"></td>\r\n",
            "<td align=\"right\" class=\"servicebg5\"><div class=\"servicesnav\"><a href=\"/2/shared/bsp/hi/services/feedback/html/default.stm\">Feedback\r\n",
            "</a></div></td>\r\n",
            "<td class=\"serviceoption5\"><img src=\"/shared/img/o.gif\" width=\"5\" height=\"1\" alt=\"\"></td>\r\n",
            "<td bgcolor=\"#CCCCCC\"><img src=\"/shared/img/o.gif\" width=\"1\" height=\"1\" alt=\"\"></td>\r\n",
            "</tr>\r\n",
            "<tr>\r\n",
            "<td bgcolor=\"#CCCCCC\"><img src=\"/shared/img/o.gif\" width=\"1\" height=\"1\" alt=\"\"></td>\r\n",
            "<td class=\"servicebg6\"><img src=\"/shared/img/o.gif\" width=\"3\" height=\"1\" alt=\"\"></td>\r\n",
            "<td align=\"right\" class=\"servicebg6\"><div class=\"servicesnav\"><a href=\"/2/shared/bsp/hi/services/help/html/default.stm\">Help\r\n",
            "</a></div></td>\r\n",
            "<td class=\"serviceoption6\"><img src=\"/shared/img/o.gif\" width=\"5\" height=\"1\" alt=\"\"></td>\r\n",
            "<td bgcolor=\"#CCCCCC\"><img src=\"/shared/img/o.gif\" width=\"1\" height=\"1\" alt=\"\"></td>\r\n",
            "</tr>\r\n",
            "<tr bgcolor=\"#CCCCCC\">\r\n",
            "<td><img src=\"/shared/img/o.gif\" width=\"1\" height=\"1\" alt=\"\"></td>\r\n",
            "<td><img src=\"/shared/img/o.gif\" width=\"3\" height=\"1\" alt=\"\"></td>\r\n",
            "<td><img src=\"/shared/img/o.gif\" width=\"90\" height=\"1\" alt=\"\"></td>\r\n",
            "<td><img src=\"/shared/img/o.gif\" width=\"5\" height=\"1\" alt=\"\"></td>\r\n",
            "<td><img src=\"/shared/img/o.gif\" width=\"1\" height=\"1\" alt=\"\"></td>\r\n",
            "</tr>\r\n",
            "<tr>\r\n",
            "<td colspan=\"5\"><img src=\"/shared/img/o.gif\" width=\"1\" height=\"4\" alt=\"\"></td>\r\n",
            "</tr>\r\n",
            "</table>\r\n",
            "\r\n",
            "\r\n",
            "\r\n",
            "\r\n",
            "\r\n",
            "\r\n",
            "<table width=\"100\" cellspacing=\"0\" cellpadding=\"0\" border=\"0\">\r\n",
            "<tr bgcolor=\"#6699CC\">\r\n",
            "<td><img src=\"/shared/img/o.gif\" width=\"1\" height=\"1\" alt=\"\"></td>\r\n",
            "<td><img src=\"/shared/img/o.gif\" width=\"3\" height=\"1\" alt=\"\"></td>\r\n",
            "<td><img src=\"/shared/img/o.gif\" width=\"90\" height=\"1\" alt=\"\"></td>\r\n",
            "<td><img src=\"/shared/img/o.gif\" width=\"5\" height=\"1\" alt=\"\"></td>\r\n",
            "<td><img src=\"/shared/img/o.gif\" width=\"1\" height=\"1\" alt=\"\"></td>\r\n",
            "</tr>\r\n",
            "<tr bgcolor=\"#336699\">\r\n",
            "<td colspan=\"3\" align=\"right\"><div class=\"servicehead\">EDITIONS\r\n",
            "</div></td>\r\n",
            "<td><img src=\"/shared/img/o.gif\" width=\"5\" height=\"1\" alt=\"\"></td>\r\n",
            "<td><img src=\"/shared/img/o.gif\" width=\"1\" height=\"1\" alt=\"\"></td>\r\n",
            "</tr>\r\n",
            "<tr>\r\n",
            "<td bgcolor=\"#CCCCCC\"><img src=\"/shared/img/o.gif\" width=\"1\" height=\"1\" alt=\"\"></td>\r\n",
            "<td><img src=\"/shared/img/o.gif\" width=\"3\" height=\"1\" alt=\"\"></td>\r\n",
            "<td align=\"right\"><div class=\"servicesnavtight\"><a href=\"/shared/hi/change_edition-news.stm\">Change to UK\r\n",
            "</a></div></td>\r\n",
            "<td><img src=\"/shared/img/o.gif\" width=\"5\" height=\"1\" alt=\"\"></td>\r\n",
            "<td bgcolor=\"#CCCCCC\"><img src=\"/shared/img/o.gif\" width=\"1\" height=\"1\" alt=\"\"></td>\r\n",
            "</tr>\r\n",
            "<tr bgcolor=\"#CCCCCC\">\r\n",
            "<td><img src=\"/shared/img/o.gif\" width=\"1\" height=\"1\" alt=\"\"></td>\r\n",
            "<td><img src=\"/shared/img/o.gif\" width=\"3\" height=\"1\" alt=\"\"></td>\r\n",
            "<td><img src=\"/shared/img/o.gif\" width=\"90\" height=\"1\" alt=\"\"></td>\r\n",
            "<td><img src=\"/shared/img/o.gif\" width=\"5\" height=\"1\" alt=\"\"></td>\r\n",
            "<td><img src=\"/shared/img/o.gif\" width=\"1\" height=\"1\" alt=\"\"></td>\r\n",
            "</tr>\r\n",
            "</table>\r\n",
            "</td>\r\n",
            "<td><img src=\"/shared/img/o.gif\" width=\"5\" height=\"200\" alt=\"\"></td>\r\n",
            "<td valign=\"TOP\">\r\n",
            "    \t\r\n",
            "\t\r\n",
            "\r\n",
            "                \r\n",
            "\r\n",
            "\r\n",
            "<font face=\"sans-serif\" size=\"1\"><span class=\"date\">Friday, 27 September, 2002, 11:51 GMT 12:51 UK\r\n",
            "</span></font>\r\n",
            "\r\n",
            "\r\n",
            "\r\n",
            "\r\n",
            "\t\t\r\n",
            "\t\t\t<div class=\"headlinestory\"><b>Blondes 'to die out in 200 years'</b><br></div>\r\n",
            "\t\t\r\n",
            "\r\n",
            "\t\r\n",
            "\r\n",
            "\t\r\n",
            "                \r\n",
            "\t\r\n",
            "\t<div class=\"inlineimage\">\r\n",
            "\t\t<img height=\"180\" vspace=\"0\" border=\"0\" width=\"300\" alt=\" \" src=\"/media/images/38280000/jpg/_38280456_blonde300.jpg\">\r\n",
            "\t\t\r\n",
            "\t\t\t<div class=\"caption\"><font size=\"1\">Scientists believe the last blondes will be in Finland</font><br></div>\r\n",
            "\t\t\r\n",
            "\t</div>\r\n",
            "\t\r\n",
            "\r\n",
            "\t\r\n",
            "\r\n",
            "\t<font class=\"body\" face=\"sans-serif\" size=\"2\">\r\n",
            "\t<div class=\"bodytext\">\r\n",
            "\tThe last natural blondes will die out within 200 years, scientists believe. \r\n",
            "<P>\r\n",
            "A study by experts in Germany suggests people with blonde hair are an endangered species and will become extinct by 2202.\r\n",
            "<P>\r\n",
            "Researchers predict the last truly natural blonde will be born in Finland - the country with the highest proportion of blondes. \r\n",
            "<P>\r\n",
            "\r\n",
            "\r\n",
            "<!-- GENInlineBOX -->\r\n",
            "\r\n",
            "\t<table bgcolor=\"#FFFFCC\" class=\"boxbody\" cellspacing=\"0\" width=\"150\" border=\"0\" cellpadding=\"3\" align=\"right\">\r\n",
            "\r\n",
            "\r\n",
            "\r\n",
            "\r\n",
            "<!-- GENInlineQUOTE -->\r\n",
            "\r\n",
            "\t<tr><td><img src=\"/nol/shared/img/startquote.gif\" width=\"23\" height=\"18\" border=\"0\" valign=\"TOP\" alt=\"\"><br><div class=\"boxbody\">\r\n",
            "\r\n",
            "\r\n",
            "\r\n",
            "\r\n",
            "\r\n",
            "\tThe frequency of blondes may drop but they won't disappear\r\n",
            "\r\n",
            "\r\n",
            "\r\n",
            "\r\n",
            "\r\n",
            "\t</div><img align=\"RIGHT\" src=\"/nol/shared/img/endquote.gif\" width=\"23\" height=\"18\" border=\"0\" valign=\"ABSBOTTOM\" alt=\"\"><br clear=\"ALL\"></td></tr>\r\n",
            "\r\n",
            "\r\n",
            "\r\n",
            "<!-- GENInlineNAME -->\r\n",
            "\r\n",
            "\t<tr><td bgcolor=\"cccc99\"><div class=\"boxhead\">\r\n",
            "\r\n",
            "\r\n",
            "\r\n",
            "\r\n",
            "\r\n",
            "\tProf Jonathan Rees, University of Edinburgh\r\n",
            "\r\n",
            "\r\n",
            "\r\n",
            "\r\n",
            "\r\n",
            "\t</div></td></tr>\r\n",
            "\r\n",
            "\r\n",
            "\r\n",
            "\r\n",
            "\r\n",
            "\r\n",
            "\t</table>\r\n",
            "\r\n",
            "\r\n",
            "\r\n",
            "\r\n",
            "\t\r\n",
            "But they say too few people now carry the gene for blondes to last beyond the next two centuries. \r\n",
            "<P>\r\n",
            "The problem is that blonde hair is caused by a recessive gene. \r\n",
            "<P>\r\n",
            "In order for a child to have blonde hair, it must have the gene on both sides of the family in the grandparents' generation. \r\n",
            "<P><B>Dyed rivals</B>\r\n",
            "<P>\r\n",
            "\r\n",
            "The researchers also believe that so-called bottle blondes may be to blame for the demise of their natural rivals. \r\n",
            "<P>\r\n",
            "They suggest that dyed-blondes are more attractive to men who choose them as partners over true blondes. \r\n",
            "<P>\r\n",
            "\r\n",
            "\r\n",
            "<!-- GENInlineIMAGE -->\r\n",
            "\r\n",
            "\t\t\r\n",
            "\t\t\t<table cellspacing=\"3\" align=\"RIGHT\" width=\"154\" border=\"0\" cellpadding=\"3\"><tr><td><font size=\"2\">\r\n",
            "\t\t\r\n",
            "\t\t<div class=\"inlineimage\">\r\n",
            "            <img alt=\"Tory MP Ann Widdecombe\" height=\"180\" vspace=\"0\" src=\"/media/images/38280000/jpg/_38280457_widders150.jpg\" border=\"0\" width=\"150\">\r\n",
            "            \r\n",
            "                <div class=\"caption\"><small>Bottle-blondes like Ann Widdecombe may be to blame</small><br></div>\r\n",
            "            \r\n",
            "\t\t</div>\r\n",
            "\t\t\r\n",
            "\t\t\t</font></td></tr></table>\r\n",
            "\t\t\r\n",
            "\r\n",
            "\t\r\n",
            "But Jonathan Rees, professor of dermatology at the University of Edinburgh said it was unlikely blondes would die out completely. \r\n",
            "<P>\r\n",
            "\"Genes don't die out unless there is a disadvantage of having that gene or by chance. They don't disappear,\" he told BBC News Online.\r\n",
            "<P>\r\n",
            "\"The only reason blondes would disappear is if having the gene was a disadvantage and I do not think that is the case. \r\n",
            "<P>\r\n",
            "\"The frequency of blondes may drop but they won't disappear.\"\r\n",
            "<P>\r\n",
            "\r\n",
            "\r\n",
            "\r\n",
            "</div>\r\n",
            "\t</font>\r\n",
            "\r\n",
            "\r\n",
            "\r\n",
            "\r\n",
            "</td>\r\n",
            "<td><img src=\"/shared/img/o.gif\" width=\"10\" height=\"1\" alt=\"\"></td>\r\n",
            "<td valign=\"TOP\"><font face=\"sans-serif\" size=\"2\">\r\n",
            "\t\r\n",
            "\t\r\n",
            "\r\n",
            "\t\r\n",
            "        \r\n",
            "\t<div class=\"rhslist\"><div class=\"rhshead\"><b>See also:</b><br><img src=\"/shared/img/999999.gif\" width=\"170\" vspace=\"2\" height=\"1\" alt=\"\"><br></div>\r\n",
            "\t\r\n",
            "\t\t<div class=\"aitem\">\r\n",
            "\t\t\t<span class=\"seealsodate\">28 Mar 01&nbsp;|&nbsp;Education</span>\r\n",
            "                        <div><a href=\"/2/hi/uk_news/education/1248103.stm\"><span>What is it about blondes?</span></a><br></div>\r\n",
            "\r\n",
            "\t\t</div>\r\n",
            "\t\r\n",
            "\t\t<div class=\"aitem\">\r\n",
            "\t\t\t<span class=\"seealsodate\">09 Apr 99&nbsp;|&nbsp;Health</span>\r\n",
            "                        <div><a href=\"/2/hi/health/315527.stm\"><span>Platinum blondes are labelled as dumb</span></a><br></div>\r\n",
            "\r\n",
            "\t\t</div>\r\n",
            "\t\r\n",
            "\t\t<div class=\"aitem\">\r\n",
            "\t\t\t<span class=\"seealsodate\">17 Apr 02&nbsp;|&nbsp;Health</span>\r\n",
            "                        <div><a href=\"/2/hi/health/1934496.stm\"><span>Hair dye cancer alert</span></a><br></div>\r\n",
            "\r\n",
            "\t\t</div>\r\n",
            "\t\r\n",
            "\t</div>\r\n",
            "\r\n",
            "\r\n",
            "\r\n",
            "\t\r\n",
            "<div class=\"rhslist\">\r\n",
            "<div class=\"rhshead\"><b>Internet links:</b><br><img src=\"/shared/img/999999.gif\" width=\"170\" vspace=\"2\" height=\"1\" alt=\"\"><br></div>\r\n",
            "<div class=\"aitem\"><a href=\"http://www.ed.ac.uk/\">University of Edinburgh</a></div>\r\n",
            "<span class=\"disclaimer\"><br>The BBC is not responsible for the content of external internet sites</span><br>\r\n",
            "</div>\r\n",
            "\r\n",
            "\t\r\n",
            "            \r\n",
            "    \r\n",
            "<div class=\"rhslist\">\r\n",
            "\t<div class=\"rhshead\"><b>Top Health stories now:</b><br><img src=\"/shared/img/999999.gif\" width=\"170\" vspace=\"2\" height=\"1\" alt=\"\"><br></div>\r\n",
            "\t\r\n",
            "            <div class=\"bulletheadline\"><a href=\"/2/hi/health/2770999.stm\"><span>Heart risk link to big families</span></a><br></div>\r\n",
            "\r\n",
            "\t\r\n",
            "            <div class=\"bulletheadline\"><a href=\"/2/hi/health/2761469.stm\"><span>Back pain drug 'may aid diabetics'</span></a><br></div>\r\n",
            "\r\n",
            "\t\r\n",
            "            <div class=\"bulletheadline\"><a href=\"/2/hi/africa/2776719.stm\"><span>Congo Ebola outbreak confirmed</span></a><br></div>\r\n",
            "\r\n",
            "\t\r\n",
            "            <div class=\"bulletheadline\"><a href=\"/2/hi/health/2772499.stm\"><span>Vegetables ward off Alzheimer's</span></a><br></div>\r\n",
            "\r\n",
            "\t\r\n",
            "            <div class=\"bulletheadline\"><a href=\"/2/hi/middle_east/2774951.stm\"><span>Polio campaign launched in Iraq</span></a><br></div>\r\n",
            "\r\n",
            "\t\r\n",
            "            <div class=\"bulletheadline\"><a href=\"/2/hi/health/2760843.stm\"><span>Gene defect explains high blood pressure</span></a><br></div>\r\n",
            "\r\n",
            "\t\r\n",
            "            <div class=\"bulletheadline\"><a href=\"/2/hi/health/2772263.stm\"><span>Botox 'may cause new wrinkles'</span></a><br></div>\r\n",
            "\r\n",
            "\t\r\n",
            "            <div class=\"bulletheadline\"><a href=\"/2/hi/in_depth/sci_tech/2003/denver_2003/2769875.stm\"><span>Alien 'abductees' show real symptoms</span></a><br></div>\r\n",
            "\r\n",
            "\t\r\n",
            "</div>\r\n",
            "<img src=\"/shared/img/999999.gif\" width=\"170\" height=\"1\" border=\"0\" alt=\"\">\r\n",
            "<div class=\"promotextbold\">Links to more Health stories are at the foot of the page.<br><img src=\"/shared/img/999999.gif\" width=\"170\" height=\"1\" border=\"0\" vspace=\"4\" alt=\"\"><br>\r\n",
            "</div>\r\n",
            "\r\n",
            "\r\n",
            "    \r\n",
            "    \r\n",
            "\r\n",
            "\t\r\n",
            "</font></td>\r\n",
            "</tr>\r\n",
            "</table>\r\n",
            "<br>\r\n",
            "<table border=\"0\" cellpadding=\"0\" cellspacing=\"0\">\r\n",
            "<tr>\r\n",
            "  <td width=\"115\"><img src=\"/shared/img/o.gif\" width=\"105\" height=\"1\" border=\"0\" alt=\"\"></td>\r\n",
            "  <td width=\"315\"><img border=\"0\" alt=\"\" src=\"/shared/img/999999.gif\" width=\"315\" height=\"1\"></td>\r\n",
            "</tr>\r\n",
            "<tr>\r\n",
            "  <td width=\"115\" height=\"18\"><img src=\"/shared/img/o.gif\" width=\"115\" height=\"1\" border=\"0\" alt=\"\"></td>\r\n",
            "  <td width=\"315\" align=\"left\"><a onClick=\"window.open('http://newsvote.bbc.co.uk/cgi-bin/emailthisstory/emailthisstory.pl','Mailer','status=no,scrollbars=yes,resizable=yes,width=370,height=445');\" href=\"http://newsvote.bbc.co.uk/cgi-bin/emailthisstory/emailthisstory.pl\" class=\"index\" target=\"Mailer\"><img border=\"0\" alt=\"\" src=\"/sol/shared/img/mail_icon.gif\" width=\"13\" height=\"9\"> <span class=\"blueText\"><b>E-mail this story to a friend</b></span></td>\r\n",
            "</tr>\r\n",
            "</table>\r\n",
            "\r\n",
            "    <table border=\"0\" cellpadding=\"0\" cellspacing=\"0\">\r\n",
            "  <tr>\r\n",
            "    <td width=\"115\"><img src=\"/shared/img/o.gif\" width=\"115\" height=\"1\" alt=\"\"></td>\r\n",
            "    <td width=\"315\"><img border=\"0\" alt=\"\" src=\"/shared/img/999999.gif\" width=\"315\" height=\"1\"></td>\r\n",
            "  </tr>\r\n",
            "  <tr>\r\n",
            "    <td><img src=\"/shared/img/o.gif\" width=\"115\" height=\"1\" alt=\"\"></td>\r\n",
            "    <td align=\"left\">\r\n",
            "\r\n",
            "<br clear=\"all\">\r\n",
            "<font size=\"2\">\r\n",
            " <span class=\"blackText\">\r\n",
            "<b>Links to more Health stories</b></span>\r\n",
            "<br>\r\n",
            "<form name=\"storyMenu\">\r\n",
            "<select name=\"storyLink\">\r\n",
            "<option value=\"#\">In This Section</option>\r\n",
            "\r\n",
            "        <OPTION value=\"/2/hi/health/2770999.stm\">Heart risk link to big families</OPTION>\r\n",
            "\r\n",
            "        <OPTION value=\"/2/hi/health/2761469.stm\">Back pain drug 'may aid diabetics'</OPTION>\r\n",
            "\r\n",
            "        <OPTION value=\"/2/hi/africa/2776719.stm\">Congo Ebola outbreak confirmed</OPTION>\r\n",
            "\r\n",
            "        <OPTION value=\"/2/hi/health/2772499.stm\">Vegetables ward off Alzheimer's</OPTION>\r\n",
            "\r\n",
            "        <OPTION value=\"/2/hi/middle_east/2774951.stm\">Polio campaign launched in Iraq</OPTION>\r\n",
            "\r\n",
            "        <OPTION value=\"/2/hi/health/2760843.stm\">Gene defect explains high blood pressure</OPTION>\r\n",
            "\r\n",
            "        <OPTION value=\"/2/hi/health/2772263.stm\">Botox 'may cause new wrinkles'</OPTION>\r\n",
            "\r\n",
            "        <OPTION value=\"/2/hi/in_depth/sci_tech/2003/denver_2003/2769875.stm\">Alien 'abductees' show real symptoms</OPTION>\r\n",
            "\r\n",
            "        <OPTION value=\"/2/hi/health/2760623.stm\">How sperm wriggle</OPTION>\r\n",
            "\r\n",
            "        <OPTION value=\"/2/hi/south_asia/2770437.stm\">Bollywood told to stub it out</OPTION>\r\n",
            "\r\n",
            "        <OPTION value=\"/2/hi/health/2772005.stm\">Fears over tuna health risk to babies</OPTION>\r\n",
            "\r\n",
            "        <OPTION value=\"/2/hi/health/2758249.stm\">Public can be taught to spot strokes</OPTION>\r\n",
            "\r\n",
            "</select>\r\n",
            "<INPUT VALUE=\"Go\" TYPE=\"BUTTON\" onClick=\"window.location = document.storyMenu.storyLink.options[document.storyMenu.storyLink.options.selectedIndex].value\">\r\n",
            "</form>\r\n",
            "</font>\r\n",
            "\r\n",
            "</td>\r\n",
            "  </tr>\r\n",
            "</table>\r\n",
            "\r\n",
            "    \r\n",
            "    \r\n",
            "\r\n",
            "<br clear=\"ALL\">\r\n",
            "<table width=\"610\" cellpadding=\"0\" cellspacing=\"0\" border=\"0\">\r\n",
            "<tr>\r\n",
            "<td><img border=\"0\" alt=\"\" src=\"/shared/img/o.gif\" width=\"100\" height=\"1\"></td>\r\n",
            "<td><img border=\"0\" alt=\"\" src=\"/shared/img/o.gif\" width=\"10\" height=\"1\"></td>\r\n",
            "<td><img border=\"0\" alt=\"\" src=\"/shared/img/o.gif\" width=\"500\" height=\"1\"></td>\r\n",
            "</tr>\r\n",
            "<tr>\r\n",
            "<td colspan=\"3\"><img vspace=\"4\" alt=\"\" src=\"/shared/img/000000.gif\" width=\"610\" height=\"1\"></td>\r\n",
            "</tr>\r\n",
            "<tr>\r\n",
            "<td align=\"right\" valign=\"top\"><a href=\"/2/shared/bsp/hi/services/copyright/html/default.stm\"><img src=\"/nol/shared/img/specials_nav/copyright_bbc.gif\" alt=\"&copy; BBC\" border=\"0\"></a></td>\r\n",
            "<td><img border=\"0\" alt=\"\" src=\"/shared/img/o.gif\" width=\"10\" height=\"1\"></td>\r\n",
            "<td>\r\n",
            "<font size=\"2\">\r\n",
            "<span class=\"footerarrow\">^^  </span>\r\n",
            "<span class=\"footer\"><a href=\"#top\">Back to top</a>\r\n",
            "<p>\r\n",
            "\r\n",
            "    <table width=\"500\" cellpadding=\"0\" cellspacing=\"0\" border=\"0\">\r\n",
            "<tr>\r\n",
            "<td><img border=\"0\" alt=\"\" src=\"/shared/img/o.gif\" width=\"500\" height=\"1\"></td>\r\n",
            "</tr>\r\n",
            "<tr>\r\n",
            "<td><b class=\"footer\"><span class=\"footerpiping\">\r\n",
            "<a href=\"/2/hi/default.stm\" class=\"index\">News Front Page</a>\r\n",
            " | \r\n",
            "\r\n",
            "\r\n",
            "<a href=\"/2/hi/africa/default.stm\" class=\"index\">Africa</a>\r\n",
            " | \r\n",
            "\r\n",
            "\r\n",
            "<a href=\"/2/hi/americas/default.stm\" class=\"index\">Americas</a>\r\n",
            " | \r\n",
            "\r\n",
            "\r\n",
            "<a href=\"/2/hi/asia-pacific/default.stm\" class=\"index\">Asia-Pacific</a>\r\n",
            " | \r\n",
            "\r\n",
            "\r\n",
            "<a href=\"/2/hi/europe/default.stm\" class=\"index\">Europe</a>\r\n",
            " | \r\n",
            "\r\n",
            "\r\n",
            "<a href=\"/2/hi/middle_east/default.stm\" class=\"index\">Middle East</a>\r\n",
            " | \r\n",
            "<br>\r\n",
            "\r\n",
            "<a href=\"/2/hi/south_asia/default.stm\" class=\"index\">South Asia</a>\r\n",
            " | \r\n",
            "\r\n",
            "\r\n",
            "<a href=\"/2/hi/uk_news/default.stm\" class=\"index\">UK</a>\r\n",
            " | \r\n",
            "\r\n",
            "\r\n",
            "<a href=\"/2/hi/business/default.stm\" class=\"index\">Business</a>\r\n",
            " | \r\n",
            "\r\n",
            "\r\n",
            "<a href=\"/2/hi/entertainment/default.stm\" class=\"index\">Entertainment</a>\r\n",
            " | \r\n",
            "\r\n",
            "\r\n",
            "<a href=\"/2/hi/science/nature/default.stm\" class=\"index\">Science/Nature</a>\r\n",
            " | \r\n",
            "<br>\r\n",
            "\r\n",
            "<a href=\"/2/hi/technology/default.stm\" class=\"index\">Technology</a>\r\n",
            " | \r\n",
            "\r\n",
            "\r\n",
            "<a href=\"/2/hi/health/default.stm\" class=\"index\">Health</a>\r\n",
            " | \r\n",
            "\r\n",
            "\r\n",
            "<a href=\"/2/hi/talking_point/default.stm\" class=\"index\">Talking Point</a>\r\n",
            " | \r\n",
            "\r\n",
            "<a href=\"/2/shared/bsp/hi/country_profiles/html/default.stm\" class=\"index\">Country Profiles</a>\r\n",
            "\r\n",
            " | \r\n",
            "\r\n",
            "<a href=\"/2/shared/bsp/hi/in_depth/html/default.stm\" class=\"index\">In Depth</a>\r\n",
            "\r\n",
            " | \r\n",
            "<br>\r\n",
            "\r\n",
            "<a href=\"/2/hi/programmes/default.stm\" class=\"index\">Programmes</a>\r\n",
            "\r\n",
            "\r\n",
            "</span></b></td>\r\n",
            "</tr>\r\n",
            "</table>\r\n",
            "    \r\n",
            "    \r\n",
            "</span></font></td>\r\n",
            "</tr>\r\n",
            "</table>\r\n",
            "    <table width=\"610\" cellpadding=\"0\" cellspacing=\"0\" border=\"0\">\r\n",
            "    <tr>\r\n",
            "    <td><img src=\"/shared/img/o.gif\" width=\"110\" height=\"1\" alt=\"\"></td>\r\n",
            "    <!-- black line row -->\r\n",
            "    <td class=\"footer\" align=\"left\" valign=\"top\" width=\"600\" bgcolor=\"#FFFFFF\"><b><span style=\"color : #999999;\">----------------------------------------------------------------------------------\r\n",
            "</span>\r\n",
            "    <br>\r\n",
            "    <a class=\"index\" href=\"/sport2/\">To BBC Sport&gt;&gt;\r\n",
            "</a> <span style=\"color : #999999;\">|\r\n",
            "</span> <a class=\"index\" href=\"http://www.bbc.co.uk/weather/\">To BBC Weather&gt;&gt;\r\n",
            "</a> <span style=\"color : #999999;\">|\r\n",
            "</span> <a class=\"index\" href=\"http://www.bbc.co.uk/worldservice/index.shtml\">To BBC World Service&gt;&gt;\r\n",
            "</a>\r\n",
            "    <br>\r\n",
            "    <b><span style=\"color : #999999;\">----------------------------------------------------------------------------------\r\n",
            "</span>\r\n",
            "    <br>\r\n",
            "    <a class=\"footer\" href=\"/2/shared/bsp/hi/services/copyright/html/default.stm\"><span style=\"font-size : 10px\">&copy; MMIII\r\n",
            "</span></a> <font size=\"1\">|\r\n",
            "</font> <a class=\"footer\" href=\"/2/shared/bsp/hi/services/help/html/sources.stm\"><span style=\"font-size : 10px\">News Sources\r\n",
            "</span></a> <font size=\"1\">|\r\n",
            "</font> <a class=\"footer\" href=\"http://www.bbc.co.uk/privacy/\"><span style=\"font-size : 10px\">Privacy\r\n",
            "</span></a></b>\r\n",
            "    <br><br><br>\r\n",
            "    </td>\r\n",
            "    </tr>\r\n",
            "    </table>\r\n",
            "<!-- START RedMeasure V4 - Java v1.1  $Revision: 1.9 $ -->\r\n",
            "<!-- COPYRIGHT 2000 Red Sheriff Limited -->\r\n",
            "\r\n",
            "<script language=\"JavaScript\"><!--\r\n",
            "var pCid=\"uk_bbc_0\";\r\n",
            "var w0=1;\r\n",
            "var refR=escape(document.referrer);\r\n",
            "if (refR.length>=252) refR=refR.substring(0,252)+\"...\";\r\n",
            "//--></script>\r\n",
            "<script language=\"JavaScript1.1\"><!--\r\n",
            "var w0=0;\r\n",
            "//--></script>\r\n",
            "<script language=\"JavaScript1.1\" src=\"http://server-uk.imrworldwide.com/a1.js\">\r\n",
            "</script>\r\n",
            "<script language=\"JavaScript\"><!--\r\n",
            "if(w0){\r\n",
            "var imgN='<img src=\"http://server-uk.imrworldwide.com/cgi-bin/count?ref='+\r\n",
            "\trefR+'&cid='+pCid+'\" width=1 height=1>';\r\n",
            "if(navigator.userAgent.indexOf('Mac')!=-1){document.write(imgN);\r\n",
            "}else{\r\n",
            "\tdocument.write('<applet code=\"Measure.class\" '+\r\n",
            "\t'codebase=\"http://server-uk.imrworldwide.com/\"'+'width=1 height=2>'+\r\n",
            "\t'<param name=\"ref\" value=\"'+refR+'\">'+'<param name=\"cid\" value=\"'+pCid+\r\n",
            "\t'\"><textflow>'+imgN+'</textflow></applet>');\r\n",
            "\t}\r\n",
            "}\r\n",
            "document.write(\"<COMMENT>\");\r\n",
            "//-->\r\n",
            "</script>\r\n",
            "<noscript>\r\n",
            "<img src=\"http://server-uk.imrworldwide.com/cgi-bin/count?cid=uk_bbc_0\" width=1 height=1>\r\n",
            "</noscript>\r\n",
            "</COMMENT>\r\n",
            "\r\n",
            "<!-- END RedMeasure V4 -->\r\n",
            "\r\n",
            "<script>\r\n",
            "\tvar si = document.location+\"\";\r\n",
            "\tvar tsi = si.replace(\".stm\",\"\").substr(si.length-11, si.length);\r\n",
            "\tif (!tsi.match(/\\d\\d\\d\\d\\d\\d\\d/)) {tsi = 0;}\r\n",
            "\tdocument.write('<img src=\"http://stats.bbc.co.uk/o.gif?~RS~s~RS~News~RS~t~RS~HighWeb_Legacy~RS~i~RS~' + tsi + '~RS~p~RS~0~RS~u~RS~/2/hi/health/2284783.stm~RS~r~RS~(none)~RS~a~RS~International~RS~q~RS~~RS~z~RS~00~RS~\">');\r\n",
            "</script>\r\n",
            "<noscript>\r\n",
            "\t<img src=\"http://stats.bbc.co.uk/o.gif?~RS~s~RS~News~RS~t~RS~HighWeb_Legacy~RS~i~RS~0~RS~p~RS~0~RS~u~RS~/2/hi/health/2284783.stm~RS~r~RS~(none)~RS~a~RS~International~RS~q~RS~~RS~z~RS~00~RS~\">\r\n",
            "</noscript>\r\n",
            "\r\n",
            "\r\n",
            "\r\n",
            "<br>\r\n",
            "<link type=\"text/css\" rel=\"stylesheet\" href=\"/nol/shared/stylesheets/uki_globalstylesheet.css\">\r\n",
            "\r\n",
            "</body>\r\n",
            "</html>\r\n",
            "\n"
          ],
          "name": "stdout"
        }
      ]
    },
    {
      "cell_type": "code",
      "metadata": {
        "id": "F1E3hWVn8YdC"
      },
      "source": [
        "import re \n",
        "from bs4 import BeautifulSoup\n",
        "\n",
        "def strip_html_tags(text):\n",
        "  soup = BeautifulSoup(text,'html.parser')\n",
        "  [s.extract() for s in soup(['iframe','script'])]\n",
        "  stripped_text = soup.get_text()\n",
        "  stripped_text = re.sub(r'[\\r|\\n|\\n\\r]+',' ',stripped_text)\n",
        "  return stripped_text"
      ],
      "execution_count": 96,
      "outputs": []
    },
    {
      "cell_type": "code",
      "metadata": {
        "colab": {
          "base_uri": "https://localhost:8080/"
        },
        "id": "6GvBIh3o87T9",
        "outputId": "48f31d40-2449-46c8-f2a2-a829a1563dec"
      },
      "source": [
        "clean_content = strip_html_tags(content)\n",
        "print(clean_content)"
      ],
      "execution_count": 97,
      "outputs": [
        {
          "output_type": "stream",
          "text": [
            " BBC NEWS   Health   Blondes 'to die out in 200 years' NEWS   SPORT   WEATHER   WORLD SERVICE   A-Z INDEX    SEARCH       You are in: Health             News Front Page Africa Americas Asia-Pacific Europe Middle East South Asia UK Business Entertainment Science/Nature Technology Health Medical notes ------------- Talking Point ------------- Country Profiles In Depth ------------- Programmes ------------- SERVICES Daily E-mail News Ticker Mobile/PDAs ------------- Text Only Feedback Help EDITIONS Change to UK Friday, 27 September, 2002, 11:51 GMT 12:51 UK Blondes 'to die out in 200 years' Scientists believe the last blondes will be in Finland \tThe last natural blondes will die out within 200 years, scientists believe.  A study by experts in Germany suggests people with blonde hair are an endangered species and will become extinct by 2202. Researchers predict the last truly natural blonde will be born in Finland - the country with the highest proportion of blondes.  \tThe frequency of blondes may drop but they won't disappear \t \tProf Jonathan Rees, University of Edinburgh \t \t But they say too few people now carry the gene for blondes to last beyond the next two centuries.  The problem is that blonde hair is caused by a recessive gene.  In order for a child to have blonde hair, it must have the gene on both sides of the family in the grandparents' generation.  Dyed rivals The researchers also believe that so-called bottle blondes may be to blame for the demise of their natural rivals.  They suggest that dyed-blondes are more attractive to men who choose them as partners over true blondes.  Bottle-blondes like Ann Widdecombe may be to blame \t\t \t But Jonathan Rees, professor of dermatology at the University of Edinburgh said it was unlikely blondes would die out completely.  \"Genes don't die out unless there is a disadvantage of having that gene or by chance. They don't disappear,\" he told BBC News Online. \"The only reason blondes would disappear is if having the gene was a disadvantage and I do not think that is the case.  \"The frequency of blondes may drop but they won't disappear.\" See also: 28 Mar 01   Education What is it about blondes? 09 Apr 99   Health Platinum blondes are labelled as dumb 17 Apr 02   Health Hair dye cancer alert Internet links: University of Edinburgh The BBC is not responsible for the content of external internet sites Top Health stories now: Heart risk link to big families Back pain drug 'may aid diabetics' Congo Ebola outbreak confirmed Vegetables ward off Alzheimer's Polio campaign launched in Iraq Gene defect explains high blood pressure Botox 'may cause new wrinkles' Alien 'abductees' show real symptoms Links to more Health stories are at the foot of the page.  E-mail this story to a friend Links to more Health stories In This Section Heart risk link to big families Back pain drug 'may aid diabetics' Congo Ebola outbreak confirmed Vegetables ward off Alzheimer's Polio campaign launched in Iraq Gene defect explains high blood pressure Botox 'may cause new wrinkles' Alien 'abductees' show real symptoms How sperm wriggle Bollywood told to stub it out Fears over tuna health risk to babies Public can be taught to spot strokes ^^   Back to top News Front Page     Africa     Americas     Asia-Pacific     Europe     Middle East     South Asia     UK     Business     Entertainment     Science/Nature     Technology     Health     Talking Point     Country Profiles     In Depth     Programmes ---------------------------------------------------------------------------------- To BBC Sport>>    To BBC Weather>>    To BBC World Service>> ---------------------------------------------------------------------------------- © MMIII    News Sources    Privacy \n"
          ],
          "name": "stdout"
        }
      ]
    },
    {
      "cell_type": "code",
      "metadata": {
        "id": "gvhWst6o9qPR"
      },
      "source": [
        "clean_content = re.sub(' +',' ',clean_content)"
      ],
      "execution_count": 98,
      "outputs": []
    },
    {
      "cell_type": "code",
      "metadata": {
        "colab": {
          "base_uri": "https://localhost:8080/"
        },
        "id": "NFxZ8zDG-Fhe",
        "outputId": "6af475c1-68df-41ce-ddad-c5d712a94205"
      },
      "source": [
        "print(clean_content)"
      ],
      "execution_count": 99,
      "outputs": [
        {
          "output_type": "stream",
          "text": [
            " BBC NEWS Health Blondes 'to die out in 200 years' NEWS   SPORT   WEATHER   WORLD SERVICE   A-Z INDEX    SEARCH   You are in: Health   News Front Page Africa Americas Asia-Pacific Europe Middle East South Asia UK Business Entertainment Science/Nature Technology Health Medical notes ------------- Talking Point ------------- Country Profiles In Depth ------------- Programmes ------------- SERVICES Daily E-mail News Ticker Mobile/PDAs ------------- Text Only Feedback Help EDITIONS Change to UK Friday, 27 September, 2002, 11:51 GMT 12:51 UK Blondes 'to die out in 200 years' Scientists believe the last blondes will be in Finland \tThe last natural blondes will die out within 200 years, scientists believe. A study by experts in Germany suggests people with blonde hair are an endangered species and will become extinct by 2202. Researchers predict the last truly natural blonde will be born in Finland - the country with the highest proportion of blondes. \tThe frequency of blondes may drop but they won't disappear \t \tProf Jonathan Rees, University of Edinburgh \t \t But they say too few people now carry the gene for blondes to last beyond the next two centuries. The problem is that blonde hair is caused by a recessive gene. In order for a child to have blonde hair, it must have the gene on both sides of the family in the grandparents' generation. Dyed rivals The researchers also believe that so-called bottle blondes may be to blame for the demise of their natural rivals. They suggest that dyed-blondes are more attractive to men who choose them as partners over true blondes. Bottle-blondes like Ann Widdecombe may be to blame \t\t \t But Jonathan Rees, professor of dermatology at the University of Edinburgh said it was unlikely blondes would die out completely. \"Genes don't die out unless there is a disadvantage of having that gene or by chance. They don't disappear,\" he told BBC News Online. \"The only reason blondes would disappear is if having the gene was a disadvantage and I do not think that is the case. \"The frequency of blondes may drop but they won't disappear.\" See also: 28 Mar 01   Education What is it about blondes? 09 Apr 99   Health Platinum blondes are labelled as dumb 17 Apr 02   Health Hair dye cancer alert Internet links: University of Edinburgh The BBC is not responsible for the content of external internet sites Top Health stories now: Heart risk link to big families Back pain drug 'may aid diabetics' Congo Ebola outbreak confirmed Vegetables ward off Alzheimer's Polio campaign launched in Iraq Gene defect explains high blood pressure Botox 'may cause new wrinkles' Alien 'abductees' show real symptoms Links to more Health stories are at the foot of the page. E-mail this story to a friend Links to more Health stories In This Section Heart risk link to big families Back pain drug 'may aid diabetics' Congo Ebola outbreak confirmed Vegetables ward off Alzheimer's Polio campaign launched in Iraq Gene defect explains high blood pressure Botox 'may cause new wrinkles' Alien 'abductees' show real symptoms How sperm wriggle Bollywood told to stub it out Fears over tuna health risk to babies Public can be taught to spot strokes ^^ Back to top News Front Page Africa Americas Asia-Pacific Europe Middle East South Asia UK Business Entertainment Science/Nature Technology Health Talking Point Country Profiles In Depth Programmes ---------------------------------------------------------------------------------- To BBC Sport>> To BBC Weather>> To BBC World Service>> ---------------------------------------------------------------------------------- © MMIII News Sources Privacy \n"
          ],
          "name": "stdout"
        }
      ]
    },
    {
      "cell_type": "code",
      "metadata": {
        "id": "nwrJasPm-MSd"
      },
      "source": [
        "#Replacing Accented Characters\n",
        "import unicodedata\n",
        "\n",
        "s = \"Söme Śpecial Áćcentêd Tèxt éêēę\"\n",
        "\n",
        "def remove_accented_characters(text):\n",
        "  text =  unicodedata.normalize('NFKD',text).encode('ascii','ignore').decode('utf-8','ignore')\n",
        "  return text"
      ],
      "execution_count": 100,
      "outputs": []
    },
    {
      "cell_type": "code",
      "metadata": {
        "colab": {
          "base_uri": "https://localhost:8080/",
          "height": 35
        },
        "id": "2eBrm7jr_7CK",
        "outputId": "e0b0c0f8-995a-4346-8555-edb2ef15c4c0"
      },
      "source": [
        "remove_accented_characters(s)"
      ],
      "execution_count": 101,
      "outputs": [
        {
          "output_type": "execute_result",
          "data": {
            "application/vnd.google.colaboratory.intrinsic+json": {
              "type": "string"
            },
            "text/plain": [
              "'Some Special Accented Text'"
            ]
          },
          "metadata": {
            "tags": []
          },
          "execution_count": 101
        }
      ]
    },
    {
      "cell_type": "code",
      "metadata": {
        "id": "NSoGjgXi_85Z"
      },
      "source": [
        "#Remove special characters \n",
        "def remove_special_characters(text,remove_digits= False):\n",
        "  pattern = r'[^a-zA-Z0-9\\s]' if not remove_digits else r'[^a-zA-Z\\s]'\n",
        "  text = re.sub(pattern,\"\",text)\n",
        "  return text"
      ],
      "execution_count": 102,
      "outputs": []
    },
    {
      "cell_type": "code",
      "metadata": {
        "colab": {
          "base_uri": "https://localhost:8080/",
          "height": 137
        },
        "id": "hV9JA5E_AZes",
        "outputId": "065c8380-e496-45d8-909c-a2007b8eb056"
      },
      "source": [
        "remove_special_characters(clean_content)"
      ],
      "execution_count": 103,
      "outputs": [
        {
          "output_type": "execute_result",
          "data": {
            "application/vnd.google.colaboratory.intrinsic+json": {
              "type": "string"
            },
            "text/plain": [
              "' BBC NEWS Health Blondes to die out in 200 years NEWS \\xa0\\xa0SPORT \\xa0\\xa0WEATHER \\xa0\\xa0WORLD SERVICE \\xa0\\xa0AZ INDEX\\xa0 \\xa0\\xa0SEARCH\\xa0 \\xa0You are in\\xa0Health \\xa0 News Front Page Africa Americas AsiaPacific Europe Middle East South Asia UK Business Entertainment ScienceNature Technology Health Medical notes  Talking Point  Country Profiles In Depth  Programmes  SERVICES Daily Email News Ticker MobilePDAs  Text Only Feedback Help EDITIONS Change to UK Friday 27 September 2002 1151 GMT 1251 UK Blondes to die out in 200 years Scientists believe the last blondes will be in Finland \\tThe last natural blondes will die out within 200 years scientists believe A study by experts in Germany suggests people with blonde hair are an endangered species and will become extinct by 2202 Researchers predict the last truly natural blonde will be born in Finland  the country with the highest proportion of blondes \\tThe frequency of blondes may drop but they wont disappear \\t \\tProf Jonathan Rees University of Edinburgh \\t \\t But they say too few people now carry the gene for blondes to last beyond the next two centuries The problem is that blonde hair is caused by a recessive gene In order for a child to have blonde hair it must have the gene on both sides of the family in the grandparents generation Dyed rivals The researchers also believe that socalled bottle blondes may be to blame for the demise of their natural rivals They suggest that dyedblondes are more attractive to men who choose them as partners over true blondes Bottleblondes like Ann Widdecombe may be to blame \\t\\t \\t But Jonathan Rees professor of dermatology at the University of Edinburgh said it was unlikely blondes would die out completely Genes dont die out unless there is a disadvantage of having that gene or by chance They dont disappear he told BBC News Online The only reason blondes would disappear is if having the gene was a disadvantage and I do not think that is the case The frequency of blondes may drop but they wont disappear See also 28 Mar 01\\xa0 \\xa0Education What is it about blondes 09 Apr 99\\xa0 \\xa0Health Platinum blondes are labelled as dumb 17 Apr 02\\xa0 \\xa0Health Hair dye cancer alert Internet links University of Edinburgh The BBC is not responsible for the content of external internet sites Top Health stories now Heart risk link to big families Back pain drug may aid diabetics Congo Ebola outbreak confirmed Vegetables ward off Alzheimers Polio campaign launched in Iraq Gene defect explains high blood pressure Botox may cause new wrinkles Alien abductees show real symptoms Links to more Health stories are at the foot of the page Email this story to a friend Links to more Health stories In This Section Heart risk link to big families Back pain drug may aid diabetics Congo Ebola outbreak confirmed Vegetables ward off Alzheimers Polio campaign launched in Iraq Gene defect explains high blood pressure Botox may cause new wrinkles Alien abductees show real symptoms How sperm wriggle Bollywood told to stub it out Fears over tuna health risk to babies Public can be taught to spot strokes  Back to top News Front Page Africa Americas AsiaPacific Europe Middle East South Asia UK Business Entertainment ScienceNature Technology Health Talking Point Country Profiles In Depth Programmes  To BBC Sport To BBC Weather To BBC World Service   MMIII News Sources Privacy '"
            ]
          },
          "metadata": {
            "tags": []
          },
          "execution_count": 103
        }
      ]
    },
    {
      "cell_type": "code",
      "metadata": {
        "id": "3nPE27qXAcD0"
      },
      "source": [
        ""
      ],
      "execution_count": null,
      "outputs": []
    }
  ]
}