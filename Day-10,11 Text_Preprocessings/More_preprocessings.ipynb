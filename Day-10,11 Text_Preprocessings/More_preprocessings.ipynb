{
  "nbformat": 4,
  "nbformat_minor": 0,
  "metadata": {
    "colab": {
      "name": "More_preprocessings.ipynb",
      "provenance": []
    },
    "kernelspec": {
      "name": "python3",
      "display_name": "Python 3"
    },
    "language_info": {
      "name": "python"
    }
  },
  "cells": [
    {
      "cell_type": "code",
      "metadata": {
        "colab": {
          "base_uri": "https://localhost:8080/"
        },
        "id": "tjGfzjJXlqeE",
        "outputId": "c5b10a5e-5854-487d-cb5a-aabc928f775b"
      },
      "source": [
        "import nltk\n",
        "nltk.download('punkt')"
      ],
      "execution_count": 1,
      "outputs": [
        {
          "output_type": "stream",
          "text": [
            "[nltk_data] Downloading package punkt to /root/nltk_data...\n",
            "[nltk_data]   Unzipping tokenizers/punkt.zip.\n"
          ],
          "name": "stdout"
        },
        {
          "output_type": "execute_result",
          "data": {
            "text/plain": [
              "True"
            ]
          },
          "metadata": {
            "tags": []
          },
          "execution_count": 1
        }
      ]
    },
    {
      "cell_type": "code",
      "metadata": {
        "id": "857CzKLbxcWG"
      },
      "source": [
        "sample_text = ('The War in Afghanistan is an, ongoing. war following the United States.'\n",
        "               'invasion of, Afghanistan when the United States. and its allies'\n",
        "               'successfully drove. the Taliban from power')"
      ],
      "execution_count": 7,
      "outputs": []
    },
    {
      "cell_type": "code",
      "metadata": {
        "colab": {
          "base_uri": "https://localhost:8080/"
        },
        "id": "9I_7TNdiyC2X",
        "outputId": "6351dad5-7e01-4012-9a2e-b2d83689552e"
      },
      "source": [
        "#Tokenisation - Spliting the corpus into smaller units \n",
        "nltk.sent_tokenize(sample_text)"
      ],
      "execution_count": 3,
      "outputs": [
        {
          "output_type": "execute_result",
          "data": {
            "text/plain": [
              "['The War in Afghanistan is an ongoing.',\n",
              " 'war following the United States.invasion of Afghanistan when the United States.',\n",
              " 'and its alliessuccessfully drove.',\n",
              " 'the Taliban from power']"
            ]
          },
          "metadata": {
            "tags": []
          },
          "execution_count": 3
        }
      ]
    },
    {
      "cell_type": "code",
      "metadata": {
        "colab": {
          "base_uri": "https://localhost:8080/"
        },
        "id": "KfgBdJCeyaSU",
        "outputId": "52b838ef-9183-4c48-c3fb-4ab497f4099e"
      },
      "source": [
        "nltk.word_tokenize(sample_text)"
      ],
      "execution_count": 4,
      "outputs": [
        {
          "output_type": "execute_result",
          "data": {
            "text/plain": [
              "['The',\n",
              " 'War',\n",
              " 'in',\n",
              " 'Afghanistan',\n",
              " 'is',\n",
              " 'an',\n",
              " 'ongoing',\n",
              " '.',\n",
              " 'war',\n",
              " 'following',\n",
              " 'the',\n",
              " 'United',\n",
              " 'States.invasion',\n",
              " 'of',\n",
              " 'Afghanistan',\n",
              " 'when',\n",
              " 'the',\n",
              " 'United',\n",
              " 'States',\n",
              " '.',\n",
              " 'and',\n",
              " 'its',\n",
              " 'alliessuccessfully',\n",
              " 'drove',\n",
              " '.',\n",
              " 'the',\n",
              " 'Taliban',\n",
              " 'from',\n",
              " 'power']"
            ]
          },
          "metadata": {
            "tags": []
          },
          "execution_count": 4
        }
      ]
    },
    {
      "cell_type": "code",
      "metadata": {
        "id": "4zwSVbhPy40x",
        "colab": {
          "base_uri": "https://localhost:8080/"
        },
        "outputId": "04338553-175d-4f76-ae41-0e1ca881e5c1"
      },
      "source": [
        "tt = nltk.toktok.ToktokTokenizer()\n",
        "print(tt.tokenize(sample_text))"
      ],
      "execution_count": 8,
      "outputs": [
        {
          "output_type": "stream",
          "text": [
            "['The', 'War', 'in', 'Afghanistan', 'is', 'an', ',', 'ongoing.', 'war', 'following', 'the', 'United', 'States.invasion', 'of', ',', 'Afghanistan', 'when', 'the', 'United', 'States.', 'and', 'its', 'alliessuccessfully', 'drove.', 'the', 'Taliban', 'from', 'power']\n"
          ],
          "name": "stdout"
        }
      ]
    },
    {
      "cell_type": "code",
      "metadata": {
        "id": "Yt2kZaSqzi9D"
      },
      "source": [
        "import spacy \n",
        "nlp = spacy.load('en')\n",
        "\n",
        "text_spacy = nlp(sample_text)"
      ],
      "execution_count": 9,
      "outputs": []
    },
    {
      "cell_type": "code",
      "metadata": {
        "colab": {
          "base_uri": "https://localhost:8080/"
        },
        "id": "brf_BEXO0acL",
        "outputId": "934acb2a-dfdc-48f0-cddf-bd71ddb2baef"
      },
      "source": [
        "[obj.text for obj in text_spacy.sents]"
      ],
      "execution_count": 12,
      "outputs": [
        {
          "output_type": "execute_result",
          "data": {
            "text/plain": [
              "['The War in Afghanistan is an, ongoing.',\n",
              " 'war following the United States.invasion of, Afghanistan when the United States.',\n",
              " 'and its alliessuccessfully drove.',\n",
              " 'the Taliban from power']"
            ]
          },
          "metadata": {
            "tags": []
          },
          "execution_count": 12
        }
      ]
    },
    {
      "cell_type": "code",
      "metadata": {
        "colab": {
          "base_uri": "https://localhost:8080/"
        },
        "id": "Tgl1S7KF0csr",
        "outputId": "decf7545-c8e5-469f-e925-ba88a06436a2"
      },
      "source": [
        "[obj.text for obj in text_spacy]"
      ],
      "execution_count": 13,
      "outputs": [
        {
          "output_type": "execute_result",
          "data": {
            "text/plain": [
              "['The',\n",
              " 'War',\n",
              " 'in',\n",
              " 'Afghanistan',\n",
              " 'is',\n",
              " 'an',\n",
              " ',',\n",
              " 'ongoing',\n",
              " '.',\n",
              " 'war',\n",
              " 'following',\n",
              " 'the',\n",
              " 'United',\n",
              " 'States.invasion',\n",
              " 'of',\n",
              " ',',\n",
              " 'Afghanistan',\n",
              " 'when',\n",
              " 'the',\n",
              " 'United',\n",
              " 'States',\n",
              " '.',\n",
              " 'and',\n",
              " 'its',\n",
              " 'alliessuccessfully',\n",
              " 'drove',\n",
              " '.',\n",
              " 'the',\n",
              " 'Taliban',\n",
              " 'from',\n",
              " 'power']"
            ]
          },
          "metadata": {
            "tags": []
          },
          "execution_count": 13
        }
      ]
    },
    {
      "cell_type": "code",
      "metadata": {
        "colab": {
          "base_uri": "https://localhost:8080/"
        },
        "id": "MHPzWebf0ksy",
        "outputId": "b4264037-5aa0-44a0-87a4-9dda7b512da0"
      },
      "source": [
        "!pip install contractions \n",
        "!pip install textsearch"
      ],
      "execution_count": 14,
      "outputs": [
        {
          "output_type": "stream",
          "text": [
            "Collecting contractions\n",
            "  Downloading contractions-0.0.52-py2.py3-none-any.whl (7.2 kB)\n",
            "Collecting textsearch>=0.0.21\n",
            "  Downloading textsearch-0.0.21-py2.py3-none-any.whl (7.5 kB)\n",
            "Collecting anyascii\n",
            "  Downloading anyascii-0.2.0-py3-none-any.whl (283 kB)\n",
            "\u001b[K     |████████████████████████████████| 283 kB 43.4 MB/s \n",
            "\u001b[?25hCollecting pyahocorasick\n",
            "  Downloading pyahocorasick-1.4.2.tar.gz (321 kB)\n",
            "\u001b[K     |████████████████████████████████| 321 kB 58.5 MB/s \n",
            "\u001b[?25hBuilding wheels for collected packages: pyahocorasick\n",
            "  Building wheel for pyahocorasick (setup.py) ... \u001b[?25l\u001b[?25hdone\n",
            "  Created wheel for pyahocorasick: filename=pyahocorasick-1.4.2-cp37-cp37m-linux_x86_64.whl size=85434 sha256=00da48edc560e18b72ca4466b1911800b04431c1f5f8e7cb8e6654c81f54fed3\n",
            "  Stored in directory: /root/.cache/pip/wheels/25/19/a6/8f363d9939162782bb8439d886469756271abc01f76fbd790f\n",
            "Successfully built pyahocorasick\n",
            "Installing collected packages: pyahocorasick, anyascii, textsearch, contractions\n",
            "Successfully installed anyascii-0.2.0 contractions-0.0.52 pyahocorasick-1.4.2 textsearch-0.0.21\n",
            "Requirement already satisfied: textsearch in /usr/local/lib/python3.7/dist-packages (0.0.21)\n",
            "Requirement already satisfied: anyascii in /usr/local/lib/python3.7/dist-packages (from textsearch) (0.2.0)\n",
            "Requirement already satisfied: pyahocorasick in /usr/local/lib/python3.7/dist-packages (from textsearch) (1.4.2)\n"
          ],
          "name": "stdout"
        }
      ]
    },
    {
      "cell_type": "code",
      "metadata": {
        "colab": {
          "base_uri": "https://localhost:8080/"
        },
        "id": "BWPP0bDa0rro",
        "outputId": "e627ae22-aedb-486a-b140-5e1d4505aaa9"
      },
      "source": [
        "import contractions\n",
        "list(contractions.contractions_dict.items())[:20]"
      ],
      "execution_count": 15,
      "outputs": [
        {
          "output_type": "execute_result",
          "data": {
            "text/plain": [
              "[(\"I'm\", 'I am'),\n",
              " (\"I'm'a\", 'I am about to'),\n",
              " (\"I'm'o\", 'I am going to'),\n",
              " (\"I've\", 'I have'),\n",
              " (\"I'll\", 'I will'),\n",
              " (\"I'll've\", 'I will have'),\n",
              " (\"I'd\", 'I would'),\n",
              " (\"I'd've\", 'I would have'),\n",
              " ('Whatcha', 'What are you'),\n",
              " (\"amn't\", 'am not'),\n",
              " (\"ain't\", 'are not'),\n",
              " (\"aren't\", 'are not'),\n",
              " (\"'cause\", 'because'),\n",
              " (\"can't\", 'cannot'),\n",
              " (\"can't've\", 'cannot have'),\n",
              " (\"could've\", 'could have'),\n",
              " (\"couldn't\", 'could not'),\n",
              " (\"couldn't've\", 'could not have'),\n",
              " (\"daren't\", 'dare not'),\n",
              " (\"daresn't\", 'dare not')]"
            ]
          },
          "metadata": {
            "tags": []
          },
          "execution_count": 15
        }
      ]
    },
    {
      "cell_type": "code",
      "metadata": {
        "id": "HRkeTGL800bg"
      },
      "source": [
        "a = \"Y'all can't forget what we haven't seen in class. How'd you do it?\""
      ],
      "execution_count": 16,
      "outputs": []
    },
    {
      "cell_type": "code",
      "metadata": {
        "colab": {
          "base_uri": "https://localhost:8080/",
          "height": 35
        },
        "id": "Ves6WW4Q1TGs",
        "outputId": "d3c12cdf-90ba-47a6-9654-b3f390347bc8"
      },
      "source": [
        "contractions.fix(a)"
      ],
      "execution_count": 17,
      "outputs": [
        {
          "output_type": "execute_result",
          "data": {
            "application/vnd.google.colaboratory.intrinsic+json": {
              "type": "string"
            },
            "text/plain": [
              "'you all cannot forget what we have not seen in class. how did you do it?'"
            ]
          },
          "metadata": {
            "tags": []
          },
          "execution_count": 17
        }
      ]
    },
    {
      "cell_type": "code",
      "metadata": {
        "colab": {
          "base_uri": "https://localhost:8080/"
        },
        "id": "jYFnSemh1V9z",
        "outputId": "5e19e82f-33f2-4f13-acef-0ab3ffdfc5fe"
      },
      "source": [
        "# Stemming and Lemmatization \n",
        "# Jumping, Jumps, Jumped - Jump\n",
        "from nltk.stem import LancasterStemmer\n",
        "ls = LancasterStemmer()\n",
        "\n",
        "ls.stem('Jumping'), ls.stem('Jumps'), ls.stem('Jumped')"
      ],
      "execution_count": 18,
      "outputs": [
        {
          "output_type": "execute_result",
          "data": {
            "text/plain": [
              "('jump', 'jump', 'jump')"
            ]
          },
          "metadata": {
            "tags": []
          },
          "execution_count": 18
        }
      ]
    },
    {
      "cell_type": "code",
      "metadata": {
        "colab": {
          "base_uri": "https://localhost:8080/",
          "height": 35
        },
        "id": "JzH8KUFm23Fy",
        "outputId": "44f768f6-8df3-4945-c84c-bfd7a04dce3e"
      },
      "source": [
        "ls.stem('lying')"
      ],
      "execution_count": 19,
      "outputs": [
        {
          "output_type": "execute_result",
          "data": {
            "application/vnd.google.colaboratory.intrinsic+json": {
              "type": "string"
            },
            "text/plain": [
              "'lying'"
            ]
          },
          "metadata": {
            "tags": []
          },
          "execution_count": 19
        }
      ]
    },
    {
      "cell_type": "code",
      "metadata": {
        "colab": {
          "base_uri": "https://localhost:8080/",
          "height": 35
        },
        "id": "0wjmiZmy2-t2",
        "outputId": "dc35c6c0-244e-4984-b2f9-95de162d5ecc"
      },
      "source": [
        "ls.stem('strange')"
      ],
      "execution_count": 20,
      "outputs": [
        {
          "output_type": "execute_result",
          "data": {
            "application/vnd.google.colaboratory.intrinsic+json": {
              "type": "string"
            },
            "text/plain": [
              "'strange'"
            ]
          },
          "metadata": {
            "tags": []
          },
          "execution_count": 20
        }
      ]
    },
    {
      "cell_type": "code",
      "metadata": {
        "id": "QdjiH65G3BWW"
      },
      "source": [
        "from nltk.stem import LancasterStemmer\n",
        "ps = nltk.PorterStemmer()\n",
        "ls = LancasterStemmer()\n",
        "def simple_stemming(text,stemmer=ps):\n",
        "  text = ' '.join([stemmer.stem(word) for word in text.split()])\n",
        "  return text"
      ],
      "execution_count": 22,
      "outputs": []
    },
    {
      "cell_type": "code",
      "metadata": {
        "id": "LqmKVnSU3q6Q"
      },
      "source": [
        "text = 'My system keeps crashing and his crashed previously mine crashes daily and we are not lying presumably'"
      ],
      "execution_count": 23,
      "outputs": []
    },
    {
      "cell_type": "code",
      "metadata": {
        "colab": {
          "base_uri": "https://localhost:8080/",
          "height": 35
        },
        "id": "nQgWQ8tK4JFV",
        "outputId": "bc3ae4b1-6131-426c-d434-7883ec2bc0b3"
      },
      "source": [
        "simple_stemming(text, stemmer=ps)"
      ],
      "execution_count": 24,
      "outputs": [
        {
          "output_type": "execute_result",
          "data": {
            "application/vnd.google.colaboratory.intrinsic+json": {
              "type": "string"
            },
            "text/plain": [
              "'My system keep crash and hi crash previous mine crash daili and we are not lie presum'"
            ]
          },
          "metadata": {
            "tags": []
          },
          "execution_count": 24
        }
      ]
    },
    {
      "cell_type": "code",
      "metadata": {
        "colab": {
          "base_uri": "https://localhost:8080/",
          "height": 35
        },
        "id": "8gRAtof04MOc",
        "outputId": "33e84603-6f85-4a3d-8de4-a615a1528492"
      },
      "source": [
        "simple_stemming(text, stemmer=ls)"
      ],
      "execution_count": 25,
      "outputs": [
        {
          "output_type": "execute_result",
          "data": {
            "application/vnd.google.colaboratory.intrinsic+json": {
              "type": "string"
            },
            "text/plain": [
              "'my system keep crash and his crash prevy min crash dai and we ar not lying presum'"
            ]
          },
          "metadata": {
            "tags": []
          },
          "execution_count": 25
        }
      ]
    },
    {
      "cell_type": "code",
      "metadata": {
        "colab": {
          "base_uri": "https://localhost:8080/"
        },
        "id": "1--cQ0-T4ber",
        "outputId": "24308d06-9711-41d2-d0a3-da1b60dd9d6d"
      },
      "source": [
        "## Lemmetization \n",
        "#Parts of Speech\n",
        "sent = 'The mouse is very elegant and handy, I love the product'\n",
        "tokens = nltk.word_tokenize(sent)\n",
        "print(tokens)"
      ],
      "execution_count": 30,
      "outputs": [
        {
          "output_type": "stream",
          "text": [
            "['The', 'mouse', 'is', 'very', 'elegant', 'and', 'handy', ',', 'I', 'love', 'the', 'product']\n"
          ],
          "name": "stdout"
        }
      ]
    },
    {
      "cell_type": "code",
      "metadata": {
        "colab": {
          "base_uri": "https://localhost:8080/"
        },
        "id": "L2cAc8KP6oS5",
        "outputId": "fd8450be-08ce-4e0d-9438-864448db1e95"
      },
      "source": [
        "nltk.download('averaged_perceptron_tagger')"
      ],
      "execution_count": 28,
      "outputs": [
        {
          "output_type": "stream",
          "text": [
            "[nltk_data] Downloading package averaged_perceptron_tagger to\n",
            "[nltk_data]     /root/nltk_data...\n",
            "[nltk_data]   Unzipping taggers/averaged_perceptron_tagger.zip.\n"
          ],
          "name": "stdout"
        },
        {
          "output_type": "execute_result",
          "data": {
            "text/plain": [
              "True"
            ]
          },
          "metadata": {
            "tags": []
          },
          "execution_count": 28
        }
      ]
    },
    {
      "cell_type": "code",
      "metadata": {
        "colab": {
          "base_uri": "https://localhost:8080/"
        },
        "id": "iMgNSiVZ4Vy6",
        "outputId": "d4e801fb-3a03-4e68-d3da-093a3c791d2b"
      },
      "source": [
        "tagged_pos = nltk.pos_tag(tokens)\n",
        "print(tagged_pos)"
      ],
      "execution_count": 31,
      "outputs": [
        {
          "output_type": "stream",
          "text": [
            "[('The', 'DT'), ('mouse', 'NN'), ('is', 'VBZ'), ('very', 'RB'), ('elegant', 'JJ'), ('and', 'CC'), ('handy', 'JJ'), (',', ','), ('I', 'PRP'), ('love', 'VBP'), ('the', 'DT'), ('product', 'NN')]\n"
          ],
          "name": "stdout"
        }
      ]
    },
    {
      "cell_type": "code",
      "metadata": {
        "colab": {
          "base_uri": "https://localhost:8080/"
        },
        "id": "BkeVkM796lX4",
        "outputId": "d476d393-fcc4-4d94-a7e0-2f9bf7f2fa40"
      },
      "source": [
        "#Nouns - Features of the products \n",
        "#Verbs - Actions \n",
        "#Adjectives - Feelings \n",
        "from nltk.stem import WordNetLemmatizer\n",
        "wnl = WordNetLemmatizer()\n",
        "nltk.download('wordnet')"
      ],
      "execution_count": 36,
      "outputs": [
        {
          "output_type": "stream",
          "text": [
            "[nltk_data] Downloading package wordnet to /root/nltk_data...\n",
            "[nltk_data]   Unzipping corpora/wordnet.zip.\n"
          ],
          "name": "stdout"
        },
        {
          "output_type": "execute_result",
          "data": {
            "text/plain": [
              "True"
            ]
          },
          "metadata": {
            "tags": []
          },
          "execution_count": 36
        }
      ]
    },
    {
      "cell_type": "code",
      "metadata": {
        "colab": {
          "base_uri": "https://localhost:8080/"
        },
        "id": "QfuDJs9V9IMN",
        "outputId": "28357d34-8fdb-44c5-9677-f2ff081a7044"
      },
      "source": [
        "print(wnl.lemmatize('cars','n'))"
      ],
      "execution_count": 37,
      "outputs": [
        {
          "output_type": "stream",
          "text": [
            "car\n"
          ],
          "name": "stdout"
        }
      ]
    },
    {
      "cell_type": "code",
      "metadata": {
        "colab": {
          "base_uri": "https://localhost:8080/"
        },
        "id": "L7SqWV2k9XR5",
        "outputId": "37663e0f-1588-42d7-ab4d-be126b63347a"
      },
      "source": [
        "print(wnl.lemmatize('boxes','n'))"
      ],
      "execution_count": 39,
      "outputs": [
        {
          "output_type": "stream",
          "text": [
            "box\n"
          ],
          "name": "stdout"
        }
      ]
    },
    {
      "cell_type": "code",
      "metadata": {
        "colab": {
          "base_uri": "https://localhost:8080/"
        },
        "id": "AY_Zc81w9nFA",
        "outputId": "926b2c63-5bb2-4f39-c3f7-6f7059620ce5"
      },
      "source": [
        "#lemmatize verbs\n",
        "print(wnl.lemmatize('running','v'))\n",
        "print(wnl.lemmatize('ate','v'))"
      ],
      "execution_count": 40,
      "outputs": [
        {
          "output_type": "stream",
          "text": [
            "run\n",
            "eat\n"
          ],
          "name": "stdout"
        }
      ]
    },
    {
      "cell_type": "code",
      "metadata": {
        "colab": {
          "base_uri": "https://localhost:8080/"
        },
        "id": "W8tm1lIz9wqG",
        "outputId": "8642bc69-6f3d-46de-dfce-dbd2f7432d7a"
      },
      "source": [
        "#lemmatize adjectives\n",
        "print(wnl.lemmatize('saddest','a'))\n",
        "print(wnl.lemmatize('fancier','a'))"
      ],
      "execution_count": 41,
      "outputs": [
        {
          "output_type": "stream",
          "text": [
            "sad\n",
            "fancy\n"
          ],
          "name": "stdout"
        }
      ]
    },
    {
      "cell_type": "code",
      "metadata": {
        "colab": {
          "base_uri": "https://localhost:8080/"
        },
        "id": "_JMAh5N893xF",
        "outputId": "f73aa0ef-82d2-482d-c20f-83aaac59b49b"
      },
      "source": [
        "#ineffective lemmatization\n",
        "print(wnl.lemmatize('saddest','v'))\n",
        "print(wnl.lemmatize('fancier','n'))"
      ],
      "execution_count": 42,
      "outputs": [
        {
          "output_type": "stream",
          "text": [
            "saddest\n",
            "fancier\n"
          ],
          "name": "stdout"
        }
      ]
    },
    {
      "cell_type": "code",
      "metadata": {
        "colab": {
          "base_uri": "https://localhost:8080/"
        },
        "id": "6LSflrZ--Agf",
        "outputId": "892aae9d-2a80-4f2c-9403-119adf33e35f"
      },
      "source": [
        "print(wnl.lemmatize('fancier'))"
      ],
      "execution_count": 43,
      "outputs": [
        {
          "output_type": "stream",
          "text": [
            "fancier\n"
          ],
          "name": "stdout"
        }
      ]
    },
    {
      "cell_type": "code",
      "metadata": {
        "id": "S55IcGb_APgw"
      },
      "source": [
        "#Nouns - Features of the products \n",
        "#Verbs - Actions \n",
        "#Adjectives - Feelings \n",
        "from nltk.stem import WordNetLemmatizer\n",
        "wnl = WordNetLemmatizer()\n",
        "nltk.download('wordnet')\n",
        "nltk.download('averaged_perceptron_tagger')"
      ],
      "execution_count": null,
      "outputs": []
    },
    {
      "cell_type": "code",
      "metadata": {
        "id": "oN8jrfLQATjY"
      },
      "source": [
        "sent = 'The mouse is very elegant and handy, I love the product'\n",
        "tokens = nltk.word_tokenize(sent)\n",
        "print(tokens)\n",
        "tagged_pos = nltk.pos_tag(tokens)\n",
        "print(tagged_pos)"
      ],
      "execution_count": null,
      "outputs": []
    },
    {
      "cell_type": "code",
      "metadata": {
        "id": "d-xgfd9i-Ikr"
      },
      "source": [
        "from nltk.corpus import wordnet\n",
        "def pos_tagging_wordnet(text):\n",
        "  tag_map = {'j': wordnet.ADJ,'v': wordnet.VERB,'n': wordnet.NOUN,'r': wordnet.ADV}\n",
        "  tagged_tokens = [(word,tag_map.get(tag[0].lower(),wordnet.NOUN)) for word, tag in text]\n",
        "  return tagged_tokens"
      ],
      "execution_count": 50,
      "outputs": []
    },
    {
      "cell_type": "code",
      "metadata": {
        "id": "ZrywwLAD_Ev-"
      },
      "source": [
        "word_net_tags = pos_tagging_wordnet(tagged_pos)"
      ],
      "execution_count": 53,
      "outputs": []
    },
    {
      "cell_type": "code",
      "metadata": {
        "id": "bnJ3K_F8_KPT"
      },
      "source": [
        "lemmatized_text = \" \".join(wnl.lemmatize(word,tag) for word,tag in word_net_tags)"
      ],
      "execution_count": 55,
      "outputs": []
    },
    {
      "cell_type": "code",
      "metadata": {
        "colab": {
          "base_uri": "https://localhost:8080/",
          "height": 35
        },
        "id": "HJFZTWZU_q_I",
        "outputId": "1f918006-3173-4659-e05c-eef7114c0ad8"
      },
      "source": [
        "lemmatized_text"
      ],
      "execution_count": 56,
      "outputs": [
        {
          "output_type": "execute_result",
          "data": {
            "application/vnd.google.colaboratory.intrinsic+json": {
              "type": "string"
            },
            "text/plain": [
              "'The mouse be very elegant and handy , I love the product'"
            ]
          },
          "metadata": {
            "tags": []
          },
          "execution_count": 56
        }
      ]
    },
    {
      "cell_type": "code",
      "metadata": {
        "colab": {
          "base_uri": "https://localhost:8080/"
        },
        "id": "3piYVPpQAGwF",
        "outputId": "5eef94ea-3595-4094-bc8a-f9e7eed5ad61"
      },
      "source": [
        "#Stopwords removal \n",
        "#The laptop i had broke today morning so I cannot connect\n",
        "#Laptop broke today morning cannot connect\n",
        "nltk.download('stopwords')\n",
        "stop_words = nltk.corpus.stopwords.words('english')\n",
        "print(stop_words[10:20])"
      ],
      "execution_count": 59,
      "outputs": [
        {
          "output_type": "stream",
          "text": [
            "[nltk_data] Downloading package stopwords to /root/nltk_data...\n",
            "[nltk_data]   Package stopwords is already up-to-date!\n",
            "[\"you've\", \"you'll\", \"you'd\", 'your', 'yours', 'yourself', 'yourselves', 'he', 'him', 'his']\n"
          ],
          "name": "stdout"
        }
      ]
    },
    {
      "cell_type": "code",
      "metadata": {
        "id": "L4sJqhPODvlj"
      },
      "source": [
        "stop_words.remove('the')"
      ],
      "execution_count": 60,
      "outputs": []
    },
    {
      "cell_type": "code",
      "metadata": {
        "id": "fKs9JW44D_lw"
      },
      "source": [
        "#Exercise Write a function to remove stop words from text\n",
        "text = 'The brown foxes are quick and they are jumping over the sleeping lazy dogs'"
      ],
      "execution_count": 63,
      "outputs": []
    },
    {
      "cell_type": "code",
      "metadata": {
        "id": "JcMzx7p0EA2v"
      },
      "source": [
        "def remove_stopwords(text,is_lower_case = False,stopwords = None):\n",
        "  if not stopwords:\n",
        "    stopwords = nltk.corpus.stopwords.words('english')\n",
        "\n",
        "  tokens = nltk.word_tokenize(text)\n",
        "  if is_lower_case:\n",
        "    filtered_tokens = [word for word in tokens if word not in stopwords]\n",
        "  else:\n",
        "    filtered_tokens = [word for word in tokens if word.lower() not in stopwords]\n",
        "  return  ' '.join(filtered_tokens)\n",
        "\n",
        "#break + exercise time till 10:40am IST "
      ],
      "execution_count": 62,
      "outputs": []
    },
    {
      "cell_type": "code",
      "metadata": {
        "colab": {
          "base_uri": "https://localhost:8080/",
          "height": 35
        },
        "id": "CGW7q7E5I_aM",
        "outputId": "611c3e71-7a3c-4c04-a857-3f42fdd83014"
      },
      "source": [
        "remove_stopwords(text,is_lower_case = False)"
      ],
      "execution_count": 64,
      "outputs": [
        {
          "output_type": "execute_result",
          "data": {
            "application/vnd.google.colaboratory.intrinsic+json": {
              "type": "string"
            },
            "text/plain": [
              "'brown foxes quick jumping sleeping lazy dogs'"
            ]
          },
          "metadata": {
            "tags": []
          },
          "execution_count": 64
        }
      ]
    },
    {
      "cell_type": "code",
      "metadata": {
        "id": "bCzFbKopJEOI"
      },
      "source": [
        "## Textblob\n",
        "from textblob import TextBlob"
      ],
      "execution_count": 65,
      "outputs": []
    },
    {
      "cell_type": "code",
      "metadata": {
        "id": "6EAWu1A2JRkP"
      },
      "source": [
        "blob1 = TextBlob(\"Inceptez is a great platform to learn Data Science.\")"
      ],
      "execution_count": 73,
      "outputs": []
    },
    {
      "cell_type": "code",
      "metadata": {
        "id": "KsvBdHlcJf0m"
      },
      "source": [
        "blob2 = TextBlob(\"They also help to build a Data science community.\")"
      ],
      "execution_count": 74,
      "outputs": []
    },
    {
      "cell_type": "code",
      "metadata": {
        "id": "ExX2d9EHJfsN"
      },
      "source": [
        "blob = blob1 +' '+blob2"
      ],
      "execution_count": 81,
      "outputs": []
    },
    {
      "cell_type": "code",
      "metadata": {
        "colab": {
          "base_uri": "https://localhost:8080/"
        },
        "id": "3Kjh-aGWJWj2",
        "outputId": "04d31f57-3531-4390-ff00-30c4abf0d4e7"
      },
      "source": [
        "blob.sentences"
      ],
      "execution_count": 82,
      "outputs": [
        {
          "output_type": "execute_result",
          "data": {
            "text/plain": [
              "[Sentence(\"Inceptez is a great platform to learn Data Science.\"),\n",
              " Sentence(\"They also help to build a Data science community.\")]"
            ]
          },
          "metadata": {
            "tags": []
          },
          "execution_count": 82
        }
      ]
    },
    {
      "cell_type": "code",
      "metadata": {
        "colab": {
          "base_uri": "https://localhost:8080/"
        },
        "id": "dG3rLCmhJaD1",
        "outputId": "f8ae9839-ed9f-4466-c76d-e5569ad8ab54"
      },
      "source": [
        "blob.sentences[0].words"
      ],
      "execution_count": 84,
      "outputs": [
        {
          "output_type": "execute_result",
          "data": {
            "text/plain": [
              "WordList(['Inceptez', 'is', 'a', 'great', 'platform', 'to', 'learn', 'Data', 'Science'])"
            ]
          },
          "metadata": {
            "tags": []
          },
          "execution_count": 84
        }
      ]
    },
    {
      "cell_type": "code",
      "metadata": {
        "colab": {
          "base_uri": "https://localhost:8080/"
        },
        "id": "WgyGsW82J5O6",
        "outputId": "59f20159-030a-4b47-f354-8d74b0ba18f0"
      },
      "source": [
        "for word,tag in blob.tags: \n",
        "  print(word,tag)"
      ],
      "execution_count": 86,
      "outputs": [
        {
          "output_type": "stream",
          "text": [
            "Inceptez NNP\n",
            "is VBZ\n",
            "a DT\n",
            "great JJ\n",
            "platform NN\n",
            "to TO\n",
            "learn VB\n",
            "Data NNP\n",
            "Science NNP\n",
            "They PRP\n",
            "also RB\n",
            "help VBP\n",
            "to TO\n",
            "build VB\n",
            "a DT\n",
            "Data NNP\n",
            "science NN\n",
            "community NN\n"
          ],
          "name": "stdout"
        }
      ]
    },
    {
      "cell_type": "code",
      "metadata": {
        "colab": {
          "base_uri": "https://localhost:8080/",
          "height": 35
        },
        "id": "Fb08pxnAKAgR",
        "outputId": "b013c17b-6df9-4a6f-e3ad-0bfd56e3a088"
      },
      "source": [
        "blob.sentences[0].words[4].pluralize()"
      ],
      "execution_count": 88,
      "outputs": [
        {
          "output_type": "execute_result",
          "data": {
            "application/vnd.google.colaboratory.intrinsic+json": {
              "type": "string"
            },
            "text/plain": [
              "'platforms'"
            ]
          },
          "metadata": {
            "tags": []
          },
          "execution_count": 88
        }
      ]
    },
    {
      "cell_type": "code",
      "metadata": {
        "colab": {
          "base_uri": "https://localhost:8080/"
        },
        "id": "fUsZt5HcKL8h",
        "outputId": "2414b451-2772-441c-8ce0-ae38cab1e819"
      },
      "source": [
        "for word,pos in blob.tags:\n",
        "  if pos == 'NN':\n",
        "    print(word.pluralize())"
      ],
      "execution_count": 89,
      "outputs": [
        {
          "output_type": "stream",
          "text": [
            "platforms\n",
            "sciences\n",
            "communities\n"
          ],
          "name": "stdout"
        }
      ]
    },
    {
      "cell_type": "code",
      "metadata": {
        "colab": {
          "base_uri": "https://localhost:8080/",
          "height": 35
        },
        "id": "cw2c1Qw1KW7u",
        "outputId": "4616d2f0-c1d1-4e44-f562-6cba6eab3bb1"
      },
      "source": [
        "## Lemmatize using Textblob\n",
        "from textblob import Word\n",
        "w = Word('jokes')\n",
        "w.lemmatize()"
      ],
      "execution_count": 92,
      "outputs": [
        {
          "output_type": "execute_result",
          "data": {
            "application/vnd.google.colaboratory.intrinsic+json": {
              "type": "string"
            },
            "text/plain": [
              "'joke'"
            ]
          },
          "metadata": {
            "tags": []
          },
          "execution_count": 92
        }
      ]
    },
    {
      "cell_type": "code",
      "metadata": {
        "colab": {
          "base_uri": "https://localhost:8080/"
        },
        "id": "IxdaSy2JKv7R",
        "outputId": "736ce499-6a49-4395-f7d8-8328af4f7fc6"
      },
      "source": [
        "## N-gram \n",
        "for ngram in blob.sentences[0].ngrams(2):\n",
        "  print(ngram)"
      ],
      "execution_count": 96,
      "outputs": [
        {
          "output_type": "stream",
          "text": [
            "['Inceptez', 'is']\n",
            "['is', 'a']\n",
            "['a', 'great']\n",
            "['great', 'platform']\n",
            "['platform', 'to']\n",
            "['to', 'learn']\n",
            "['learn', 'Data']\n",
            "['Data', 'Science']\n"
          ],
          "name": "stdout"
        }
      ]
    },
    {
      "cell_type": "code",
      "metadata": {
        "id": "TsSAweLlLLOr"
      },
      "source": [
        "#Spelling correction \n",
        "blob1 = TextBlob(\"Inceptez is a gret pltfrm to lern Dta Sciene.\")"
      ],
      "execution_count": 97,
      "outputs": []
    },
    {
      "cell_type": "code",
      "metadata": {
        "colab": {
          "base_uri": "https://localhost:8080/"
        },
        "id": "Z6ffvEo6LLLB",
        "outputId": "faeb6bb5-ac3f-4275-d74e-6cb0038bf065"
      },
      "source": [
        "blob1.correct()"
      ],
      "execution_count": 98,
      "outputs": [
        {
          "output_type": "execute_result",
          "data": {
            "text/plain": [
              "TextBlob(\"Inceptez is a great platform to learn Ta Science.\")"
            ]
          },
          "metadata": {
            "tags": []
          },
          "execution_count": 98
        }
      ]
    },
    {
      "cell_type": "code",
      "metadata": {
        "id": "mJWzzbLSLLGP"
      },
      "source": [
        "#Language Translation \n",
        "blob_ar = TextBlob(\"مرحبا كيف حالك\")"
      ],
      "execution_count": 99,
      "outputs": []
    },
    {
      "cell_type": "code",
      "metadata": {
        "colab": {
          "base_uri": "https://localhost:8080/",
          "height": 35
        },
        "id": "y4tyejTxLLBt",
        "outputId": "10cbcdad-d92b-4467-9af0-3d0263730aec"
      },
      "source": [
        "blob_ar.detect_language()"
      ],
      "execution_count": 100,
      "outputs": [
        {
          "output_type": "execute_result",
          "data": {
            "application/vnd.google.colaboratory.intrinsic+json": {
              "type": "string"
            },
            "text/plain": [
              "'ar'"
            ]
          },
          "metadata": {
            "tags": []
          },
          "execution_count": 100
        }
      ]
    },
    {
      "cell_type": "code",
      "metadata": {
        "colab": {
          "base_uri": "https://localhost:8080/"
        },
        "id": "VTPrUf6eKv5T",
        "outputId": "c93c5323-7b35-4cf8-bc2f-19256065a6ce"
      },
      "source": [
        "blob_ar.translate(from_lang='ar',to = 'en')"
      ],
      "execution_count": 101,
      "outputs": [
        {
          "output_type": "execute_result",
          "data": {
            "text/plain": [
              "TextBlob(\"Hello, how are you\")"
            ]
          },
          "metadata": {
            "tags": []
          },
          "execution_count": 101
        }
      ]
    },
    {
      "cell_type": "code",
      "metadata": {
        "colab": {
          "base_uri": "https://localhost:8080/"
        },
        "id": "_IczL0THKvxs",
        "outputId": "368441c4-781c-4434-f213-423f890691ac"
      },
      "source": [
        "blob_ar.translate(to = 'en')"
      ],
      "execution_count": 102,
      "outputs": [
        {
          "output_type": "execute_result",
          "data": {
            "text/plain": [
              "TextBlob(\"Hello, how are you\")"
            ]
          },
          "metadata": {
            "tags": []
          },
          "execution_count": 102
        }
      ]
    },
    {
      "cell_type": "code",
      "metadata": {
        "id": "jYgb3cB_MOHY"
      },
      "source": [
        "#Texblob\n",
        "#Google Translate API \n",
        "#AWS Translate - Most accurate - Costs"
      ],
      "execution_count": null,
      "outputs": []
    },
    {
      "cell_type": "code",
      "metadata": {
        "id": "CsJNBrh6Ki21"
      },
      "source": [
        "import random\n",
        "blob = TextBlob(\"\"\"Inceptez has a thriving commutity of data scientists. This platform allows\n",
        "        people to know more about analytics from its articles, Q&A forums, and learning paths. Also we help\n",
        "        professionals sharpen their skillsets by helping them participate the job industry\"\"\")"
      ],
      "execution_count": 107,
      "outputs": []
    },
    {
      "cell_type": "code",
      "metadata": {
        "colab": {
          "base_uri": "https://localhost:8080/"
        },
        "id": "L8VFyMfbNIfD",
        "outputId": "17387a86-28d2-4cd0-e98d-5178b1f35231"
      },
      "source": [
        "nouns = list()\n",
        "for word, tag in blob.tags:\n",
        "  if tag == 'NN':\n",
        "    nouns.append(word.lemmatize())\n",
        "\n",
        "print(\"The text is all about...\")\n",
        "for item in random.sample(nouns,5):\n",
        "  word = Word(item)\n",
        "  print(word.pluralize())"
      ],
      "execution_count": 108,
      "outputs": [
        {
          "output_type": "stream",
          "text": [
            "The text is all about...\n",
            "platforms\n",
            "commutities\n",
            "jobs\n",
            "industries\n",
            "forums\n"
          ],
          "name": "stdout"
        }
      ]
    },
    {
      "cell_type": "code",
      "metadata": {
        "colab": {
          "base_uri": "https://localhost:8080/"
        },
        "id": "ebMGHEgyT1Nl",
        "outputId": "f7cbf4fb-c143-492b-97b2-4b2bf5e390c0"
      },
      "source": [
        "!pip install emo_unicode"
      ],
      "execution_count": 117,
      "outputs": [
        {
          "output_type": "stream",
          "text": [
            "\u001b[31mERROR: Could not find a version that satisfies the requirement emo_unicode (from versions: none)\u001b[0m\n",
            "\u001b[31mERROR: No matching distribution found for emo_unicode\u001b[0m\n"
          ],
          "name": "stdout"
        }
      ]
    },
    {
      "cell_type": "code",
      "metadata": {
        "colab": {
          "base_uri": "https://localhost:8080/"
        },
        "id": "0kq_T806NnW1",
        "outputId": "c59bd98d-b18e-4272-c274-0095e9ade82a"
      },
      "source": [
        "!pip install emot "
      ],
      "execution_count": 113,
      "outputs": [
        {
          "output_type": "stream",
          "text": [
            "Requirement already satisfied: emot in /usr/local/lib/python3.7/dist-packages (2.1)\n"
          ],
          "name": "stdout"
        }
      ]
    },
    {
      "cell_type": "code",
      "metadata": {
        "colab": {
          "base_uri": "https://localhost:8080/",
          "height": 300
        },
        "id": "jrpC_3H-TrWW",
        "outputId": "1ff9a263-90fe-4844-84c1-582ac070a07d"
      },
      "source": [
        "from emoji import emojize"
      ],
      "execution_count": 116,
      "outputs": [
        {
          "output_type": "error",
          "ename": "ModuleNotFoundError",
          "evalue": "ignored",
          "traceback": [
            "\u001b[0;31m---------------------------------------------------------------------------\u001b[0m",
            "\u001b[0;31mModuleNotFoundError\u001b[0m                       Traceback (most recent call last)",
            "\u001b[0;32m<ipython-input-116-e6ec9ff4e666>\u001b[0m in \u001b[0;36m<module>\u001b[0;34m()\u001b[0m\n\u001b[0;32m----> 1\u001b[0;31m \u001b[0;32mfrom\u001b[0m \u001b[0memoji\u001b[0m \u001b[0;32mimport\u001b[0m \u001b[0memojize\u001b[0m\u001b[0;34m\u001b[0m\u001b[0;34m\u001b[0m\u001b[0m\n\u001b[0m",
            "\u001b[0;31mModuleNotFoundError\u001b[0m: No module named 'emoji'",
            "",
            "\u001b[0;31m---------------------------------------------------------------------------\u001b[0;32m\nNOTE: If your import is failing due to a missing package, you can\nmanually install dependencies using either !pip or !apt.\n\nTo view examples of installing some common dependencies, click the\n\"Open Examples\" button below.\n\u001b[0;31m---------------------------------------------------------------------------\u001b[0m\n"
          ]
        }
      ]
    },
    {
      "cell_type": "code",
      "metadata": {
        "id": "-HggX9LYTwcN"
      },
      "source": [
        "#project develope a preprocessor of you own\n",
        "def strip_htm_tags():\n",
        "  return text\n",
        "\n",
        "def\n",
        "def text_processor(text, html_strip = True,accented_chars = True, contractions = True,):\n",
        "  if html_strip: \n",
        "    text = strip_html_tags(text)\n",
        "  return text"
      ],
      "execution_count": null,
      "outputs": []
    }
  ]
}