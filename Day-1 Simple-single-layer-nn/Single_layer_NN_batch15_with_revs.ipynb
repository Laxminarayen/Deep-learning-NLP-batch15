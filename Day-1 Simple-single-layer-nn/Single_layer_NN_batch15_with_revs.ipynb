{
  "nbformat": 4,
  "nbformat_minor": 0,
  "metadata": {
    "colab": {
      "name": "Single_layer_NN_batch15_with_revs.ipynb",
      "provenance": []
    },
    "kernelspec": {
      "name": "python3",
      "display_name": "Python 3"
    },
    "language_info": {
      "name": "python"
    }
  },
  "cells": [
    {
      "cell_type": "code",
      "metadata": {
        "colab": {
          "base_uri": "https://localhost:8080/"
        },
        "id": "TJtg57zfH9AG",
        "outputId": "c966fe53-41f7-495f-b608-cb2a9c43b7a3"
      },
      "source": [
        "from google.colab import drive\n",
        "drive.mount('/content/drive')"
      ],
      "execution_count": null,
      "outputs": [
        {
          "output_type": "stream",
          "text": [
            "Drive already mounted at /content/drive; to attempt to forcibly remount, call drive.mount(\"/content/drive\", force_remount=True).\n"
          ],
          "name": "stdout"
        }
      ]
    },
    {
      "cell_type": "code",
      "metadata": {
        "colab": {
          "base_uri": "https://localhost:8080/"
        },
        "id": "oopxTBcZ6iUl",
        "outputId": "08403bda-22cc-421d-b15d-195343f3aee1"
      },
      "source": [
        "!ls"
      ],
      "execution_count": null,
      "outputs": [
        {
          "output_type": "stream",
          "text": [
            "drive  sample_data\n"
          ],
          "name": "stdout"
        }
      ]
    },
    {
      "cell_type": "code",
      "metadata": {
        "id": "QgHILXHP6vxY"
      },
      "source": [
        "input_drive = 'drive/MyDrive/datasets/'"
      ],
      "execution_count": null,
      "outputs": []
    },
    {
      "cell_type": "code",
      "metadata": {
        "id": "x__p3oCt60y3"
      },
      "source": [
        "#First neural networ import from keras\n",
        "from numpy import loadtxt \n",
        "from keras.models import Sequential \n",
        "from keras.layers import Dense,BatchNormalization,Dropout"
      ],
      "execution_count": null,
      "outputs": []
    },
    {
      "cell_type": "code",
      "metadata": {
        "id": "rYYzcpDv69eU"
      },
      "source": [
        "dataset = loadtxt(input_drive+'pima-indians-diabetes.data.csv',delimiter=',')"
      ],
      "execution_count": null,
      "outputs": []
    },
    {
      "cell_type": "code",
      "metadata": {
        "id": "6cfUKATi69kK"
      },
      "source": [
        "#Split it into (X) and output (y) variables \n",
        "X = dataset[:, 0:8]\n",
        "y = dataset[:,8]"
      ],
      "execution_count": null,
      "outputs": []
    },
    {
      "cell_type": "code",
      "metadata": {
        "id": "7qvu-KMU73Jd"
      },
      "source": [
        "#define the neural Network\n",
        "model = Sequential()\n",
        "model.add(Dense(8,input_dim=8,activation = 'linear')) #-> input layer should not be taken for count to the number of layers\n",
        "model.add(Dense(8,activation = 'relu')) #-> Hidden Layer\n",
        "model.add(Dense(1,activation = 'sigmoid'))\n",
        "\n",
        "#Hyper -params - # of neurons, # of Hidden layers and Choice of activation"
      ],
      "execution_count": null,
      "outputs": []
    },
    {
      "cell_type": "code",
      "metadata": {
        "id": "RFyO859a-Rn3",
        "colab": {
          "base_uri": "https://localhost:8080/"
        },
        "outputId": "6cbec092-66d0-42a5-bd85-ed758c68f7a6"
      },
      "source": [
        "model.get_weights()"
      ],
      "execution_count": null,
      "outputs": [
        {
          "output_type": "execute_result",
          "data": {
            "text/plain": [
              "[array([[-0.44695163, -0.60194975,  0.1817267 , -0.22145441,  0.2715084 ,\n",
              "         -0.4914927 , -0.11067516, -0.09255862],\n",
              "        [-0.02609301, -0.04212463, -0.01422268,  0.24776614, -0.5947834 ,\n",
              "          0.16867173, -0.07423639, -0.40836078],\n",
              "        [-0.13025638,  0.26624268, -0.26604474, -0.08966827, -0.60101926,\n",
              "          0.16871798,  0.5334243 ,  0.52425903],\n",
              "        [ 0.27295876,  0.15394151, -0.27919707, -0.12215289,  0.27412575,\n",
              "          0.50290245,  0.02928299, -0.24782863],\n",
              "        [ 0.2942261 , -0.1441412 , -0.29725155,  0.4620213 , -0.5348388 ,\n",
              "          0.25961   ,  0.15729606,  0.60168046],\n",
              "        [-0.21131948,  0.5746893 , -0.4071281 ,  0.19515848,  0.50798255,\n",
              "          0.55769914, -0.35714042, -0.03108406],\n",
              "        [ 0.39704663,  0.24502128,  0.5410767 ,  0.36048937,  0.0251084 ,\n",
              "         -0.02694052,  0.25924778, -0.31605414],\n",
              "        [ 0.47240013,  0.5862034 , -0.31634265,  0.4425463 ,  0.27965802,\n",
              "          0.54569703, -0.48927262, -0.37545288]], dtype=float32),\n",
              " array([0., 0., 0., 0., 0., 0., 0., 0.], dtype=float32),\n",
              " array([[ 0.2979316 , -0.30376524,  0.02130884,  0.5942313 ,  0.38463944,\n",
              "         -0.4164412 ,  0.17847186,  0.4925229 ],\n",
              "        [-0.16134173, -0.24614874, -0.49930578,  0.24396574,  0.12965107,\n",
              "          0.4915977 , -0.41182727, -0.4399018 ],\n",
              "        [-0.31827906, -0.04347283, -0.31302783,  0.5743951 , -0.30920333,\n",
              "          0.23007298,  0.04276425,  0.58608526],\n",
              "        [-0.41943392, -0.5315221 , -0.01118672, -0.03736502,  0.06815094,\n",
              "         -0.2943495 ,  0.289966  ,  0.46144313],\n",
              "        [-0.3170081 , -0.09655339, -0.09737051, -0.27948454, -0.41446495,\n",
              "          0.15656912,  0.2958057 , -0.22581488],\n",
              "        [-0.32218546,  0.2059325 , -0.3297394 ,  0.4953552 ,  0.58224934,\n",
              "         -0.06629056,  0.5219546 ,  0.15577966],\n",
              "        [ 0.30470067,  0.2946024 ,  0.06321359,  0.5551993 ,  0.09426057,\n",
              "         -0.18742436, -0.51226586,  0.2031573 ],\n",
              "        [ 0.0970946 ,  0.27499062,  0.00446063,  0.37463278, -0.07929647,\n",
              "          0.03106785, -0.15277818,  0.37114877]], dtype=float32),\n",
              " array([0., 0., 0., 0., 0., 0., 0., 0.], dtype=float32),\n",
              " array([[-0.5463483 ],\n",
              "        [-0.20325553],\n",
              "        [ 0.2838273 ],\n",
              "        [-0.3907825 ],\n",
              "        [-0.46661228],\n",
              "        [ 0.10004532],\n",
              "        [-0.5940324 ],\n",
              "        [ 0.21115303]], dtype=float32),\n",
              " array([0.], dtype=float32)]"
            ]
          },
          "metadata": {
            "tags": []
          },
          "execution_count": 57
        }
      ]
    },
    {
      "cell_type": "code",
      "metadata": {
        "id": "UcIKOr-h73Mf"
      },
      "source": [
        "#Compile the keras model \n",
        "model.compile(loss = 'binary_crossentropy',metrics=['accuracy'],optimizer='adam')\n",
        "\n",
        "#Hyper -params - Loss, metrics, optimizer"
      ],
      "execution_count": null,
      "outputs": []
    },
    {
      "cell_type": "code",
      "metadata": {
        "colab": {
          "base_uri": "https://localhost:8080/"
        },
        "id": "OXy3CFQQ73PV",
        "outputId": "a8b94219-69f2-4014-ca2e-c7cd3abbde6e"
      },
      "source": [
        "#Model Fit \n",
        "model.fit(X,y,epochs =10,batch_size = 10)\n",
        "\n",
        "#hyper params - epochs, batch_size"
      ],
      "execution_count": null,
      "outputs": [
        {
          "output_type": "stream",
          "text": [
            "Epoch 1/10\n",
            "77/77 [==============================] - 1s 1ms/step - loss: 5.6966 - accuracy: 0.5014\n",
            "Epoch 2/10\n",
            "77/77 [==============================] - 0s 1ms/step - loss: 2.3307 - accuracy: 0.4949\n",
            "Epoch 3/10\n",
            "77/77 [==============================] - 0s 1ms/step - loss: 1.9035 - accuracy: 0.5340\n",
            "Epoch 4/10\n",
            "77/77 [==============================] - 0s 1ms/step - loss: 1.4029 - accuracy: 0.5843\n",
            "Epoch 5/10\n",
            "77/77 [==============================] - 0s 1ms/step - loss: 1.2163 - accuracy: 0.6086\n",
            "Epoch 6/10\n",
            "77/77 [==============================] - 0s 1ms/step - loss: 1.0568 - accuracy: 0.6106\n",
            "Epoch 7/10\n",
            "77/77 [==============================] - 0s 1ms/step - loss: 1.0703 - accuracy: 0.6518\n",
            "Epoch 8/10\n",
            "77/77 [==============================] - 0s 1ms/step - loss: 1.0613 - accuracy: 0.5689\n",
            "Epoch 9/10\n",
            "77/77 [==============================] - 0s 1ms/step - loss: 0.9853 - accuracy: 0.6410\n",
            "Epoch 10/10\n",
            "77/77 [==============================] - 0s 1ms/step - loss: 0.8970 - accuracy: 0.6322\n"
          ],
          "name": "stdout"
        },
        {
          "output_type": "execute_result",
          "data": {
            "text/plain": [
              "<keras.callbacks.History at 0x7f59152a02d0>"
            ]
          },
          "metadata": {
            "tags": []
          },
          "execution_count": 51
        }
      ]
    },
    {
      "cell_type": "code",
      "metadata": {
        "colab": {
          "base_uri": "https://localhost:8080/"
        },
        "id": "hBnLb0Bj73S1",
        "outputId": "1c08beaa-e3f9-41dc-c919-195e77a24d45"
      },
      "source": [
        "_,accuracy = model.evaluate(X,y)\n",
        "print(\"Accuracy: %.2f\" % (accuracy*100))"
      ],
      "execution_count": null,
      "outputs": [
        {
          "output_type": "stream",
          "text": [
            "24/24 [==============================] - 0s 1ms/step - loss: 0.7774 - accuracy: 0.6706\n",
            "Accuracy: 67.06\n"
          ],
          "name": "stdout"
        }
      ]
    },
    {
      "cell_type": "code",
      "metadata": {
        "id": "Zdf6-KPR9h6-"
      },
      "source": [
        ""
      ],
      "execution_count": null,
      "outputs": []
    },
    {
      "cell_type": "code",
      "metadata": {
        "id": "uYNYpzT--_TV"
      },
      "source": [
        "#Make probalitiy predictions with the model \n",
        "predictions = model.predict(X)\n",
        "#round your predictions \n",
        "round = [round(x[0]) for x in predictions]"
      ],
      "execution_count": null,
      "outputs": []
    },
    {
      "cell_type": "code",
      "metadata": {
        "colab": {
          "base_uri": "https://localhost:8080/"
        },
        "id": "BA9KuOFH69m7",
        "outputId": "f9356c6e-995e-46dd-d5ad-4d88891d6ebe"
      },
      "source": [
        "#Make the model predict classes \n",
        "predictions = model.predict_classes(X)"
      ],
      "execution_count": null,
      "outputs": [
        {
          "output_type": "stream",
          "text": [
            "/usr/local/lib/python3.7/dist-packages/keras/engine/sequential.py:450: UserWarning: `model.predict_classes()` is deprecated and will be removed after 2021-01-01. Please use instead:* `np.argmax(model.predict(x), axis=-1)`,   if your model does multi-class classification   (e.g. if it uses a `softmax` last-layer activation).* `(model.predict(x) > 0.5).astype(\"int32\")`,   if your model does binary classification   (e.g. if it uses a `sigmoid` last-layer activation).\n",
            "  warnings.warn('`model.predict_classes()` is deprecated and '\n"
          ],
          "name": "stderr"
        }
      ]
    },
    {
      "cell_type": "code",
      "metadata": {
        "colab": {
          "base_uri": "https://localhost:8080/"
        },
        "id": "TPTHkIi869p7",
        "outputId": "a189c278-7c39-40b4-80f0-e42bb50b825a"
      },
      "source": [
        "for i in range(5):\n",
        "  print(\"%s ------> %d (expected %d)\" % (X[i].tolist(),predictions[i],y[i]))"
      ],
      "execution_count": null,
      "outputs": [
        {
          "output_type": "stream",
          "text": [
            "[6.0, 148.0, 72.0, 35.0, 0.0, 33.6, 0.627, 50.0] ------> 1 (expected 1)\n",
            "[1.0, 85.0, 66.0, 29.0, 0.0, 26.6, 0.351, 31.0] ------> 0 (expected 0)\n",
            "[8.0, 183.0, 64.0, 0.0, 0.0, 23.3, 0.672, 32.0] ------> 1 (expected 1)\n",
            "[1.0, 89.0, 66.0, 23.0, 94.0, 28.1, 0.167, 21.0] ------> 0 (expected 0)\n",
            "[0.0, 137.0, 40.0, 35.0, 168.0, 43.1, 2.288, 33.0] ------> 1 (expected 1)\n"
          ],
          "name": "stdout"
        }
      ]
    },
    {
      "cell_type": "code",
      "metadata": {
        "id": "v5YfIZFF0SZQ"
      },
      "source": [
        ""
      ],
      "execution_count": null,
      "outputs": []
    },
    {
      "cell_type": "code",
      "metadata": {
        "id": "u6sMqC2S0Sb2"
      },
      "source": [
        ""
      ],
      "execution_count": null,
      "outputs": []
    },
    {
      "cell_type": "code",
      "metadata": {
        "id": "mQaDcUAv0SfW"
      },
      "source": [
        ""
      ],
      "execution_count": null,
      "outputs": []
    },
    {
      "cell_type": "code",
      "metadata": {
        "id": "ihCd_VsL0SiQ"
      },
      "source": [
        ""
      ],
      "execution_count": null,
      "outputs": []
    },
    {
      "cell_type": "code",
      "metadata": {
        "id": "YOwb-GDs0SlZ"
      },
      "source": [
        ""
      ],
      "execution_count": null,
      "outputs": []
    },
    {
      "cell_type": "code",
      "metadata": {
        "id": "3puK0WBK0So3"
      },
      "source": [
        ""
      ],
      "execution_count": null,
      "outputs": []
    },
    {
      "cell_type": "code",
      "metadata": {
        "id": "OnIijRl00SsC"
      },
      "source": [
        ""
      ],
      "execution_count": null,
      "outputs": []
    },
    {
      "cell_type": "code",
      "metadata": {
        "id": "KTPS9CVM0Sv_"
      },
      "source": [
        ""
      ],
      "execution_count": null,
      "outputs": []
    },
    {
      "cell_type": "code",
      "metadata": {
        "id": "FsBy6BVg0Syb"
      },
      "source": [
        ""
      ],
      "execution_count": null,
      "outputs": []
    },
    {
      "cell_type": "code",
      "metadata": {
        "id": "HX0nb0Tv0S18"
      },
      "source": [
        ""
      ],
      "execution_count": null,
      "outputs": []
    },
    {
      "cell_type": "code",
      "metadata": {
        "colab": {
          "base_uri": "https://localhost:8080/"
        },
        "id": "PnUMn6Z-0S5Q",
        "outputId": "e20b5448-362a-49fb-a627-d7256f0a6d17"
      },
      "source": [
        "from keras import optimizers \n",
        "sgd = optimizers.SGD(lr = 0.01)"
      ],
      "execution_count": null,
      "outputs": [
        {
          "output_type": "stream",
          "text": [
            "/usr/local/lib/python3.7/dist-packages/tensorflow/python/keras/optimizer_v2/optimizer_v2.py:375: UserWarning: The `lr` argument is deprecated, use `learning_rate` instead.\n",
            "  \"The `lr` argument is deprecated, use `learning_rate` instead.\")\n"
          ],
          "name": "stderr"
        }
      ]
    },
    {
      "cell_type": "code",
      "metadata": {
        "id": "Ad_06Pn5z9Y5"
      },
      "source": [
        "model = Sequential([\n",
        "                    Dense(8,input_dim=8,activation = 'linear'),\n",
        "                    Dense(8,activation = 'relu',kernel_initializer = 'glorot_uniform'),\n",
        "                    Dense(1,activation = 'sigmoid')\n",
        "])"
      ],
      "execution_count": null,
      "outputs": []
    },
    {
      "cell_type": "code",
      "metadata": {
        "id": "9doBed15_fR0"
      },
      "source": [
        "#Adding proper initialization method to neural network \n",
        "model = Sequential()\n",
        "model.add(Dense(8,input_dim=8,activation = 'linear')) #-> input layer should not be taken for count to the number of layers\n",
        "model.add(Dense(8,activation = 'relu',kernel_initializer = 'glorot_uniform')) #-> Hidden Layer\n",
        "model.add(Dense(1,activation = 'sigmoid'))\n",
        "\n",
        "#Hyper -params - # of neurons, # of Hidden layers and Choice of activation"
      ],
      "execution_count": null,
      "outputs": []
    },
    {
      "cell_type": "code",
      "metadata": {
        "id": "Axb3M5Z-vJdr"
      },
      "source": [
        "#define the neural Network\n",
        "model = Sequential()\n",
        "model.add(Dense(8,input_dim=8,activation = 'linear')) #-> input layer should not be taken for count to the number of layers\n",
        "model.add(Dense(8,activation = 'relu',kernel_initializer = 'glorot_uniform')) #-> Hidden Layer\n",
        "model.add(BatchNormalization(axis = 1)) #columns axis\n",
        "model.add(Dense(1,activation = 'sigmoid'))"
      ],
      "execution_count": null,
      "outputs": []
    },
    {
      "cell_type": "code",
      "metadata": {
        "id": "z1NU54aJvJgZ"
      },
      "source": [
        "#Regularization \n",
        "from keras import regularizers\n",
        "model = Sequential([\n",
        "                    Dense(8,input_dim=8,activation = 'linear'),\n",
        "                    Dense(8,activation = 'relu',kernel_initializer = 'glorot_uniform',kernel_regularizer = regularizers.l2(0.01)),\n",
        "                    Dense(1,activation = 'sigmoid')\n",
        "])"
      ],
      "execution_count": null,
      "outputs": []
    },
    {
      "cell_type": "code",
      "metadata": {
        "id": "HLXivPz8vJjR"
      },
      "source": [
        "\n",
        "#define the neural Network\n",
        "model = Sequential()\n",
        "model.add(Dense(8,input_dim=8,activation = 'linear')) #-> input layer should not be taken for count to the number of layers\n",
        "model.add(Dense(8,activation = 'relu',kernel_initializer = 'glorot_uniform')) #-> Hidden Layer\n",
        "model.add(Dropout(0.2))\n",
        "model.add(Dense(1,activation = 'sigmoid'))"
      ],
      "execution_count": null,
      "outputs": []
    },
    {
      "cell_type": "code",
      "metadata": {
        "id": "JpNXsFB2vJmL"
      },
      "source": [
        "#Compile the keras model \n",
        "model.compile(loss = 'binary_crossentropy',metrics=['accuracy'],optimizer='adam')\n",
        "\n",
        "#Hyper -params - Loss, metrics, optimizer"
      ],
      "execution_count": null,
      "outputs": []
    },
    {
      "cell_type": "code",
      "metadata": {
        "colab": {
          "base_uri": "https://localhost:8080/"
        },
        "id": "6v6_RqTPGOMg",
        "outputId": "50d8fc13-c50c-4ce8-e670-1d73d13020f6"
      },
      "source": [
        "#Model Fit \n",
        "model.fit(X,y,epochs =10,batch_size = 10,validation_split = 0.2)\n"
      ],
      "execution_count": null,
      "outputs": [
        {
          "output_type": "stream",
          "text": [
            "Epoch 1/10\n",
            "62/62 [==============================] - 1s 6ms/step - loss: 26.1451 - accuracy: 0.4032 - val_loss: 9.3961 - val_accuracy: 0.5325\n",
            "Epoch 2/10\n",
            "62/62 [==============================] - 0s 2ms/step - loss: 9.5998 - accuracy: 0.4847 - val_loss: 2.6676 - val_accuracy: 0.5584\n",
            "Epoch 3/10\n",
            "62/62 [==============================] - 0s 2ms/step - loss: 4.3999 - accuracy: 0.5577 - val_loss: 1.2149 - val_accuracy: 0.7013\n",
            "Epoch 4/10\n",
            "62/62 [==============================] - 0s 2ms/step - loss: 2.1863 - accuracy: 0.6331 - val_loss: 1.0664 - val_accuracy: 0.6299\n",
            "Epoch 5/10\n",
            "62/62 [==============================] - 0s 2ms/step - loss: 2.0187 - accuracy: 0.6411 - val_loss: 0.8280 - val_accuracy: 0.6364\n",
            "Epoch 6/10\n",
            "62/62 [==============================] - 0s 2ms/step - loss: 1.6053 - accuracy: 0.6313 - val_loss: 0.8171 - val_accuracy: 0.5909\n",
            "Epoch 7/10\n",
            "62/62 [==============================] - 0s 2ms/step - loss: 0.9295 - accuracy: 0.6445 - val_loss: 0.7840 - val_accuracy: 0.6039\n",
            "Epoch 8/10\n",
            "62/62 [==============================] - 0s 2ms/step - loss: 1.1069 - accuracy: 0.6528 - val_loss: 0.7057 - val_accuracy: 0.6429\n",
            "Epoch 9/10\n",
            "62/62 [==============================] - 0s 2ms/step - loss: 0.9286 - accuracy: 0.6888 - val_loss: 0.6822 - val_accuracy: 0.6364\n",
            "Epoch 10/10\n",
            "62/62 [==============================] - 0s 2ms/step - loss: 0.8259 - accuracy: 0.6587 - val_loss: 0.6649 - val_accuracy: 0.6299\n"
          ],
          "name": "stdout"
        },
        {
          "output_type": "execute_result",
          "data": {
            "text/plain": [
              "<keras.callbacks.History at 0x7f591280c610>"
            ]
          },
          "metadata": {
            "tags": []
          },
          "execution_count": 63
        }
      ]
    },
    {
      "cell_type": "code",
      "metadata": {
        "colab": {
          "base_uri": "https://localhost:8080/"
        },
        "id": "bbQ_e_nMGfck",
        "outputId": "085f1831-c3ba-4deb-dff5-de36ebae481b"
      },
      "source": [
        "model.get_weights()"
      ],
      "execution_count": null,
      "outputs": [
        {
          "output_type": "execute_result",
          "data": {
            "text/plain": [
              "[array([[-0.29606292,  0.3113478 , -0.13509502,  0.34819633,  0.34851494,\n",
              "         -0.4865019 , -0.28813067,  0.23885003],\n",
              "        [-0.1812956 ,  0.36380637, -0.17074922,  0.05738418,  0.04834149,\n",
              "         -0.49323085,  0.43933964, -0.03284689],\n",
              "        [ 0.38125178,  0.1396115 ,  0.03865846,  0.2523835 ,  0.18142833,\n",
              "          0.4879949 ,  0.1545195 ,  0.45795515],\n",
              "        [-0.4037267 , -0.56093127,  0.43431738,  0.03362556,  0.62020993,\n",
              "         -0.2976811 , -0.12677938, -0.30539078],\n",
              "        [-0.15001018, -0.57438815,  0.4612012 ,  0.50884867,  0.45075116,\n",
              "          0.43529716, -0.44853276, -0.15934332],\n",
              "        [ 0.55866086, -0.70146376,  0.5880915 , -0.18332988,  0.5476734 ,\n",
              "         -0.21125396,  0.31100613,  0.18223238],\n",
              "        [ 0.13541093,  0.2838553 , -0.18024991, -0.5200397 ,  0.4172048 ,\n",
              "          0.18538205, -0.20534155,  0.01292447],\n",
              "        [ 0.38448173, -0.38743687, -0.35458073, -0.14398244,  0.19280891,\n",
              "          0.42610556,  0.44306976, -0.11106968]], dtype=float32),\n",
              " array([ 0.14222519, -0.14965539,  0.09649695, -0.07681035,  0.1650737 ,\n",
              "         0.05081812,  0.008911  ,  0.18875936], dtype=float32),\n",
              " array([[ 0.2794174 , -0.05051219, -0.22864322,  0.51720333, -0.52631366,\n",
              "          0.56902033, -0.56524915, -0.48182157],\n",
              "        [ 0.33052298, -0.08139839,  0.27005503, -0.52685905, -0.46344283,\n",
              "         -0.11294477,  0.13746627,  0.414554  ],\n",
              "        [-0.37779957, -0.648216  ,  0.4134644 , -0.3656567 ,  0.24045277,\n",
              "          0.38423964,  0.01926985, -0.10172465],\n",
              "        [-0.48725662,  0.02799377, -0.41761246,  0.45419565, -0.27691835,\n",
              "         -0.07953732,  0.26507404,  0.44783467],\n",
              "        [ 0.1823629 ,  0.17767711, -0.0872516 , -0.37825668, -0.48852003,\n",
              "         -0.49246255, -0.1570553 , -0.64366114],\n",
              "        [-0.10942928,  0.35180497,  0.4657357 , -0.27029014, -0.46785372,\n",
              "          0.00864504, -0.30643788,  0.26277375],\n",
              "        [-0.33465216, -0.46469504, -0.16042198, -0.5490954 , -0.32571036,\n",
              "         -0.43835688,  0.02131654,  0.18588296],\n",
              "        [-0.45842898,  0.23583506, -0.20535319,  0.2815649 ,  0.24619733,\n",
              "         -0.57411945, -0.53356606, -0.19544642]], dtype=float32),\n",
              " array([-0.17094094, -0.05954336, -0.03454672, -0.02860655, -0.00882288,\n",
              "        -0.04928723, -0.18106212, -0.14222947], dtype=float32),\n",
              " array([[ 0.41104966],\n",
              "        [-0.09022341],\n",
              "        [-0.6940698 ],\n",
              "        [ 0.08399794],\n",
              "        [-0.4952587 ],\n",
              "        [ 0.4831303 ],\n",
              "        [ 0.20883061],\n",
              "        [ 0.5782581 ]], dtype=float32),\n",
              " array([-0.34793195], dtype=float32)]"
            ]
          },
          "metadata": {
            "tags": []
          },
          "execution_count": 64
        }
      ]
    },
    {
      "cell_type": "code",
      "metadata": {
        "id": "ogIcCqDzGncq"
      },
      "source": [
        ""
      ],
      "execution_count": null,
      "outputs": []
    }
  ]
}