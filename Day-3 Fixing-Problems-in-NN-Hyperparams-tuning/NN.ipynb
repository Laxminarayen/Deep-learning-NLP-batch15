{
  "nbformat": 4,
  "nbformat_minor": 0,
  "metadata": {
    "colab": {
      "name": "NN.ipynb",
      "provenance": []
    },
    "kernelspec": {
      "name": "python3",
      "display_name": "Python 3"
    },
    "language_info": {
      "name": "python"
    }
  },
  "cells": [
    {
      "cell_type": "code",
      "metadata": {
        "colab": {
          "base_uri": "https://localhost:8080/"
        },
        "id": "V7YUDjSB9Yld",
        "outputId": "23c699db-8ada-4562-9946-ba42b58d6c5e"
      },
      "source": [
        "from google.colab import drive\n",
        "drive.mount('/content/drive')"
      ],
      "execution_count": null,
      "outputs": [
        {
          "output_type": "stream",
          "text": [
            "Mounted at /content/drive\n"
          ],
          "name": "stdout"
        }
      ]
    },
    {
      "cell_type": "code",
      "metadata": {
        "id": "JTMJ1224_Myd"
      },
      "source": [
        "input_drive = \"drive/MyDrive/datasets/\""
      ],
      "execution_count": null,
      "outputs": []
    },
    {
      "cell_type": "code",
      "metadata": {
        "id": "MAOKjhspRNhl"
      },
      "source": [
        "import keras"
      ],
      "execution_count": null,
      "outputs": []
    },
    {
      "cell_type": "code",
      "metadata": {
        "id": "ueEQZ93-_adw"
      },
      "source": [
        "# first neural network with keras tutorial\n",
        "from numpy import loadtxt\n",
        "from keras.models import Sequential\n",
        "from keras.layers import Dense"
      ],
      "execution_count": null,
      "outputs": []
    },
    {
      "cell_type": "code",
      "metadata": {
        "id": "wOaUCwnW_g0W"
      },
      "source": [
        "# load the dataset\n",
        "dataset = loadtxt(input_drive+'pima-indians-diabetes.data.csv', delimiter=',')\n",
        "# split into input (X) and output (y) variables\n",
        "X = dataset[:,0:8]\n",
        "y = dataset[:,8]"
      ],
      "execution_count": null,
      "outputs": []
    },
    {
      "cell_type": "code",
      "metadata": {
        "id": "IpWAP_lJ_nIt"
      },
      "source": [
        "# define the keras model\n",
        "model = Sequential()\n",
        "model.add(Dense(8, input_dim=8, activation='linear'))\n",
        "model.add(Dense(8, activation='relu'))\n",
        "model.add(Dense(1, activation='sigmoid'))"
      ],
      "execution_count": null,
      "outputs": []
    },
    {
      "cell_type": "code",
      "metadata": {
        "id": "ApFkolnqSM-z"
      },
      "source": [
        "model = Sequential(\n",
        "    [\n",
        "     Dense(12,input_dim = 8,activation ='linear'),\n",
        "     Dense(8,activation = 'relu'),\n",
        "     Dense(1,activation = 'sigmoid')\n",
        "    ]\n",
        ")"
      ],
      "execution_count": null,
      "outputs": []
    },
    {
      "cell_type": "code",
      "metadata": {
        "colab": {
          "base_uri": "https://localhost:8080/"
        },
        "id": "NZ9JeFasSH7q",
        "outputId": "a970ee55-159f-4f94-c044-b38975b49e97"
      },
      "source": [
        "model.get_weights()"
      ],
      "execution_count": null,
      "outputs": [
        {
          "output_type": "execute_result",
          "data": {
            "text/plain": [
              "[array([[ 0.5228471 , -0.4097929 , -0.4636842 , -0.5689293 , -0.15873984,\n",
              "          0.49551946, -0.16109133, -0.10973608],\n",
              "        [-0.24632233, -0.11412063, -0.07705671,  0.11132383,  0.2612477 ,\n",
              "          0.5569157 ,  0.44722825,  0.4203251 ],\n",
              "        [-0.08829612, -0.00366843, -0.52285546, -0.22994438, -0.17104626,\n",
              "          0.43660158, -0.25616032,  0.34101737],\n",
              "        [ 0.14750987, -0.15033808,  0.1891908 ,  0.47847682,  0.07866341,\n",
              "          0.2517603 , -0.05314422,  0.01407009],\n",
              "        [-0.01800835,  0.55604035,  0.47703654,  0.40882784, -0.05837673,\n",
              "          0.4759403 ,  0.09815484, -0.5103004 ],\n",
              "        [-0.12285617, -0.31253305,  0.4776407 , -0.42780373, -0.42439795,\n",
              "         -0.22135338,  0.4231661 , -0.5421651 ],\n",
              "        [ 0.03245515, -0.5045459 , -0.23120421, -0.01013422,  0.31445366,\n",
              "          0.4008357 ,  0.38748378, -0.01666629],\n",
              "        [ 0.2271949 , -0.11758026, -0.26968598, -0.343441  ,  0.13150334,\n",
              "          0.24616146,  0.21050304,  0.23867404]], dtype=float32),\n",
              " array([0., 0., 0., 0., 0., 0., 0., 0.], dtype=float32),\n",
              " array([[ 0.12953544,  0.5329605 , -0.45419544,  0.14523345, -0.01397187,\n",
              "          0.08774453, -0.5593881 ,  0.5587879 ],\n",
              "        [ 0.0328908 , -0.20323598,  0.6116299 , -0.5285659 , -0.24490628,\n",
              "         -0.2005246 ,  0.09688014,  0.00915629],\n",
              "        [ 0.25195128, -0.5777422 ,  0.03036952, -0.39249498,  0.17982882,\n",
              "          0.137456  , -0.4293677 ,  0.54386145],\n",
              "        [-0.01554078, -0.09214193, -0.1578567 ,  0.1672777 ,  0.23791355,\n",
              "          0.3291329 , -0.06259221,  0.0696305 ],\n",
              "        [ 0.47142678, -0.44954926,  0.21291715, -0.40927824,  0.20935649,\n",
              "         -0.21801478,  0.00982982,  0.22736865],\n",
              "        [-0.03753847, -0.12227479,  0.48286706,  0.5493569 ,  0.5732953 ,\n",
              "          0.32754588,  0.02052104, -0.10017973],\n",
              "        [ 0.4387552 ,  0.4144346 , -0.45099348,  0.14140123,  0.0917924 ,\n",
              "         -0.14629722,  0.22855079, -0.5384872 ],\n",
              "        [-0.23341072,  0.03967094, -0.00225645,  0.5761394 ,  0.58975476,\n",
              "         -0.22925219,  0.49349338, -0.5555616 ]], dtype=float32),\n",
              " array([0., 0., 0., 0., 0., 0., 0., 0.], dtype=float32),\n",
              " array([[-0.7485077 ],\n",
              "        [ 0.60289013],\n",
              "        [ 0.7277123 ],\n",
              "        [ 0.43713474],\n",
              "        [ 0.63671803],\n",
              "        [-0.13897151],\n",
              "        [-0.5527427 ],\n",
              "        [-0.1764558 ]], dtype=float32),\n",
              " array([0.], dtype=float32)]"
            ]
          },
          "metadata": {
            "tags": []
          },
          "execution_count": 16
        }
      ]
    },
    {
      "cell_type": "code",
      "metadata": {
        "id": "fBAd3tXMVUhy"
      },
      "source": [
        "#In- Compile - Improvement defenition"
      ],
      "execution_count": null,
      "outputs": []
    },
    {
      "cell_type": "code",
      "metadata": {
        "id": "NH8l4NiUZiaq"
      },
      "source": [
        "from keras import optimizers"
      ],
      "execution_count": null,
      "outputs": []
    },
    {
      "cell_type": "code",
      "metadata": {
        "colab": {
          "base_uri": "https://localhost:8080/"
        },
        "id": "ancSNagkaGf-",
        "outputId": "987f9344-8f16-4648-c837-39f771158f38"
      },
      "source": [
        "sgd = optimizers.SGD(lr= 0.001)"
      ],
      "execution_count": null,
      "outputs": [
        {
          "output_type": "stream",
          "text": [
            "/usr/local/lib/python3.7/dist-packages/tensorflow/python/keras/optimizer_v2/optimizer_v2.py:375: UserWarning: The `lr` argument is deprecated, use `learning_rate` instead.\n",
            "  \"The `lr` argument is deprecated, use `learning_rate` instead.\")\n"
          ],
          "name": "stderr"
        }
      ]
    },
    {
      "cell_type": "code",
      "metadata": {
        "id": "vYjyDQoLaGmy"
      },
      "source": [
        ""
      ],
      "execution_count": null,
      "outputs": []
    },
    {
      "cell_type": "code",
      "metadata": {
        "id": "tPBWOmWs_v0d"
      },
      "source": [
        "# compile the keras model\n",
        "model.compile(loss='binary_crossentropy', optimizer='sgd', metrics=['accuracy'])"
      ],
      "execution_count": null,
      "outputs": []
    },
    {
      "cell_type": "code",
      "metadata": {
        "colab": {
          "base_uri": "https://localhost:8080/"
        },
        "id": "xsFOmNDu_yhW",
        "outputId": "ba5a3969-a8bd-4ae9-853c-6624c82af332"
      },
      "source": [
        "# fit the keras model on the dataset\n",
        "model.fit(X, y, epochs=10, batch_size=10,validation_split = 0.2)"
      ],
      "execution_count": null,
      "outputs": [
        {
          "output_type": "stream",
          "text": [
            "Epoch 1/10\n",
            "62/62 [==============================] - 2s 6ms/step - loss: 5.6205 - accuracy: 0.5013 - val_loss: 0.7191 - val_accuracy: 0.6429\n",
            "Epoch 2/10\n",
            "62/62 [==============================] - 0s 2ms/step - loss: 0.7581 - accuracy: 0.6333 - val_loss: 0.7150 - val_accuracy: 0.6429\n",
            "Epoch 3/10\n",
            "62/62 [==============================] - 0s 2ms/step - loss: 0.7129 - accuracy: 0.6594 - val_loss: 0.7122 - val_accuracy: 0.6429\n",
            "Epoch 4/10\n",
            "62/62 [==============================] - 0s 2ms/step - loss: 0.7853 - accuracy: 0.6243 - val_loss: 0.7095 - val_accuracy: 0.6429\n",
            "Epoch 5/10\n",
            "62/62 [==============================] - 0s 2ms/step - loss: 0.7059 - accuracy: 0.6616 - val_loss: 0.7042 - val_accuracy: 0.6429\n",
            "Epoch 6/10\n",
            "62/62 [==============================] - 0s 2ms/step - loss: 0.7296 - accuracy: 0.6504 - val_loss: 0.7066 - val_accuracy: 0.6429\n",
            "Epoch 7/10\n",
            "62/62 [==============================] - 0s 2ms/step - loss: 0.6899 - accuracy: 0.6790 - val_loss: 0.7026 - val_accuracy: 0.6429\n",
            "Epoch 8/10\n",
            "62/62 [==============================] - 0s 2ms/step - loss: 0.7135 - accuracy: 0.6455 - val_loss: 0.7045 - val_accuracy: 0.6429\n",
            "Epoch 9/10\n",
            "62/62 [==============================] - 0s 2ms/step - loss: 0.7095 - accuracy: 0.6408 - val_loss: 0.7063 - val_accuracy: 0.6429\n",
            "Epoch 10/10\n",
            "62/62 [==============================] - 0s 2ms/step - loss: 0.6864 - accuracy: 0.6655 - val_loss: 0.6985 - val_accuracy: 0.6429\n"
          ],
          "name": "stdout"
        },
        {
          "output_type": "execute_result",
          "data": {
            "text/plain": [
              "<keras.callbacks.History at 0x7f327a3e3410>"
            ]
          },
          "metadata": {
            "tags": []
          },
          "execution_count": 37
        }
      ]
    },
    {
      "cell_type": "code",
      "metadata": {
        "colab": {
          "base_uri": "https://localhost:8080/"
        },
        "id": "deABMC6ZV0Y1",
        "outputId": "4d287371-cba3-4900-ac41-c0713123b540"
      },
      "source": [
        "model.get_weights()"
      ],
      "execution_count": null,
      "outputs": [
        {
          "output_type": "execute_result",
          "data": {
            "text/plain": [
              "[array([[ 0.39801854, -0.33182937, -0.39052022, -0.638257  , -0.07018076,\n",
              "          0.4547248 , -0.12099513, -0.15951625],\n",
              "        [-0.24674536, -0.200472  , -0.01038915,  0.12444294,  0.29256374,\n",
              "          0.52125823,  0.48967963,  0.3923856 ],\n",
              "        [-0.18761876,  0.04796889, -0.53220946, -0.36211962, -0.0440301 ,\n",
              "          0.31964496, -0.10775769,  0.22784324],\n",
              "        [ 0.00452538, -0.01363919,  0.16902417,  0.31607947,  0.20718814,\n",
              "          0.16377547,  0.05107958, -0.08308025],\n",
              "        [-0.03687019,  0.52160937,  0.40144968,  0.33497417, -0.00683371,\n",
              "          0.43104753,  0.16704452, -0.5264975 ],\n",
              "        [-0.09259915, -0.4545804 ,  0.61610967, -0.3663148 , -0.41828373,\n",
              "         -0.2381738 ,  0.4426245 , -0.5467504 ],\n",
              "        [ 0.08860096, -0.6428407 , -0.08861293,  0.04841752,  0.3110036 ,\n",
              "          0.39271688,  0.39742503, -0.01871142],\n",
              "        [ 0.16158248, -0.13426808, -0.1863001 , -0.36834055,  0.18918641,\n",
              "          0.20379382,  0.26019776,  0.20278314]], dtype=float32),\n",
              " array([-0.11893375,  0.04822168, -0.03290844, -0.1393053 ,  0.13903873,\n",
              "        -0.11826052,  0.14736463, -0.12162837], dtype=float32),\n",
              " array([[ 0.06800642,  0.61588746, -0.3685126 ,  0.16568984,  0.04514132,\n",
              "          0.00994473, -0.6164212 ,  0.45669028],\n",
              "        [ 0.09469642, -0.1164238 ,  0.5716663 , -0.56444544, -0.29745206,\n",
              "         -0.13644372,  0.22092968,  0.02569721],\n",
              "        [ 0.19538336, -0.49790093,  0.11140416, -0.22292422,  0.2655958 ,\n",
              "          0.10227396, -0.5001622 ,  0.5560157 ],\n",
              "        [-0.02358234,  0.01238436, -0.10814997,  0.22142658,  0.26150393,\n",
              "          0.32818246, -0.05907354,  0.07765009],\n",
              "        [ 0.50781024, -0.5341917 ,  0.16830307, -0.41647974,  0.17327717,\n",
              "         -0.17314306,  0.04880981,  0.2871258 ],\n",
              "        [ 0.03351539, -0.19847257,  0.4083732 ,  0.51201344,  0.50544816,\n",
              "          0.40299153,  0.10613174, -0.04577051],\n",
              "        [ 0.46151775,  0.33009955, -0.49618074,  0.15498723,  0.06925938,\n",
              "         -0.11542086,  0.2558546 , -0.47494993],\n",
              "        [-0.17897111, -0.03079239, -0.07512017,  0.49895853,  0.5273743 ,\n",
              "         -0.18165618,  0.51236564, -0.55813134]], dtype=float32),\n",
              " array([ 0.15121251, -0.08915611, -0.12992018, -0.1130141 , -0.14095005,\n",
              "         0.17020689,  0.14436303,  0.11872565], dtype=float32),\n",
              " array([[-0.7593727 ],\n",
              "        [ 0.5577247 ],\n",
              "        [ 0.6336579 ],\n",
              "        [ 0.38153696],\n",
              "        [ 0.58159983],\n",
              "        [-0.18825926],\n",
              "        [-0.6096865 ],\n",
              "        [-0.0952767 ]], dtype=float32),\n",
              " array([-0.14340639], dtype=float32)]"
            ]
          },
          "metadata": {
            "tags": []
          },
          "execution_count": 19
        }
      ]
    },
    {
      "cell_type": "code",
      "metadata": {
        "colab": {
          "base_uri": "https://localhost:8080/"
        },
        "id": "hgIXpcGNV-XZ",
        "outputId": "d6b5f7c9-d9ee-4a0a-96ce-993c7ba06e1b"
      },
      "source": [
        "model.summary()"
      ],
      "execution_count": null,
      "outputs": [
        {
          "output_type": "stream",
          "text": [
            "Model: \"sequential_1\"\n",
            "_________________________________________________________________\n",
            "Layer (type)                 Output Shape              Param #   \n",
            "=================================================================\n",
            "dense_3 (Dense)              (None, 8)                 72        \n",
            "_________________________________________________________________\n",
            "dense_4 (Dense)              (None, 8)                 72        \n",
            "_________________________________________________________________\n",
            "dense_5 (Dense)              (None, 1)                 9         \n",
            "=================================================================\n",
            "Total params: 153\n",
            "Trainable params: 153\n",
            "Non-trainable params: 0\n",
            "_________________________________________________________________\n"
          ],
          "name": "stdout"
        }
      ]
    },
    {
      "cell_type": "code",
      "metadata": {
        "colab": {
          "base_uri": "https://localhost:8080/"
        },
        "id": "cPX_H9KK_2oD",
        "outputId": "8f1a6143-db3f-4679-c897-43977e78df0d"
      },
      "source": [
        "# evaluate the keras model\n",
        "_, accuracy = model.evaluate(X, y)\n",
        "print('Accuracy: %.2f' % (accuracy*100))\n"
      ],
      "execution_count": null,
      "outputs": [
        {
          "output_type": "stream",
          "text": [
            "24/24 [==============================] - 0s 1ms/step - loss: 0.6181 - accuracy: 0.6797\n",
            "Accuracy: 67.97\n"
          ],
          "name": "stdout"
        }
      ]
    },
    {
      "cell_type": "code",
      "metadata": {
        "id": "OQYAO2o4__hb"
      },
      "source": [
        "# make probability predictions with the model\n",
        "predictions = model.predict(X)\n",
        "# round predictions \n",
        "rounded = [round(x[0]) for x in predictions]"
      ],
      "execution_count": null,
      "outputs": []
    },
    {
      "cell_type": "code",
      "metadata": {
        "id": "xU8ul0czAFIp",
        "colab": {
          "base_uri": "https://localhost:8080/"
        },
        "outputId": "c87a1a3b-b5d9-4c22-e1d7-dcc470c84106"
      },
      "source": [
        "# make class predictions with the model\n",
        "predictions = model.predict_classes(X)"
      ],
      "execution_count": null,
      "outputs": [
        {
          "output_type": "stream",
          "text": [
            "/usr/local/lib/python3.7/dist-packages/keras/engine/sequential.py:450: UserWarning: `model.predict_classes()` is deprecated and will be removed after 2021-01-01. Please use instead:* `np.argmax(model.predict(x), axis=-1)`,   if your model does multi-class classification   (e.g. if it uses a `softmax` last-layer activation).* `(model.predict(x) > 0.5).astype(\"int32\")`,   if your model does binary classification   (e.g. if it uses a `sigmoid` last-layer activation).\n",
            "  warnings.warn('`model.predict_classes()` is deprecated and '\n"
          ],
          "name": "stderr"
        }
      ]
    },
    {
      "cell_type": "code",
      "metadata": {
        "id": "2m7hlDTvAHXa",
        "colab": {
          "base_uri": "https://localhost:8080/"
        },
        "outputId": "1445d41b-93e9-4e81-fd93-b3ae96a7b31a"
      },
      "source": [
        "for i in range(5):\n",
        "\tprint('%s => %d (expected %d)' % (X[i].tolist(), predictions[i], y[i]))"
      ],
      "execution_count": null,
      "outputs": [
        {
          "output_type": "stream",
          "text": [
            "[6.0, 148.0, 72.0, 35.0, 0.0, 33.6, 0.627, 50.0] => 0 (expected 1)\n",
            "[1.0, 85.0, 66.0, 29.0, 0.0, 26.6, 0.351, 31.0] => 0 (expected 0)\n",
            "[8.0, 183.0, 64.0, 0.0, 0.0, 23.3, 0.672, 32.0] => 1 (expected 1)\n",
            "[1.0, 89.0, 66.0, 23.0, 94.0, 28.1, 0.167, 21.0] => 0 (expected 0)\n",
            "[0.0, 137.0, 40.0, 35.0, 168.0, 43.1, 2.288, 33.0] => 1 (expected 1)\n"
          ],
          "name": "stdout"
        }
      ]
    },
    {
      "cell_type": "code",
      "metadata": {
        "id": "e14RqOtBAKOp"
      },
      "source": [
        ""
      ],
      "execution_count": null,
      "outputs": []
    },
    {
      "cell_type": "code",
      "metadata": {
        "id": "02RYexghnod0"
      },
      "source": [
        "from keras.layers import Dense,BatchNormalization"
      ],
      "execution_count": null,
      "outputs": []
    },
    {
      "cell_type": "code",
      "metadata": {
        "id": "moYS55vDnogi"
      },
      "source": [
        "#Proper initialization to Avoid Gradient Explosion\n",
        "model = Sequential()\n",
        "model.add(Dense(8, input_dim=8, activation='linear'))\n",
        "model.add(Dense(8, activation='relu',kernel_initializer='glorot_uniform'))#Xavier Initialization\n",
        "model.add(Dense(1, activation='sigmoid'))"
      ],
      "execution_count": null,
      "outputs": []
    },
    {
      "cell_type": "code",
      "metadata": {
        "id": "93RbOVNynomQ"
      },
      "source": [
        "#Batch Normalization\n",
        "model = Sequential()\n",
        "model.add(Dense(8, input_dim=8, activation='linear'))\n",
        "model.add(BatchNormalization(axis = 1))\n",
        "model.add(Dense(8, activation='relu'))\n",
        "model.add(BatchNormalization(axis = 1)) #Column Axis\n",
        "model.add(Dense(1, activation='sigmoid'))"
      ],
      "execution_count": null,
      "outputs": []
    },
    {
      "cell_type": "code",
      "metadata": {
        "id": "AXjx-niDoapU"
      },
      "source": [
        "#Proper initialization to Avoid Gradient Explosion\n",
        "model = Sequential()\n",
        "model.add(Dense(8, input_dim=8, activation='linear'))\n",
        "model.add(Dense(8, activation='sigmoid',kernel_initializer='glorot_uniform'))#Xavier Initialization\n",
        "model.add(Dense(1))"
      ],
      "execution_count": null,
      "outputs": []
    },
    {
      "cell_type": "code",
      "metadata": {
        "id": "tKzUgPu3pNWf"
      },
      "source": [
        "#Proper initialization to Avoid Gradient Explosion\n",
        "model = Sequential()\n",
        "model.add(Dense(8, input_dim=8, activation='linear'))\n",
        "model.add(Dense(8, activation='selu',kernel_initializer='glorot_uniform'))#Xavier Initialization\n",
        "model.add(Dense(1, activation='sigmoid'))"
      ],
      "execution_count": null,
      "outputs": []
    },
    {
      "cell_type": "code",
      "metadata": {
        "id": "PUpfRV4IpO21"
      },
      "source": [
        "#Regularization L2\n",
        "from keras import regularizers\n",
        "\n",
        "model = Sequential()\n",
        "model.add(Dense(8, input_dim=8, activation='linear'))\n",
        "model.add(Dense(8, activation='selu',kernel_regularizer=regularizers.l2(0.01)))#L2 Regularization\n",
        "model.add(Dense(1, activation='sigmoid'))"
      ],
      "execution_count": null,
      "outputs": []
    },
    {
      "cell_type": "code",
      "metadata": {
        "id": "BI84SBHwvpD2"
      },
      "source": [
        "from keras.layers import Dense,BatchNormalization,Dropout"
      ],
      "execution_count": null,
      "outputs": []
    },
    {
      "cell_type": "code",
      "metadata": {
        "id": "nPAKTHTEvLZI"
      },
      "source": [
        "#Regularization L2\n",
        "from keras import regularizers\n",
        "\n",
        "model = Sequential()\n",
        "model.add(Dense(8, input_dim=8, activation='linear'))\n",
        "model.add(Dropout(0.2))\n",
        "model.add(Dense(8, activation='selu',kernel_regularizer=regularizers.l2(0.01)))#L2 Regularization\n",
        "model.add(Dense(1, activation='sigmoid'))"
      ],
      "execution_count": null,
      "outputs": []
    },
    {
      "cell_type": "code",
      "metadata": {
        "id": "W6GGBowBv3mx"
      },
      "source": [
        ""
      ],
      "execution_count": null,
      "outputs": []
    }
  ]
}